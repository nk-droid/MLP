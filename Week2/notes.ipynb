{
 "cells": [
  {
   "cell_type": "code",
   "execution_count": 349,
   "metadata": {},
   "outputs": [],
   "source": [
    "import numpy as np\n",
    "import matplotlib.pyplot as plt\n",
    "import pandas as pd\n",
    "import seaborn as sns\n",
    "from IPython.display import display, Math, Latex \n",
    "sns.set_theme(style = 'darkgrid')\n",
    "\n",
    "%matplotlib inline\n"
   ]
  },
  {
   "cell_type": "markdown",
   "metadata": {},
   "source": [
    "FEATURE EXTRACTION"
   ]
  },
  {
   "cell_type": "markdown",
   "metadata": {},
   "source": [
    "DictVectorizer : Converts a dictionary into an array."
   ]
  },
  {
   "cell_type": "code",
   "execution_count": 350,
   "metadata": {},
   "outputs": [],
   "source": [
    "data = [{'age' : 1, 'height' : 75},\n",
    "        {'age' : 5, 'height' : 98.8},\n",
    "        {'age' : 10, 'height' : 108.5},\n",
    "        {'age' : 2, 'height' : 96.3}]"
   ]
  },
  {
   "cell_type": "code",
   "execution_count": 351,
   "metadata": {},
   "outputs": [
    {
     "data": {
      "text/plain": [
       "array([[  1. ,  75. ],\n",
       "       [  5. ,  98.8],\n",
       "       [ 10. , 108.5],\n",
       "       [  2. ,  96.3]])"
      ]
     },
     "execution_count": 351,
     "metadata": {},
     "output_type": "execute_result"
    }
   ],
   "source": [
    "from sklearn.feature_extraction import DictVectorizer\n",
    "dv = DictVectorizer(sparse = False)\n",
    "data_transformed = dv.fit_transform(data)\n",
    "data_transformed"
   ]
  },
  {
   "cell_type": "code",
   "execution_count": 352,
   "metadata": {},
   "outputs": [
    {
     "data": {
      "text/plain": [
       "(4, 2)"
      ]
     },
     "execution_count": 352,
     "metadata": {},
     "output_type": "execute_result"
    }
   ],
   "source": [
    "data_transformed.shape"
   ]
  },
  {
   "cell_type": "markdown",
   "metadata": {},
   "source": [
    "Data Imputation : Used to fill empty cells"
   ]
  },
  {
   "cell_type": "code",
   "execution_count": 353,
   "metadata": {},
   "outputs": [],
   "source": [
    "from sklearn.impute import SimpleImputer"
   ]
  },
  {
   "cell_type": "markdown",
   "metadata": {},
   "source": [
    "Real life dataset loading..."
   ]
  },
  {
   "cell_type": "code",
   "execution_count": 354,
   "metadata": {},
   "outputs": [
    {
     "data": {
      "text/html": [
       "<div>\n",
       "<style scoped>\n",
       "    .dataframe tbody tr th:only-of-type {\n",
       "        vertical-align: middle;\n",
       "    }\n",
       "\n",
       "    .dataframe tbody tr th {\n",
       "        vertical-align: top;\n",
       "    }\n",
       "\n",
       "    .dataframe thead th {\n",
       "        text-align: right;\n",
       "    }\n",
       "</style>\n",
       "<table border=\"1\" class=\"dataframe\">\n",
       "  <thead>\n",
       "    <tr style=\"text-align: right;\">\n",
       "      <th></th>\n",
       "      <th>age</th>\n",
       "      <th>sex</th>\n",
       "      <th>cp</th>\n",
       "      <th>trestbps</th>\n",
       "      <th>chol</th>\n",
       "      <th>fbs</th>\n",
       "      <th>restecg</th>\n",
       "      <th>thalach</th>\n",
       "      <th>exang</th>\n",
       "      <th>oldpeak</th>\n",
       "      <th>slope</th>\n",
       "      <th>ca</th>\n",
       "      <th>thal</th>\n",
       "      <th>target</th>\n",
       "    </tr>\n",
       "  </thead>\n",
       "  <tbody>\n",
       "    <tr>\n",
       "      <th>0</th>\n",
       "      <td>52</td>\n",
       "      <td>1</td>\n",
       "      <td>0</td>\n",
       "      <td>125</td>\n",
       "      <td>212</td>\n",
       "      <td>0</td>\n",
       "      <td>1</td>\n",
       "      <td>168</td>\n",
       "      <td>0</td>\n",
       "      <td>1.0</td>\n",
       "      <td>2</td>\n",
       "      <td>2</td>\n",
       "      <td>3</td>\n",
       "      <td>0</td>\n",
       "    </tr>\n",
       "    <tr>\n",
       "      <th>1</th>\n",
       "      <td>53</td>\n",
       "      <td>1</td>\n",
       "      <td>0</td>\n",
       "      <td>140</td>\n",
       "      <td>203</td>\n",
       "      <td>1</td>\n",
       "      <td>0</td>\n",
       "      <td>155</td>\n",
       "      <td>1</td>\n",
       "      <td>3.1</td>\n",
       "      <td>0</td>\n",
       "      <td>0</td>\n",
       "      <td>3</td>\n",
       "      <td>0</td>\n",
       "    </tr>\n",
       "    <tr>\n",
       "      <th>2</th>\n",
       "      <td>70</td>\n",
       "      <td>1</td>\n",
       "      <td>0</td>\n",
       "      <td>145</td>\n",
       "      <td>174</td>\n",
       "      <td>0</td>\n",
       "      <td>1</td>\n",
       "      <td>125</td>\n",
       "      <td>1</td>\n",
       "      <td>2.6</td>\n",
       "      <td>0</td>\n",
       "      <td>0</td>\n",
       "      <td>3</td>\n",
       "      <td>0</td>\n",
       "    </tr>\n",
       "    <tr>\n",
       "      <th>3</th>\n",
       "      <td>61</td>\n",
       "      <td>1</td>\n",
       "      <td>0</td>\n",
       "      <td>148</td>\n",
       "      <td>203</td>\n",
       "      <td>0</td>\n",
       "      <td>1</td>\n",
       "      <td>161</td>\n",
       "      <td>0</td>\n",
       "      <td>0.0</td>\n",
       "      <td>2</td>\n",
       "      <td>1</td>\n",
       "      <td>3</td>\n",
       "      <td>0</td>\n",
       "    </tr>\n",
       "    <tr>\n",
       "      <th>4</th>\n",
       "      <td>62</td>\n",
       "      <td>0</td>\n",
       "      <td>0</td>\n",
       "      <td>138</td>\n",
       "      <td>294</td>\n",
       "      <td>1</td>\n",
       "      <td>1</td>\n",
       "      <td>106</td>\n",
       "      <td>0</td>\n",
       "      <td>1.9</td>\n",
       "      <td>1</td>\n",
       "      <td>3</td>\n",
       "      <td>2</td>\n",
       "      <td>0</td>\n",
       "    </tr>\n",
       "    <tr>\n",
       "      <th>...</th>\n",
       "      <td>...</td>\n",
       "      <td>...</td>\n",
       "      <td>...</td>\n",
       "      <td>...</td>\n",
       "      <td>...</td>\n",
       "      <td>...</td>\n",
       "      <td>...</td>\n",
       "      <td>...</td>\n",
       "      <td>...</td>\n",
       "      <td>...</td>\n",
       "      <td>...</td>\n",
       "      <td>...</td>\n",
       "      <td>...</td>\n",
       "      <td>...</td>\n",
       "    </tr>\n",
       "    <tr>\n",
       "      <th>1020</th>\n",
       "      <td>59</td>\n",
       "      <td>1</td>\n",
       "      <td>1</td>\n",
       "      <td>140</td>\n",
       "      <td>221</td>\n",
       "      <td>0</td>\n",
       "      <td>1</td>\n",
       "      <td>164</td>\n",
       "      <td>1</td>\n",
       "      <td>0.0</td>\n",
       "      <td>2</td>\n",
       "      <td>0</td>\n",
       "      <td>2</td>\n",
       "      <td>1</td>\n",
       "    </tr>\n",
       "    <tr>\n",
       "      <th>1021</th>\n",
       "      <td>60</td>\n",
       "      <td>1</td>\n",
       "      <td>0</td>\n",
       "      <td>125</td>\n",
       "      <td>258</td>\n",
       "      <td>0</td>\n",
       "      <td>0</td>\n",
       "      <td>141</td>\n",
       "      <td>1</td>\n",
       "      <td>2.8</td>\n",
       "      <td>1</td>\n",
       "      <td>1</td>\n",
       "      <td>3</td>\n",
       "      <td>0</td>\n",
       "    </tr>\n",
       "    <tr>\n",
       "      <th>1022</th>\n",
       "      <td>47</td>\n",
       "      <td>1</td>\n",
       "      <td>0</td>\n",
       "      <td>110</td>\n",
       "      <td>275</td>\n",
       "      <td>0</td>\n",
       "      <td>0</td>\n",
       "      <td>118</td>\n",
       "      <td>1</td>\n",
       "      <td>1.0</td>\n",
       "      <td>1</td>\n",
       "      <td>1</td>\n",
       "      <td>2</td>\n",
       "      <td>0</td>\n",
       "    </tr>\n",
       "    <tr>\n",
       "      <th>1023</th>\n",
       "      <td>50</td>\n",
       "      <td>0</td>\n",
       "      <td>0</td>\n",
       "      <td>110</td>\n",
       "      <td>254</td>\n",
       "      <td>0</td>\n",
       "      <td>0</td>\n",
       "      <td>159</td>\n",
       "      <td>0</td>\n",
       "      <td>0.0</td>\n",
       "      <td>2</td>\n",
       "      <td>0</td>\n",
       "      <td>2</td>\n",
       "      <td>1</td>\n",
       "    </tr>\n",
       "    <tr>\n",
       "      <th>1024</th>\n",
       "      <td>54</td>\n",
       "      <td>1</td>\n",
       "      <td>0</td>\n",
       "      <td>120</td>\n",
       "      <td>188</td>\n",
       "      <td>0</td>\n",
       "      <td>1</td>\n",
       "      <td>113</td>\n",
       "      <td>0</td>\n",
       "      <td>1.4</td>\n",
       "      <td>1</td>\n",
       "      <td>1</td>\n",
       "      <td>3</td>\n",
       "      <td>0</td>\n",
       "    </tr>\n",
       "  </tbody>\n",
       "</table>\n",
       "<p>1025 rows × 14 columns</p>\n",
       "</div>"
      ],
      "text/plain": [
       "      age  sex  cp  trestbps  chol  fbs  restecg  thalach  exang  oldpeak  \\\n",
       "0      52    1   0       125   212    0        1      168      0      1.0   \n",
       "1      53    1   0       140   203    1        0      155      1      3.1   \n",
       "2      70    1   0       145   174    0        1      125      1      2.6   \n",
       "3      61    1   0       148   203    0        1      161      0      0.0   \n",
       "4      62    0   0       138   294    1        1      106      0      1.9   \n",
       "...   ...  ...  ..       ...   ...  ...      ...      ...    ...      ...   \n",
       "1020   59    1   1       140   221    0        1      164      1      0.0   \n",
       "1021   60    1   0       125   258    0        0      141      1      2.8   \n",
       "1022   47    1   0       110   275    0        0      118      1      1.0   \n",
       "1023   50    0   0       110   254    0        0      159      0      0.0   \n",
       "1024   54    1   0       120   188    0        1      113      0      1.4   \n",
       "\n",
       "      slope  ca  thal  target  \n",
       "0         2   2     3       0  \n",
       "1         0   0     3       0  \n",
       "2         0   0     3       0  \n",
       "3         2   1     3       0  \n",
       "4         1   3     2       0  \n",
       "...     ...  ..   ...     ...  \n",
       "1020      2   0     2       1  \n",
       "1021      1   1     3       0  \n",
       "1022      1   1     2       0  \n",
       "1023      2   0     2       1  \n",
       "1024      1   1     3       0  \n",
       "\n",
       "[1025 rows x 14 columns]"
      ]
     },
     "execution_count": 354,
     "metadata": {},
     "output_type": "execute_result"
    }
   ],
   "source": [
    "heart_data = pd.read_csv('heart.csv')\n",
    "heart_data"
   ]
  },
  {
   "cell_type": "code",
   "execution_count": 355,
   "metadata": {},
   "outputs": [
    {
     "name": "stdout",
     "output_type": "stream",
     "text": [
      "<class 'pandas.core.frame.DataFrame'>\n",
      "RangeIndex: 1025 entries, 0 to 1024\n",
      "Data columns (total 14 columns):\n",
      " #   Column    Non-Null Count  Dtype  \n",
      "---  ------    --------------  -----  \n",
      " 0   age       1025 non-null   int64  \n",
      " 1   sex       1025 non-null   int64  \n",
      " 2   cp        1025 non-null   int64  \n",
      " 3   trestbps  1025 non-null   int64  \n",
      " 4   chol      1025 non-null   int64  \n",
      " 5   fbs       1025 non-null   int64  \n",
      " 6   restecg   1025 non-null   int64  \n",
      " 7   thalach   1025 non-null   int64  \n",
      " 8   exang     1025 non-null   int64  \n",
      " 9   oldpeak   1025 non-null   float64\n",
      " 10  slope     1025 non-null   int64  \n",
      " 11  ca        1025 non-null   int64  \n",
      " 12  thal      1025 non-null   int64  \n",
      " 13  target    1025 non-null   int64  \n",
      "dtypes: float64(1), int64(13)\n",
      "memory usage: 112.2 KB\n"
     ]
    }
   ],
   "source": [
    "heart_data.info() #checking missing values"
   ]
  },
  {
   "cell_type": "code",
   "execution_count": 356,
   "metadata": {},
   "outputs": [
    {
     "data": {
      "text/plain": [
       "age         0\n",
       "sex         0\n",
       "cp          0\n",
       "trestbps    0\n",
       "chol        0\n",
       "fbs         0\n",
       "restecg     0\n",
       "thalach     0\n",
       "exang       0\n",
       "oldpeak     0\n",
       "slope       0\n",
       "ca          0\n",
       "thal        0\n",
       "target      0\n",
       "dtype: int64"
      ]
     },
     "execution_count": 356,
     "metadata": {},
     "output_type": "execute_result"
    }
   ],
   "source": [
    "heart_data.isnull().sum()"
   ]
  },
  {
   "cell_type": "code",
   "execution_count": 357,
   "metadata": {},
   "outputs": [
    {
     "data": {
      "text/plain": [
       "array([2, 0, 1, 3, 4], dtype=int64)"
      ]
     },
     "execution_count": 357,
     "metadata": {},
     "output_type": "execute_result"
    }
   ],
   "source": [
    "heart_data.ca.unique() #can be used to check non numeric missing values"
   ]
  },
  {
   "cell_type": "code",
   "execution_count": 358,
   "metadata": {},
   "outputs": [
    {
     "name": "stdout",
     "output_type": "stream",
     "text": [
      "# 1 in thal : 64\n"
     ]
    }
   ],
   "source": [
    "print('# 1 in thal :', heart_data.loc[heart_data.thal == 1, 'thal'].count())"
   ]
  },
  {
   "cell_type": "code",
   "execution_count": 359,
   "metadata": {},
   "outputs": [],
   "source": [
    "heart_data.replace(1, np.nan, inplace = True)"
   ]
  },
  {
   "cell_type": "code",
   "execution_count": 360,
   "metadata": {},
   "outputs": [
    {
     "data": {
      "text/plain": [
       "age           0\n",
       "sex         713\n",
       "cp          167\n",
       "trestbps      0\n",
       "chol          0\n",
       "fbs         153\n",
       "restecg     513\n",
       "thalach       0\n",
       "exang       345\n",
       "oldpeak      51\n",
       "slope       482\n",
       "ca          226\n",
       "thal         64\n",
       "target      526\n",
       "dtype: int64"
      ]
     },
     "execution_count": 360,
     "metadata": {},
     "output_type": "execute_result"
    }
   ],
   "source": [
    "heart_data.isnull().sum()"
   ]
  },
  {
   "cell_type": "code",
   "execution_count": 361,
   "metadata": {},
   "outputs": [
    {
     "data": {
      "text/plain": [
       "array([ 2.,  0., nan,  3.,  4.])"
      ]
     },
     "execution_count": 361,
     "metadata": {},
     "output_type": "execute_result"
    }
   ],
   "source": [
    "heart_data.ca.unique()"
   ]
  },
  {
   "cell_type": "code",
   "execution_count": 362,
   "metadata": {},
   "outputs": [
    {
     "data": {
      "text/plain": [
       "(1025, 14)"
      ]
     },
     "execution_count": 362,
     "metadata": {},
     "output_type": "execute_result"
    }
   ],
   "source": [
    "# SimpleImputer without add_indicator\n",
    "\n",
    "imputer = SimpleImputer(missing_values = np.nan, strategy = 'mean')\n",
    "imputer = imputer.fit(heart_data)\n",
    "heart_data_imputed = imputer.transform(heart_data)\n",
    "heart_data_imputed.shape"
   ]
  },
  {
   "cell_type": "code",
   "execution_count": 363,
   "metadata": {},
   "outputs": [
    {
     "data": {
      "text/plain": [
       "(1025, 24)"
      ]
     },
     "execution_count": 363,
     "metadata": {},
     "output_type": "execute_result"
    }
   ],
   "source": [
    "# SimpleImputer with add_indicator. It adds extra columns according to the no. of columns having missing values\n",
    "\n",
    "imputer = SimpleImputer(missing_values = np.nan, strategy = 'mean', add_indicator = True)\n",
    "imputer = imputer.fit(heart_data)\n",
    "heart_data_imputed_with_indicator = imputer.transform(heart_data)\n",
    "heart_data_imputed_with_indicator.shape"
   ]
  },
  {
   "cell_type": "markdown",
   "metadata": {},
   "source": [
    "FEATURE SCALING"
   ]
  },
  {
   "cell_type": "code",
   "execution_count": 364,
   "metadata": {},
   "outputs": [
    {
     "data": {
      "text/html": [
       "<div>\n",
       "<style scoped>\n",
       "    .dataframe tbody tr th:only-of-type {\n",
       "        vertical-align: middle;\n",
       "    }\n",
       "\n",
       "    .dataframe tbody tr th {\n",
       "        vertical-align: top;\n",
       "    }\n",
       "\n",
       "    .dataframe thead th {\n",
       "        text-align: right;\n",
       "    }\n",
       "</style>\n",
       "<table border=\"1\" class=\"dataframe\">\n",
       "  <thead>\n",
       "    <tr style=\"text-align: right;\">\n",
       "      <th></th>\n",
       "      <th>Sex</th>\n",
       "      <th>Length</th>\n",
       "      <th>Diameter</th>\n",
       "      <th>Height</th>\n",
       "      <th>Whole weight</th>\n",
       "      <th>Shucked weight</th>\n",
       "      <th>Viscera weight</th>\n",
       "      <th>Shell weight</th>\n",
       "      <th>Rings</th>\n",
       "    </tr>\n",
       "  </thead>\n",
       "  <tbody>\n",
       "    <tr>\n",
       "      <th>0</th>\n",
       "      <td>M</td>\n",
       "      <td>0.455</td>\n",
       "      <td>0.365</td>\n",
       "      <td>0.095</td>\n",
       "      <td>0.5140</td>\n",
       "      <td>0.2245</td>\n",
       "      <td>0.1010</td>\n",
       "      <td>0.1500</td>\n",
       "      <td>15</td>\n",
       "    </tr>\n",
       "    <tr>\n",
       "      <th>1</th>\n",
       "      <td>M</td>\n",
       "      <td>0.350</td>\n",
       "      <td>0.265</td>\n",
       "      <td>0.090</td>\n",
       "      <td>0.2255</td>\n",
       "      <td>0.0995</td>\n",
       "      <td>0.0485</td>\n",
       "      <td>0.0700</td>\n",
       "      <td>7</td>\n",
       "    </tr>\n",
       "    <tr>\n",
       "      <th>2</th>\n",
       "      <td>F</td>\n",
       "      <td>0.530</td>\n",
       "      <td>0.420</td>\n",
       "      <td>0.135</td>\n",
       "      <td>0.6770</td>\n",
       "      <td>0.2565</td>\n",
       "      <td>0.1415</td>\n",
       "      <td>0.2100</td>\n",
       "      <td>9</td>\n",
       "    </tr>\n",
       "    <tr>\n",
       "      <th>3</th>\n",
       "      <td>M</td>\n",
       "      <td>0.440</td>\n",
       "      <td>0.365</td>\n",
       "      <td>0.125</td>\n",
       "      <td>0.5160</td>\n",
       "      <td>0.2155</td>\n",
       "      <td>0.1140</td>\n",
       "      <td>0.1550</td>\n",
       "      <td>10</td>\n",
       "    </tr>\n",
       "    <tr>\n",
       "      <th>4</th>\n",
       "      <td>I</td>\n",
       "      <td>0.330</td>\n",
       "      <td>0.255</td>\n",
       "      <td>0.080</td>\n",
       "      <td>0.2050</td>\n",
       "      <td>0.0895</td>\n",
       "      <td>0.0395</td>\n",
       "      <td>0.0550</td>\n",
       "      <td>7</td>\n",
       "    </tr>\n",
       "    <tr>\n",
       "      <th>...</th>\n",
       "      <td>...</td>\n",
       "      <td>...</td>\n",
       "      <td>...</td>\n",
       "      <td>...</td>\n",
       "      <td>...</td>\n",
       "      <td>...</td>\n",
       "      <td>...</td>\n",
       "      <td>...</td>\n",
       "      <td>...</td>\n",
       "    </tr>\n",
       "    <tr>\n",
       "      <th>4172</th>\n",
       "      <td>F</td>\n",
       "      <td>0.565</td>\n",
       "      <td>0.450</td>\n",
       "      <td>0.165</td>\n",
       "      <td>0.8870</td>\n",
       "      <td>0.3700</td>\n",
       "      <td>0.2390</td>\n",
       "      <td>0.2490</td>\n",
       "      <td>11</td>\n",
       "    </tr>\n",
       "    <tr>\n",
       "      <th>4173</th>\n",
       "      <td>M</td>\n",
       "      <td>0.590</td>\n",
       "      <td>0.440</td>\n",
       "      <td>0.135</td>\n",
       "      <td>0.9660</td>\n",
       "      <td>0.4390</td>\n",
       "      <td>0.2145</td>\n",
       "      <td>0.2605</td>\n",
       "      <td>10</td>\n",
       "    </tr>\n",
       "    <tr>\n",
       "      <th>4174</th>\n",
       "      <td>M</td>\n",
       "      <td>0.600</td>\n",
       "      <td>0.475</td>\n",
       "      <td>0.205</td>\n",
       "      <td>1.1760</td>\n",
       "      <td>0.5255</td>\n",
       "      <td>0.2875</td>\n",
       "      <td>0.3080</td>\n",
       "      <td>9</td>\n",
       "    </tr>\n",
       "    <tr>\n",
       "      <th>4175</th>\n",
       "      <td>F</td>\n",
       "      <td>0.625</td>\n",
       "      <td>0.485</td>\n",
       "      <td>0.150</td>\n",
       "      <td>1.0945</td>\n",
       "      <td>0.5310</td>\n",
       "      <td>0.2610</td>\n",
       "      <td>0.2960</td>\n",
       "      <td>10</td>\n",
       "    </tr>\n",
       "    <tr>\n",
       "      <th>4176</th>\n",
       "      <td>M</td>\n",
       "      <td>0.710</td>\n",
       "      <td>0.555</td>\n",
       "      <td>0.195</td>\n",
       "      <td>1.9485</td>\n",
       "      <td>0.9455</td>\n",
       "      <td>0.3765</td>\n",
       "      <td>0.4950</td>\n",
       "      <td>12</td>\n",
       "    </tr>\n",
       "  </tbody>\n",
       "</table>\n",
       "<p>4177 rows × 9 columns</p>\n",
       "</div>"
      ],
      "text/plain": [
       "     Sex  Length  Diameter   Height  Whole weight  Shucked weight  \\\n",
       "0      M   0.455     0.365    0.095        0.5140          0.2245   \n",
       "1      M   0.350     0.265    0.090        0.2255          0.0995   \n",
       "2      F   0.530     0.420    0.135        0.6770          0.2565   \n",
       "3      M   0.440     0.365    0.125        0.5160          0.2155   \n",
       "4      I   0.330     0.255    0.080        0.2050          0.0895   \n",
       "...   ..     ...       ...      ...           ...             ...   \n",
       "4172   F   0.565     0.450    0.165        0.8870          0.3700   \n",
       "4173   M   0.590     0.440    0.135        0.9660          0.4390   \n",
       "4174   M   0.600     0.475    0.205        1.1760          0.5255   \n",
       "4175   F   0.625     0.485    0.150        1.0945          0.5310   \n",
       "4176   M   0.710     0.555    0.195        1.9485          0.9455   \n",
       "\n",
       "      Viscera weight  Shell weight  Rings  \n",
       "0             0.1010        0.1500     15  \n",
       "1             0.0485        0.0700      7  \n",
       "2             0.1415        0.2100      9  \n",
       "3             0.1140        0.1550     10  \n",
       "4             0.0395        0.0550      7  \n",
       "...              ...           ...    ...  \n",
       "4172          0.2390        0.2490     11  \n",
       "4173          0.2145        0.2605     10  \n",
       "4174          0.2875        0.3080      9  \n",
       "4175          0.2610        0.2960     10  \n",
       "4176          0.3765        0.4950     12  \n",
       "\n",
       "[4177 rows x 9 columns]"
      ]
     },
     "execution_count": 364,
     "metadata": {},
     "output_type": "execute_result"
    }
   ],
   "source": [
    "cols = ['Sex', 'Length', 'Diameter', ' Height', 'Whole weight', 'Shucked weight', 'Viscera weight', 'Shell weight', 'Rings']\n",
    "abalone_data = pd.read_csv('abalone.csv', header = None, names = cols)\n",
    "abalone_data"
   ]
  },
  {
   "cell_type": "markdown",
   "metadata": {},
   "source": [
    "Step 1 : Examine the dataset"
   ]
  },
  {
   "cell_type": "code",
   "execution_count": 365,
   "metadata": {},
   "outputs": [
    {
     "name": "stdout",
     "output_type": "stream",
     "text": [
      "<class 'pandas.core.frame.DataFrame'>\n",
      "RangeIndex: 4177 entries, 0 to 4176\n",
      "Data columns (total 9 columns):\n",
      " #   Column          Non-Null Count  Dtype  \n",
      "---  ------          --------------  -----  \n",
      " 0   Sex             4177 non-null   object \n",
      " 1   Length          4177 non-null   float64\n",
      " 2   Diameter        4177 non-null   float64\n",
      " 3    Height         4177 non-null   float64\n",
      " 4   Whole weight    4177 non-null   float64\n",
      " 5   Shucked weight  4177 non-null   float64\n",
      " 6   Viscera weight  4177 non-null   float64\n",
      " 7   Shell weight    4177 non-null   float64\n",
      " 8   Rings           4177 non-null   int64  \n",
      "dtypes: float64(7), int64(1), object(1)\n",
      "memory usage: 293.8+ KB\n"
     ]
    }
   ],
   "source": [
    "abalone_data.info()"
   ]
  },
  {
   "cell_type": "code",
   "execution_count": 366,
   "metadata": {},
   "outputs": [
    {
     "data": {
      "text/plain": [
       "array(['M', 'F', 'I'], dtype=object)"
      ]
     },
     "execution_count": 366,
     "metadata": {},
     "output_type": "execute_result"
    }
   ],
   "source": [
    "abalone_data.Sex.unique()"
   ]
  },
  {
   "cell_type": "code",
   "execution_count": 367,
   "metadata": {},
   "outputs": [
    {
     "name": "stdout",
     "output_type": "stream",
     "text": [
      "<class 'pandas.core.frame.DataFrame'>\n",
      "RangeIndex: 4177 entries, 0 to 4176\n",
      "Data columns (total 9 columns):\n",
      " #   Column          Non-Null Count  Dtype  \n",
      "---  ------          --------------  -----  \n",
      " 0   Sex             4177 non-null   int64  \n",
      " 1   Length          4177 non-null   float64\n",
      " 2   Diameter        4177 non-null   float64\n",
      " 3    Height         4177 non-null   float64\n",
      " 4   Whole weight    4177 non-null   float64\n",
      " 5   Shucked weight  4177 non-null   float64\n",
      " 6   Viscera weight  4177 non-null   float64\n",
      " 7   Shell weight    4177 non-null   float64\n",
      " 8   Rings           4177 non-null   int64  \n",
      "dtypes: float64(7), int64(2)\n",
      "memory usage: 293.8 KB\n"
     ]
    }
   ],
   "source": [
    "abalone_data = abalone_data.replace({'Sex' : {'M':1, 'F':2, 'I': 3}})\n",
    "abalone_data.info()"
   ]
  },
  {
   "cell_type": "markdown",
   "metadata": {},
   "source": [
    "Step 2. Separate labels from features"
   ]
  },
  {
   "cell_type": "code",
   "execution_count": 368,
   "metadata": {},
   "outputs": [
    {
     "name": "stdout",
     "output_type": "stream",
     "text": [
      "<class 'pandas.core.frame.DataFrame'>\n",
      "RangeIndex: 4177 entries, 0 to 4176\n",
      "Data columns (total 8 columns):\n",
      " #   Column          Non-Null Count  Dtype  \n",
      "---  ------          --------------  -----  \n",
      " 0   Sex             4177 non-null   int64  \n",
      " 1   Length          4177 non-null   float64\n",
      " 2   Diameter        4177 non-null   float64\n",
      " 3    Height         4177 non-null   float64\n",
      " 4   Whole weight    4177 non-null   float64\n",
      " 5   Shucked weight  4177 non-null   float64\n",
      " 6   Viscera weight  4177 non-null   float64\n",
      " 7   Shell weight    4177 non-null   float64\n",
      "dtypes: float64(7), int64(1)\n",
      "memory usage: 261.2 KB\n"
     ]
    }
   ],
   "source": [
    "y = abalone_data.pop('Rings')\n",
    "abalone_data.info() # info after dltng the label column"
   ]
  },
  {
   "cell_type": "markdown",
   "metadata": {},
   "source": [
    "Step 3. Examine feature scales"
   ]
  },
  {
   "cell_type": "code",
   "execution_count": 369,
   "metadata": {},
   "outputs": [
    {
     "data": {
      "text/html": [
       "<div>\n",
       "<style scoped>\n",
       "    .dataframe tbody tr th:only-of-type {\n",
       "        vertical-align: middle;\n",
       "    }\n",
       "\n",
       "    .dataframe tbody tr th {\n",
       "        vertical-align: top;\n",
       "    }\n",
       "\n",
       "    .dataframe thead th {\n",
       "        text-align: right;\n",
       "    }\n",
       "</style>\n",
       "<table border=\"1\" class=\"dataframe\">\n",
       "  <thead>\n",
       "    <tr style=\"text-align: right;\">\n",
       "      <th></th>\n",
       "      <th>count</th>\n",
       "      <th>mean</th>\n",
       "      <th>std</th>\n",
       "      <th>min</th>\n",
       "      <th>25%</th>\n",
       "      <th>50%</th>\n",
       "      <th>75%</th>\n",
       "      <th>max</th>\n",
       "    </tr>\n",
       "  </thead>\n",
       "  <tbody>\n",
       "    <tr>\n",
       "      <th>Sex</th>\n",
       "      <td>4177.0</td>\n",
       "      <td>1.955470</td>\n",
       "      <td>0.827815</td>\n",
       "      <td>1.0000</td>\n",
       "      <td>1.0000</td>\n",
       "      <td>2.0000</td>\n",
       "      <td>3.000</td>\n",
       "      <td>3.0000</td>\n",
       "    </tr>\n",
       "    <tr>\n",
       "      <th>Length</th>\n",
       "      <td>4177.0</td>\n",
       "      <td>0.523992</td>\n",
       "      <td>0.120093</td>\n",
       "      <td>0.0750</td>\n",
       "      <td>0.4500</td>\n",
       "      <td>0.5450</td>\n",
       "      <td>0.615</td>\n",
       "      <td>0.8150</td>\n",
       "    </tr>\n",
       "    <tr>\n",
       "      <th>Diameter</th>\n",
       "      <td>4177.0</td>\n",
       "      <td>0.407881</td>\n",
       "      <td>0.099240</td>\n",
       "      <td>0.0550</td>\n",
       "      <td>0.3500</td>\n",
       "      <td>0.4250</td>\n",
       "      <td>0.480</td>\n",
       "      <td>0.6500</td>\n",
       "    </tr>\n",
       "    <tr>\n",
       "      <th>Height</th>\n",
       "      <td>4177.0</td>\n",
       "      <td>0.139516</td>\n",
       "      <td>0.041827</td>\n",
       "      <td>0.0000</td>\n",
       "      <td>0.1150</td>\n",
       "      <td>0.1400</td>\n",
       "      <td>0.165</td>\n",
       "      <td>1.1300</td>\n",
       "    </tr>\n",
       "    <tr>\n",
       "      <th>Whole weight</th>\n",
       "      <td>4177.0</td>\n",
       "      <td>0.828742</td>\n",
       "      <td>0.490389</td>\n",
       "      <td>0.0020</td>\n",
       "      <td>0.4415</td>\n",
       "      <td>0.7995</td>\n",
       "      <td>1.153</td>\n",
       "      <td>2.8255</td>\n",
       "    </tr>\n",
       "    <tr>\n",
       "      <th>Shucked weight</th>\n",
       "      <td>4177.0</td>\n",
       "      <td>0.359367</td>\n",
       "      <td>0.221963</td>\n",
       "      <td>0.0010</td>\n",
       "      <td>0.1860</td>\n",
       "      <td>0.3360</td>\n",
       "      <td>0.502</td>\n",
       "      <td>1.4880</td>\n",
       "    </tr>\n",
       "    <tr>\n",
       "      <th>Viscera weight</th>\n",
       "      <td>4177.0</td>\n",
       "      <td>0.180594</td>\n",
       "      <td>0.109614</td>\n",
       "      <td>0.0005</td>\n",
       "      <td>0.0935</td>\n",
       "      <td>0.1710</td>\n",
       "      <td>0.253</td>\n",
       "      <td>0.7600</td>\n",
       "    </tr>\n",
       "    <tr>\n",
       "      <th>Shell weight</th>\n",
       "      <td>4177.0</td>\n",
       "      <td>0.238831</td>\n",
       "      <td>0.139203</td>\n",
       "      <td>0.0015</td>\n",
       "      <td>0.1300</td>\n",
       "      <td>0.2340</td>\n",
       "      <td>0.329</td>\n",
       "      <td>1.0050</td>\n",
       "    </tr>\n",
       "  </tbody>\n",
       "</table>\n",
       "</div>"
      ],
      "text/plain": [
       "                 count      mean       std     min     25%     50%    75%  \\\n",
       "Sex             4177.0  1.955470  0.827815  1.0000  1.0000  2.0000  3.000   \n",
       "Length          4177.0  0.523992  0.120093  0.0750  0.4500  0.5450  0.615   \n",
       "Diameter        4177.0  0.407881  0.099240  0.0550  0.3500  0.4250  0.480   \n",
       " Height         4177.0  0.139516  0.041827  0.0000  0.1150  0.1400  0.165   \n",
       "Whole weight    4177.0  0.828742  0.490389  0.0020  0.4415  0.7995  1.153   \n",
       "Shucked weight  4177.0  0.359367  0.221963  0.0010  0.1860  0.3360  0.502   \n",
       "Viscera weight  4177.0  0.180594  0.109614  0.0005  0.0935  0.1710  0.253   \n",
       "Shell weight    4177.0  0.238831  0.139203  0.0015  0.1300  0.2340  0.329   \n",
       "\n",
       "                   max  \n",
       "Sex             3.0000  \n",
       "Length          0.8150  \n",
       "Diameter        0.6500  \n",
       " Height         1.1300  \n",
       "Whole weight    2.8255  \n",
       "Shucked weight  1.4880  \n",
       "Viscera weight  0.7600  \n",
       "Shell weight    1.0050  "
      ]
     },
     "execution_count": 369,
     "metadata": {},
     "output_type": "execute_result"
    }
   ],
   "source": [
    "abalone_data.describe().T"
   ]
  },
  {
   "cell_type": "markdown",
   "metadata": {},
   "source": [
    "Columnwise graphs"
   ]
  },
  {
   "cell_type": "code",
   "execution_count": 370,
   "metadata": {},
   "outputs": [
    {
     "data": {
      "image/png": "[encoded data removed]",
      "text/plain": [
       "<Figure size 720x360 with 1 Axes>"
      ]
     },
     "metadata": {
      "needs_background": "light"
     },
     "output_type": "display_data"
    },
    {
     "data": {
      "image/png": "[encoded data removed]",
      "text/plain": [
       "<Figure size 720x360 with 1 Axes>"
      ]
     },
     "metadata": {
      "needs_background": "light"
     },
     "output_type": "display_data"
    },
    {
     "data": {
      "image/png": "[encoded data removed]",
      "text/plain": [
       "<Figure size 720x360 with 1 Axes>"
      ]
     },
     "metadata": {
      "needs_background": "light"
     },
     "output_type": "display_data"
    },
    {
     "data": {
      "image/png": "[encoded data removed]",
      "text/plain": [
       "<Figure size 720x360 with 1 Axes>"
      ]
     },
     "metadata": {
      "needs_background": "light"
     },
     "output_type": "display_data"
    },
    {
     "data": {
      "image/png": "[encoded data removed]",
      "text/plain": [
       "<Figure size 720x360 with 1 Axes>"
      ]
     },
     "metadata": {
      "needs_background": "light"
     },
     "output_type": "display_data"
    },
    {
     "data": {
      "image/png": "[encoded data removed]",
      "text/plain": [
       "<Figure size 720x360 with 1 Axes>"
      ]
     },
     "metadata": {
      "needs_background": "light"
     },
     "output_type": "display_data"
    },
    {
     "data": {
      "image/png": "[encoded data removed]",
      "text/plain": [
       "<Figure size 720x360 with 1 Axes>"
      ]
     },
     "metadata": {
      "needs_background": "light"
     },
     "output_type": "display_data"
    },
    {
     "data": {
      "image/png": "[encoded data removed]",
      "text/plain": [
       "<Figure size 720x360 with 1 Axes>"
      ]
     },
     "metadata": {
      "needs_background": "light"
     },
     "output_type": "display_data"
    }
   ],
   "source": [
    "data_copy = abalone_data.copy()\n",
    "\n",
    "for f in cols[:-1]:\n",
    "    plt.figure(figsize=(10,5))\n",
    "    abalone_data[f].plot.hist()\n",
    "    plt.title(f, fontsize = 15)\n",
    "    plt.xlabel('Range', fontsize = 15)\n",
    "    plt.ylabel('Frequency', fontsize = 15)\n",
    "    plt.show()"
   ]
  },
  {
   "cell_type": "code",
   "execution_count": 371,
   "metadata": {},
   "outputs": [
    {
     "data": {
      "image/png": "[encoded data removed]",
      "text/plain": [
       "<Figure size 720x360 with 1 Axes>"
      ]
     },
     "metadata": {
      "needs_background": "light"
     },
     "output_type": "display_data"
    }
   ],
   "source": [
    "plt.figure(figsize=(10,5))\n",
    "for f in cols[:-1]:\n",
    "    plt.hist(abalone_data[f], alpha = 0.5)\n",
    "plt.title('Distribution of features across samples', fontsize = 15)\n",
    "plt.legend(cols[:-1])\n",
    "plt.xlabel('Range', fontsize = 15)\n",
    "plt.ylabel('Frequency', fontsize = 15)\n",
    "\n",
    "plt.show()\n",
    "    \n",
    "    "
   ]
  },
  {
   "cell_type": "code",
   "execution_count": 372,
   "metadata": {},
   "outputs": [
    {
     "data": {
      "text/plain": [
       "Text(0.5, 1.0, 'KDE plots - combined')"
      ]
     },
     "execution_count": 372,
     "metadata": {},
     "output_type": "execute_result"
    },
    {
     "data": {
      "image/png": "[encoded data removed]",
      "text/plain": [
       "<Figure size 720x360 with 1 Axes>"
      ]
     },
     "metadata": {},
     "output_type": "display_data"
    }
   ],
   "source": [
    "sns.set(rc={'figure.figsize': (10,5)})\n",
    "abalone_data.plot.kde()\n",
    "plt.title('KDE plots - combined', fontsize = 15)"
   ]
  },
  {
   "cell_type": "code",
   "execution_count": 373,
   "metadata": {},
   "outputs": [
    {
     "data": {
      "image/png": "[encoded data removed]",
      "text/plain": [
       "<Figure size 720x360 with 1 Axes>"
      ]
     },
     "metadata": {},
     "output_type": "display_data"
    }
   ],
   "source": [
    "plt.figure(figsize=(10,5))\n",
    "graph = plt.boxplot(abalone_data, vert=0, patch_artist=True)\n",
    "plt.yticks([1,2,3,4,5,6,7,8],cols[:-1] )\n",
    "plt.title('Distribution of features across samples using Boxplot', fontsize = 15)\n",
    "\n",
    "colors = ['#ffff00','#ff9400','#659400','#659494','#653d94','#c93d94','#003d94','#00c013']\n",
    "for patch,color in zip(graph['boxes'],colors) :\n",
    "    patch.set_facecolor(color)\n",
    "\n"
   ]
  },
  {
   "cell_type": "code",
   "execution_count": 374,
   "metadata": {},
   "outputs": [
    {
     "data": {
      "image/png": "[encoded data removed]",
      "text/plain": [
       "<Figure size 720x360 with 1 Axes>"
      ]
     },
     "metadata": {},
     "output_type": "display_data"
    }
   ],
   "source": [
    "plt.figure(figsize=(10,5))\n",
    "graph = plt.violinplot(abalone_data, vert=0)\n",
    "plt.yticks([1,2,3,4,5,6,7,8],cols[:-1] )\n",
    "plt.title('Distribution of features across samples using Violinplot', fontsize = 15)\n",
    "\n",
    "colors = ['#ff0000','#ff9400','#659400','#659494','#653d94','#c93d94','#003d94','#00c013']\n",
    "for patch,color in zip(graph['bodies'],colors) :\n",
    "    patch.set_facecolor(color)"
   ]
  },
  {
   "cell_type": "markdown",
   "metadata": {},
   "source": [
    "Step 4: Scaling"
   ]
  },
  {
   "cell_type": "markdown",
   "metadata": {},
   "source": [
    "........................MaxAbsScaler........................"
   ]
  },
  {
   "cell_type": "code",
   "execution_count": 375,
   "metadata": {},
   "outputs": [
    {
     "name": "stdout",
     "output_type": "stream",
     "text": [
      "[[ 4]\n",
      " [ 3]\n",
      " [10]\n",
      " [ 5]\n",
      " [11]]\n"
     ]
    }
   ],
   "source": [
    "x = np.array([4,3,10,5,11]).reshape(-1,1)\n",
    "print(x)"
   ]
  },
  {
   "cell_type": "code",
   "execution_count": 376,
   "metadata": {},
   "outputs": [
    {
     "name": "stdout",
     "output_type": "stream",
     "text": [
      "[[0.36363636]\n",
      " [0.27272727]\n",
      " [0.90909091]\n",
      " [0.45454545]\n",
      " [1.        ]]\n"
     ]
    }
   ],
   "source": [
    "from sklearn.preprocessing import MaxAbsScaler\n",
    "\n",
    "mas = MaxAbsScaler()\n",
    "x_new = mas.fit_transform(x)\n",
    "print(x_new)"
   ]
  },
  {
   "cell_type": "markdown",
   "metadata": {},
   "source": [
    "........................MinMaxScaler........................"
   ]
  },
  {
   "cell_type": "code",
   "execution_count": 377,
   "metadata": {},
   "outputs": [
    {
     "data": {
      "text/plain": [
       "array([[0.        , 0.51351351, 0.5210084 , 0.0840708 , 0.18133522,\n",
       "        0.15030262, 0.1323239 , 0.14798206],\n",
       "       [0.        , 0.37162162, 0.35294118, 0.07964602, 0.07915707,\n",
       "        0.06624075, 0.06319947, 0.06826109],\n",
       "       [0.5       , 0.61486486, 0.61344538, 0.11946903, 0.23906499,\n",
       "        0.17182246, 0.18564845, 0.2077728 ],\n",
       "       [0.        , 0.49324324, 0.5210084 , 0.11061947, 0.18204356,\n",
       "        0.14425017, 0.14944042, 0.15296462],\n",
       "       [1.        , 0.34459459, 0.33613445, 0.07079646, 0.07189658,\n",
       "        0.0595158 , 0.05134957, 0.0533134 ]])"
      ]
     },
     "execution_count": 377,
     "metadata": {},
     "output_type": "execute_result"
    }
   ],
   "source": [
    "from sklearn.preprocessing import MinMaxScaler\n",
    "\n",
    "mm = MinMaxScaler()\n",
    "X = abalone_data\n",
    "X_normalized = mm.fit_transform(X)\n",
    "X_normalized[:5]"
   ]
  },
  {
   "cell_type": "code",
   "execution_count": 378,
   "metadata": {},
   "outputs": [
    {
     "data": {
      "text/plain": [
       "array([0.47773522, 0.60674608, 0.59307774, 0.12346584, 0.29280756,\n",
       "       0.24100033, 0.23712127, 0.2365031 ])"
      ]
     },
     "execution_count": 378,
     "metadata": {},
     "output_type": "execute_result"
    }
   ],
   "source": [
    "X_normalized.mean(axis = 0)"
   ]
  },
  {
   "cell_type": "code",
   "execution_count": 379,
   "metadata": {},
   "outputs": [
    {
     "data": {
      "text/plain": [
       "array([0.4138578 , 0.16226829, 0.16676972, 0.03701066, 0.17366046,\n",
       "       0.14925109, 0.14430695, 0.13870055])"
      ]
     },
     "execution_count": 379,
     "metadata": {},
     "output_type": "execute_result"
    }
   ],
   "source": [
    "X_normalized.std(axis = 0)"
   ]
  },
  {
   "cell_type": "code",
   "execution_count": 380,
   "metadata": {},
   "outputs": [],
   "source": [
    "X_normalized_df = pd.DataFrame(X_normalized)\n",
    "X_normalized_df.columns = ['Sex', 'Length', 'Diameter', ' Height', 'Whole weight', 'Shucked weight', 'Viscera weight', 'Shell weight']"
   ]
  },
  {
   "cell_type": "code",
   "execution_count": 381,
   "metadata": {},
   "outputs": [
    {
     "data": {
      "image/png": "[encoded data removed]",
      "text/plain": [
       "<Figure size 720x360 with 1 Axes>"
      ]
     },
     "metadata": {},
     "output_type": "display_data"
    }
   ],
   "source": [
    "plt.figure(figsize=(10,5))\n",
    "for f in cols[:-1]:\n",
    "    plt.hist(X_normalized_df[f], alpha = 0.5)\n",
    "plt.title('Distribution of features across samples', fontsize = 15)\n",
    "plt.legend(cols[:-1])\n",
    "plt.xlabel('Range', fontsize = 15)\n",
    "plt.ylabel('Frequency', fontsize = 15)\n",
    "\n",
    "plt.show()"
   ]
  },
  {
   "cell_type": "code",
   "execution_count": 382,
   "metadata": {},
   "outputs": [
    {
     "data": {
      "image/png": "[encoded data removed]",
      "text/plain": [
       "<Figure size 720x360 with 1 Axes>"
      ]
     },
     "metadata": {},
     "output_type": "display_data"
    }
   ],
   "source": [
    "plt.figure(figsize=(10,5))\n",
    "graph = plt.boxplot(X_normalized_df, vert=0, patch_artist=True)\n",
    "plt.yticks([1,2,3,4,5,6,7,8],cols[:-1] )\n",
    "plt.title('Distribution of features across samples using Boxplot', fontsize = 15)\n",
    "\n",
    "colors = ['#ffff00','#ff9400','#659400','#659494','#653d94','#c93d94','#003d94','#00c013']\n",
    "for patch,color in zip(graph['boxes'],colors) :\n",
    "    patch.set_facecolor(color)"
   ]
  },
  {
   "cell_type": "code",
   "execution_count": 383,
   "metadata": {},
   "outputs": [
    {
     "data": {
      "image/png": "[encoded data removed]",
      "text/plain": [
       "<Figure size 720x360 with 1 Axes>"
      ]
     },
     "metadata": {},
     "output_type": "display_data"
    }
   ],
   "source": [
    "plt.figure(figsize=(10,5))\n",
    "graph = plt.violinplot(X_normalized_df, vert=0)\n",
    "plt.yticks([1,2,3,4,5,6,7,8],cols[:-1] )\n",
    "plt.title('Distribution of features across samples using Violinplot', fontsize = 15)\n",
    "\n",
    "colors = ['#ff0000','#ff9400','#659400','#659494','#653d94','#c93d94','#003d94','#00c013']\n",
    "for patch,color in zip(graph['bodies'],colors) :\n",
    "    patch.set_facecolor(color)"
   ]
  },
  {
   "cell_type": "code",
   "execution_count": 384,
   "metadata": {},
   "outputs": [
    {
     "data": {
      "text/plain": [
       "Text(0.5, 1.0, 'KDE plots - combined')"
      ]
     },
     "execution_count": 384,
     "metadata": {},
     "output_type": "execute_result"
    },
    {
     "data": {
      "image/png": "[encoded data removed]",
      "text/plain": [
       "<Figure size 720x360 with 1 Axes>"
      ]
     },
     "metadata": {},
     "output_type": "display_data"
    }
   ],
   "source": [
    "sns.set(rc={'figure.figsize': (10,5)})\n",
    "X_normalized_df.plot.kde()\n",
    "plt.title('KDE plots - combined', fontsize = 15)"
   ]
  },
  {
   "cell_type": "markdown",
   "metadata": {},
   "source": [
    "........................Standardization........................"
   ]
  },
  {
   "cell_type": "code",
   "execution_count": 385,
   "metadata": {},
   "outputs": [
    {
     "data": {
      "text/plain": [
       "array([[-1.15434629, -0.57455813, -0.43214879, -1.06442415, -0.64189823,\n",
       "        -0.60768536, -0.72621157, -0.63821689],\n",
       "       [-1.15434629, -1.44898585, -1.439929  , -1.18397831, -1.23027711,\n",
       "        -1.17090984, -1.20522124, -1.21298732],\n",
       "       [ 0.05379815,  0.05003309,  0.12213032, -0.10799087, -0.30946926,\n",
       "        -0.4634999 , -0.35668983, -0.20713907],\n",
       "       [-1.15434629, -0.69947638, -0.43214879, -0.34709919, -0.63781934,\n",
       "        -0.64823753, -0.60759966, -0.60229374],\n",
       "       [ 1.26194258, -1.61554351, -1.54070702, -1.42308663, -1.27208566,\n",
       "        -1.2159678 , -1.28733718, -1.32075677]])"
      ]
     },
     "execution_count": 385,
     "metadata": {},
     "output_type": "execute_result"
    }
   ],
   "source": [
    "from sklearn.preprocessing import StandardScaler\n",
    "\n",
    "ss = StandardScaler()\n",
    "X_standarized = ss.fit_transform(X)\n",
    "X_standarized[:5]"
   ]
  },
  {
   "cell_type": "code",
   "execution_count": 386,
   "metadata": {},
   "outputs": [
    {
     "data": {
      "text/plain": [
       "array([-1.19075871e-17, -5.83471770e-16, -3.02792930e-16,  3.91249292e-16,\n",
       "        9.18585294e-17, -1.02065033e-17,  2.70472337e-16,  2.97689679e-16])"
      ]
     },
     "execution_count": 386,
     "metadata": {},
     "output_type": "execute_result"
    }
   ],
   "source": [
    "X_standarized.mean(axis = 0)"
   ]
  },
  {
   "cell_type": "code",
   "execution_count": 387,
   "metadata": {},
   "outputs": [
    {
     "data": {
      "text/plain": [
       "array([1., 1., 1., 1., 1., 1., 1., 1.])"
      ]
     },
     "execution_count": 387,
     "metadata": {},
     "output_type": "execute_result"
    }
   ],
   "source": [
    "X_standarized.std(axis = 0)"
   ]
  },
  {
   "cell_type": "code",
   "execution_count": 388,
   "metadata": {},
   "outputs": [],
   "source": [
    "X_standarized_df = pd.DataFrame(X_standarized)\n",
    "X_standarized_df.columns = ['Sex', 'Length', 'Diameter', ' Height', 'Whole weight', 'Shucked weight', 'Viscera weight', 'Shell weight']"
   ]
  },
  {
   "cell_type": "code",
   "execution_count": 389,
   "metadata": {},
   "outputs": [
    {
     "data": {
      "image/png": "[encoded data removed]",
      "text/plain": [
       "<Figure size 720x360 with 1 Axes>"
      ]
     },
     "metadata": {},
     "output_type": "display_data"
    }
   ],
   "source": [
    "plt.figure(figsize=(10,5))\n",
    "for f in cols[:-1]:\n",
    "    plt.hist(X_standarized_df[f], alpha = 0.5)\n",
    "plt.title('Distribution of features across samples', fontsize = 15)\n",
    "plt.legend(cols[:-1])\n",
    "plt.xlabel('Range', fontsize = 15)\n",
    "plt.ylabel('Frequency', fontsize = 15)\n",
    "\n",
    "plt.show()"
   ]
  },
  {
   "cell_type": "code",
   "execution_count": 390,
   "metadata": {},
   "outputs": [
    {
     "data": {
      "image/png": "[encoded data removed]",
      "text/plain": [
       "<Figure size 720x360 with 1 Axes>"
      ]
     },
     "metadata": {},
     "output_type": "display_data"
    }
   ],
   "source": [
    "plt.figure(figsize=(10,5))\n",
    "graph = plt.boxplot(X_standarized_df, vert=0, patch_artist=True)\n",
    "plt.yticks([1,2,3,4,5,6,7,8],cols[:-1] )\n",
    "plt.title('Distribution of features across samples using Boxplot', fontsize = 15)\n",
    "\n",
    "colors = ['#ffff00','#ff9400','#659400','#659494','#653d94','#c93d94','#003d94','#00c013']\n",
    "for patch,color in zip(graph['boxes'],colors) :\n",
    "    patch.set_facecolor(color)"
   ]
  },
  {
   "cell_type": "code",
   "execution_count": 391,
   "metadata": {},
   "outputs": [
    {
     "data": {
      "image/png": "[encoded data removed]",
      "text/plain": [
       "<Figure size 720x360 with 1 Axes>"
      ]
     },
     "metadata": {},
     "output_type": "display_data"
    }
   ],
   "source": [
    "plt.figure(figsize=(10,5))\n",
    "graph = plt.violinplot(X_standarized_df, vert=0)\n",
    "plt.yticks([1,2,3,4,5,6,7,8],cols[:-1] )\n",
    "plt.title('Distribution of features across samples using Violinplot', fontsize = 15)\n",
    "\n",
    "colors = ['#ff0000','#ff9400','#659400','#659494','#653d94','#c93d94','#003d94','#00c013']\n",
    "for patch,color in zip(graph['bodies'],colors) :\n",
    "    patch.set_facecolor(color)"
   ]
  },
  {
   "cell_type": "code",
   "execution_count": 392,
   "metadata": {},
   "outputs": [
    {
     "data": {
      "text/plain": [
       "Text(0.5, 1.0, 'KDE plots')"
      ]
     },
     "execution_count": 392,
     "metadata": {},
     "output_type": "execute_result"
    },
    {
     "data": {
      "image/png": "[encoded data removed]",
      "text/plain": [
       "<Figure size 720x360 with 1 Axes>"
      ]
     },
     "metadata": {},
     "output_type": "display_data"
    }
   ],
   "source": [
    "sns.set(rc={'figure.figsize': (10,5)})\n",
    "X_standarized_df.plot.kde()\n",
    "plt.title('KDE plots', fontsize = 15)"
   ]
  },
  {
   "cell_type": "markdown",
   "metadata": {},
   "source": [
    "Step 4. add_dummy_feature"
   ]
  },
  {
   "cell_type": "code",
   "execution_count": 393,
   "metadata": {},
   "outputs": [
    {
     "data": {
      "text/plain": [
       "array([[1., 2., 3.],\n",
       "       [1., 4., 1.],\n",
       "       [1., 7., 9.]])"
      ]
     },
     "execution_count": 393,
     "metadata": {},
     "output_type": "execute_result"
    }
   ],
   "source": [
    "x = np.array([[2,3],[4,1],[7,9]])\n",
    "\n",
    "from sklearn.preprocessing import add_dummy_feature\n",
    "\n",
    "x_dummy_added = add_dummy_feature(x)\n",
    "x_dummy_added"
   ]
  },
  {
   "cell_type": "markdown",
   "metadata": {},
   "source": [
    "Step 5. Custom Transformers"
   ]
  },
  {
   "cell_type": "code",
   "execution_count": 394,
   "metadata": {},
   "outputs": [],
   "source": [
    "from sklearn.preprocessing import FunctionTransformer\n",
    "from sklearn.datasets import load_wine"
   ]
  },
  {
   "cell_type": "code",
   "execution_count": 395,
   "metadata": {},
   "outputs": [
    {
     "name": "stdout",
     "output_type": "stream",
     "text": [
      "(178, 13)\n"
     ]
    },
    {
     "data": {
      "text/html": [
       "<div>\n",
       "<style scoped>\n",
       "    .dataframe tbody tr th:only-of-type {\n",
       "        vertical-align: middle;\n",
       "    }\n",
       "\n",
       "    .dataframe tbody tr th {\n",
       "        vertical-align: top;\n",
       "    }\n",
       "\n",
       "    .dataframe thead th {\n",
       "        text-align: right;\n",
       "    }\n",
       "</style>\n",
       "<table border=\"1\" class=\"dataframe\">\n",
       "  <thead>\n",
       "    <tr style=\"text-align: right;\">\n",
       "      <th></th>\n",
       "      <th>count</th>\n",
       "      <th>mean</th>\n",
       "      <th>std</th>\n",
       "      <th>min</th>\n",
       "      <th>25%</th>\n",
       "      <th>50%</th>\n",
       "      <th>75%</th>\n",
       "      <th>max</th>\n",
       "    </tr>\n",
       "  </thead>\n",
       "  <tbody>\n",
       "    <tr>\n",
       "      <th>0</th>\n",
       "      <td>178.0</td>\n",
       "      <td>13.000618</td>\n",
       "      <td>0.811827</td>\n",
       "      <td>11.03</td>\n",
       "      <td>12.3625</td>\n",
       "      <td>13.050</td>\n",
       "      <td>13.6775</td>\n",
       "      <td>14.83</td>\n",
       "    </tr>\n",
       "    <tr>\n",
       "      <th>1</th>\n",
       "      <td>178.0</td>\n",
       "      <td>2.336348</td>\n",
       "      <td>1.117146</td>\n",
       "      <td>0.74</td>\n",
       "      <td>1.6025</td>\n",
       "      <td>1.865</td>\n",
       "      <td>3.0825</td>\n",
       "      <td>5.80</td>\n",
       "    </tr>\n",
       "    <tr>\n",
       "      <th>2</th>\n",
       "      <td>178.0</td>\n",
       "      <td>2.366517</td>\n",
       "      <td>0.274344</td>\n",
       "      <td>1.36</td>\n",
       "      <td>2.2100</td>\n",
       "      <td>2.360</td>\n",
       "      <td>2.5575</td>\n",
       "      <td>3.23</td>\n",
       "    </tr>\n",
       "    <tr>\n",
       "      <th>3</th>\n",
       "      <td>178.0</td>\n",
       "      <td>19.494944</td>\n",
       "      <td>3.339564</td>\n",
       "      <td>10.60</td>\n",
       "      <td>17.2000</td>\n",
       "      <td>19.500</td>\n",
       "      <td>21.5000</td>\n",
       "      <td>30.00</td>\n",
       "    </tr>\n",
       "    <tr>\n",
       "      <th>4</th>\n",
       "      <td>178.0</td>\n",
       "      <td>99.741573</td>\n",
       "      <td>14.282484</td>\n",
       "      <td>70.00</td>\n",
       "      <td>88.0000</td>\n",
       "      <td>98.000</td>\n",
       "      <td>107.0000</td>\n",
       "      <td>162.00</td>\n",
       "    </tr>\n",
       "    <tr>\n",
       "      <th>5</th>\n",
       "      <td>178.0</td>\n",
       "      <td>2.295112</td>\n",
       "      <td>0.625851</td>\n",
       "      <td>0.98</td>\n",
       "      <td>1.7425</td>\n",
       "      <td>2.355</td>\n",
       "      <td>2.8000</td>\n",
       "      <td>3.88</td>\n",
       "    </tr>\n",
       "    <tr>\n",
       "      <th>6</th>\n",
       "      <td>178.0</td>\n",
       "      <td>2.029270</td>\n",
       "      <td>0.998859</td>\n",
       "      <td>0.34</td>\n",
       "      <td>1.2050</td>\n",
       "      <td>2.135</td>\n",
       "      <td>2.8750</td>\n",
       "      <td>5.08</td>\n",
       "    </tr>\n",
       "    <tr>\n",
       "      <th>7</th>\n",
       "      <td>178.0</td>\n",
       "      <td>0.361854</td>\n",
       "      <td>0.124453</td>\n",
       "      <td>0.13</td>\n",
       "      <td>0.2700</td>\n",
       "      <td>0.340</td>\n",
       "      <td>0.4375</td>\n",
       "      <td>0.66</td>\n",
       "    </tr>\n",
       "    <tr>\n",
       "      <th>8</th>\n",
       "      <td>178.0</td>\n",
       "      <td>1.590899</td>\n",
       "      <td>0.572359</td>\n",
       "      <td>0.41</td>\n",
       "      <td>1.2500</td>\n",
       "      <td>1.555</td>\n",
       "      <td>1.9500</td>\n",
       "      <td>3.58</td>\n",
       "    </tr>\n",
       "    <tr>\n",
       "      <th>9</th>\n",
       "      <td>178.0</td>\n",
       "      <td>5.058090</td>\n",
       "      <td>2.318286</td>\n",
       "      <td>1.28</td>\n",
       "      <td>3.2200</td>\n",
       "      <td>4.690</td>\n",
       "      <td>6.2000</td>\n",
       "      <td>13.00</td>\n",
       "    </tr>\n",
       "    <tr>\n",
       "      <th>10</th>\n",
       "      <td>178.0</td>\n",
       "      <td>0.957449</td>\n",
       "      <td>0.228572</td>\n",
       "      <td>0.48</td>\n",
       "      <td>0.7825</td>\n",
       "      <td>0.965</td>\n",
       "      <td>1.1200</td>\n",
       "      <td>1.71</td>\n",
       "    </tr>\n",
       "    <tr>\n",
       "      <th>11</th>\n",
       "      <td>178.0</td>\n",
       "      <td>2.611685</td>\n",
       "      <td>0.709990</td>\n",
       "      <td>1.27</td>\n",
       "      <td>1.9375</td>\n",
       "      <td>2.780</td>\n",
       "      <td>3.1700</td>\n",
       "      <td>4.00</td>\n",
       "    </tr>\n",
       "    <tr>\n",
       "      <th>12</th>\n",
       "      <td>178.0</td>\n",
       "      <td>746.893258</td>\n",
       "      <td>314.907474</td>\n",
       "      <td>278.00</td>\n",
       "      <td>500.5000</td>\n",
       "      <td>673.500</td>\n",
       "      <td>985.0000</td>\n",
       "      <td>1680.00</td>\n",
       "    </tr>\n",
       "  </tbody>\n",
       "</table>\n",
       "</div>"
      ],
      "text/plain": [
       "    count        mean         std     min       25%      50%       75%  \\\n",
       "0   178.0   13.000618    0.811827   11.03   12.3625   13.050   13.6775   \n",
       "1   178.0    2.336348    1.117146    0.74    1.6025    1.865    3.0825   \n",
       "2   178.0    2.366517    0.274344    1.36    2.2100    2.360    2.5575   \n",
       "3   178.0   19.494944    3.339564   10.60   17.2000   19.500   21.5000   \n",
       "4   178.0   99.741573   14.282484   70.00   88.0000   98.000  107.0000   \n",
       "5   178.0    2.295112    0.625851    0.98    1.7425    2.355    2.8000   \n",
       "6   178.0    2.029270    0.998859    0.34    1.2050    2.135    2.8750   \n",
       "7   178.0    0.361854    0.124453    0.13    0.2700    0.340    0.4375   \n",
       "8   178.0    1.590899    0.572359    0.41    1.2500    1.555    1.9500   \n",
       "9   178.0    5.058090    2.318286    1.28    3.2200    4.690    6.2000   \n",
       "10  178.0    0.957449    0.228572    0.48    0.7825    0.965    1.1200   \n",
       "11  178.0    2.611685    0.709990    1.27    1.9375    2.780    3.1700   \n",
       "12  178.0  746.893258  314.907474  278.00  500.5000  673.500  985.0000   \n",
       "\n",
       "        max  \n",
       "0     14.83  \n",
       "1      5.80  \n",
       "2      3.23  \n",
       "3     30.00  \n",
       "4    162.00  \n",
       "5      3.88  \n",
       "6      5.08  \n",
       "7      0.66  \n",
       "8      3.58  \n",
       "9     13.00  \n",
       "10     1.71  \n",
       "11     4.00  \n",
       "12  1680.00  "
      ]
     },
     "execution_count": 395,
     "metadata": {},
     "output_type": "execute_result"
    }
   ],
   "source": [
    "data = load_wine()\n",
    "wine_data = pd.DataFrame(data = data.data)\n",
    "print(wine_data.shape)\n",
    "wine_data.describe().T"
   ]
  },
  {
   "cell_type": "code",
   "execution_count": 396,
   "metadata": {},
   "outputs": [
    {
     "data": {
      "text/html": [
       "<div>\n",
       "<style scoped>\n",
       "    .dataframe tbody tr th:only-of-type {\n",
       "        vertical-align: middle;\n",
       "    }\n",
       "\n",
       "    .dataframe tbody tr th {\n",
       "        vertical-align: top;\n",
       "    }\n",
       "\n",
       "    .dataframe thead th {\n",
       "        text-align: right;\n",
       "    }\n",
       "</style>\n",
       "<table border=\"1\" class=\"dataframe\">\n",
       "  <thead>\n",
       "    <tr style=\"text-align: right;\">\n",
       "      <th></th>\n",
       "      <th>count</th>\n",
       "      <th>mean</th>\n",
       "      <th>std</th>\n",
       "      <th>min</th>\n",
       "      <th>25%</th>\n",
       "      <th>50%</th>\n",
       "      <th>75%</th>\n",
       "      <th>max</th>\n",
       "    </tr>\n",
       "  </thead>\n",
       "  <tbody>\n",
       "    <tr>\n",
       "      <th>0</th>\n",
       "      <td>178.0</td>\n",
       "      <td>2.637420</td>\n",
       "      <td>0.058238</td>\n",
       "      <td>2.487404</td>\n",
       "      <td>2.592452</td>\n",
       "      <td>2.642622</td>\n",
       "      <td>2.686316</td>\n",
       "      <td>2.761907</td>\n",
       "    </tr>\n",
       "    <tr>\n",
       "      <th>1</th>\n",
       "      <td>178.0</td>\n",
       "      <td>1.154950</td>\n",
       "      <td>0.309582</td>\n",
       "      <td>0.553885</td>\n",
       "      <td>0.956471</td>\n",
       "      <td>1.052567</td>\n",
       "      <td>1.406682</td>\n",
       "      <td>1.916923</td>\n",
       "    </tr>\n",
       "    <tr>\n",
       "      <th>2</th>\n",
       "      <td>178.0</td>\n",
       "      <td>1.210498</td>\n",
       "      <td>0.083078</td>\n",
       "      <td>0.858662</td>\n",
       "      <td>1.166271</td>\n",
       "      <td>1.211941</td>\n",
       "      <td>1.269057</td>\n",
       "      <td>1.442202</td>\n",
       "    </tr>\n",
       "    <tr>\n",
       "      <th>3</th>\n",
       "      <td>178.0</td>\n",
       "      <td>3.006665</td>\n",
       "      <td>0.166601</td>\n",
       "      <td>2.451005</td>\n",
       "      <td>2.901422</td>\n",
       "      <td>3.020425</td>\n",
       "      <td>3.113515</td>\n",
       "      <td>3.433987</td>\n",
       "    </tr>\n",
       "    <tr>\n",
       "      <th>4</th>\n",
       "      <td>178.0</td>\n",
       "      <td>4.603203</td>\n",
       "      <td>0.135300</td>\n",
       "      <td>4.262680</td>\n",
       "      <td>4.488636</td>\n",
       "      <td>4.595120</td>\n",
       "      <td>4.682131</td>\n",
       "      <td>5.093750</td>\n",
       "    </tr>\n",
       "    <tr>\n",
       "      <th>5</th>\n",
       "      <td>178.0</td>\n",
       "      <td>1.174000</td>\n",
       "      <td>0.194288</td>\n",
       "      <td>0.683097</td>\n",
       "      <td>1.008869</td>\n",
       "      <td>1.210451</td>\n",
       "      <td>1.335001</td>\n",
       "      <td>1.585145</td>\n",
       "    </tr>\n",
       "    <tr>\n",
       "      <th>6</th>\n",
       "      <td>178.0</td>\n",
       "      <td>1.047941</td>\n",
       "      <td>0.359733</td>\n",
       "      <td>0.292670</td>\n",
       "      <td>0.790720</td>\n",
       "      <td>1.142628</td>\n",
       "      <td>1.354543</td>\n",
       "      <td>1.805005</td>\n",
       "    </tr>\n",
       "    <tr>\n",
       "      <th>7</th>\n",
       "      <td>178.0</td>\n",
       "      <td>0.304769</td>\n",
       "      <td>0.090194</td>\n",
       "      <td>0.122218</td>\n",
       "      <td>0.239017</td>\n",
       "      <td>0.292670</td>\n",
       "      <td>0.362901</td>\n",
       "      <td>0.506818</td>\n",
       "    </tr>\n",
       "    <tr>\n",
       "      <th>8</th>\n",
       "      <td>178.0</td>\n",
       "      <td>0.927749</td>\n",
       "      <td>0.222247</td>\n",
       "      <td>0.343590</td>\n",
       "      <td>0.810930</td>\n",
       "      <td>0.938050</td>\n",
       "      <td>1.081805</td>\n",
       "      <td>1.521699</td>\n",
       "    </tr>\n",
       "    <tr>\n",
       "      <th>9</th>\n",
       "      <td>178.0</td>\n",
       "      <td>1.731880</td>\n",
       "      <td>0.373143</td>\n",
       "      <td>0.824175</td>\n",
       "      <td>1.439827</td>\n",
       "      <td>1.738709</td>\n",
       "      <td>1.974081</td>\n",
       "      <td>2.639057</td>\n",
       "    </tr>\n",
       "    <tr>\n",
       "      <th>10</th>\n",
       "      <td>178.0</td>\n",
       "      <td>0.664756</td>\n",
       "      <td>0.118284</td>\n",
       "      <td>0.392042</td>\n",
       "      <td>0.578014</td>\n",
       "      <td>0.675489</td>\n",
       "      <td>0.751416</td>\n",
       "      <td>0.996949</td>\n",
       "    </tr>\n",
       "    <tr>\n",
       "      <th>11</th>\n",
       "      <td>178.0</td>\n",
       "      <td>1.263380</td>\n",
       "      <td>0.208824</td>\n",
       "      <td>0.819780</td>\n",
       "      <td>1.077549</td>\n",
       "      <td>1.329724</td>\n",
       "      <td>1.427916</td>\n",
       "      <td>1.609438</td>\n",
       "    </tr>\n",
       "    <tr>\n",
       "      <th>12</th>\n",
       "      <td>178.0</td>\n",
       "      <td>6.531887</td>\n",
       "      <td>0.414475</td>\n",
       "      <td>5.631212</td>\n",
       "      <td>6.217602</td>\n",
       "      <td>6.513969</td>\n",
       "      <td>6.893656</td>\n",
       "      <td>7.427144</td>\n",
       "    </tr>\n",
       "  </tbody>\n",
       "</table>\n",
       "</div>"
      ],
      "text/plain": [
       "    count      mean       std       min       25%       50%       75%  \\\n",
       "0   178.0  2.637420  0.058238  2.487404  2.592452  2.642622  2.686316   \n",
       "1   178.0  1.154950  0.309582  0.553885  0.956471  1.052567  1.406682   \n",
       "2   178.0  1.210498  0.083078  0.858662  1.166271  1.211941  1.269057   \n",
       "3   178.0  3.006665  0.166601  2.451005  2.901422  3.020425  3.113515   \n",
       "4   178.0  4.603203  0.135300  4.262680  4.488636  4.595120  4.682131   \n",
       "5   178.0  1.174000  0.194288  0.683097  1.008869  1.210451  1.335001   \n",
       "6   178.0  1.047941  0.359733  0.292670  0.790720  1.142628  1.354543   \n",
       "7   178.0  0.304769  0.090194  0.122218  0.239017  0.292670  0.362901   \n",
       "8   178.0  0.927749  0.222247  0.343590  0.810930  0.938050  1.081805   \n",
       "9   178.0  1.731880  0.373143  0.824175  1.439827  1.738709  1.974081   \n",
       "10  178.0  0.664756  0.118284  0.392042  0.578014  0.675489  0.751416   \n",
       "11  178.0  1.263380  0.208824  0.819780  1.077549  1.329724  1.427916   \n",
       "12  178.0  6.531887  0.414475  5.631212  6.217602  6.513969  6.893656   \n",
       "\n",
       "         max  \n",
       "0   2.761907  \n",
       "1   1.916923  \n",
       "2   1.442202  \n",
       "3   3.433987  \n",
       "4   5.093750  \n",
       "5   1.585145  \n",
       "6   1.805005  \n",
       "7   0.506818  \n",
       "8   1.521699  \n",
       "9   2.639057  \n",
       "10  0.996949  \n",
       "11  1.609438  \n",
       "12  7.427144  "
      ]
     },
     "execution_count": 396,
     "metadata": {},
     "output_type": "execute_result"
    }
   ],
   "source": [
    "transformer = FunctionTransformer(np.log1p, validate =  True) #np.log1p returns natural logarithm of (1 + feature value)\n",
    "wine_data_transformer = transformer.transform(np.array(wine_data))\n",
    "pd.DataFrame(wine_data_transformer).describe().T"
   ]
  },
  {
   "cell_type": "markdown",
   "metadata": {},
   "source": [
    "Step 6. Polynomial Features"
   ]
  },
  {
   "cell_type": "code",
   "execution_count": 397,
   "metadata": {},
   "outputs": [
    {
     "data": {
      "text/plain": [
       "(178, 105)"
      ]
     },
     "execution_count": 397,
     "metadata": {},
     "output_type": "execute_result"
    }
   ],
   "source": [
    "from sklearn.preprocessing import PolynomialFeatures\n",
    "\n",
    "\n",
    "poly = PolynomialFeatures(degree=2) # no. features = (degree + #old features)!/(#old features)!\n",
    "poly_wine_data = poly.fit_transform(wine_data.copy())\n",
    "poly_wine_data.shape"
   ]
  },
  {
   "cell_type": "code",
   "execution_count": 398,
   "metadata": {},
   "outputs": [
    {
     "data": {
      "text/plain": [
       "array(['1', 'x0', 'x1', 'x2', 'x3', 'x4', 'x5', 'x6', 'x7', 'x8', 'x9',\n",
       "       'x10', 'x11', 'x12', 'x0^2', 'x0 x1', 'x0 x2', 'x0 x3', 'x0 x4',\n",
       "       'x0 x5', 'x0 x6', 'x0 x7', 'x0 x8', 'x0 x9', 'x0 x10', 'x0 x11',\n",
       "       'x0 x12', 'x1^2', 'x1 x2', 'x1 x3', 'x1 x4', 'x1 x5', 'x1 x6',\n",
       "       'x1 x7', 'x1 x8', 'x1 x9', 'x1 x10', 'x1 x11', 'x1 x12', 'x2^2',\n",
       "       'x2 x3', 'x2 x4', 'x2 x5', 'x2 x6', 'x2 x7', 'x2 x8', 'x2 x9',\n",
       "       'x2 x10', 'x2 x11', 'x2 x12', 'x3^2', 'x3 x4', 'x3 x5', 'x3 x6',\n",
       "       'x3 x7', 'x3 x8', 'x3 x9', 'x3 x10', 'x3 x11', 'x3 x12', 'x4^2',\n",
       "       'x4 x5', 'x4 x6', 'x4 x7', 'x4 x8', 'x4 x9', 'x4 x10', 'x4 x11',\n",
       "       'x4 x12', 'x5^2', 'x5 x6', 'x5 x7', 'x5 x8', 'x5 x9', 'x5 x10',\n",
       "       'x5 x11', 'x5 x12', 'x6^2', 'x6 x7', 'x6 x8', 'x6 x9', 'x6 x10',\n",
       "       'x6 x11', 'x6 x12', 'x7^2', 'x7 x8', 'x7 x9', 'x7 x10', 'x7 x11',\n",
       "       'x7 x12', 'x8^2', 'x8 x9', 'x8 x10', 'x8 x11', 'x8 x12', 'x9^2',\n",
       "       'x9 x10', 'x9 x11', 'x9 x12', 'x10^2', 'x10 x11', 'x10 x12',\n",
       "       'x11^2', 'x11 x12', 'x12^2'], dtype=object)"
      ]
     },
     "execution_count": 398,
     "metadata": {},
     "output_type": "execute_result"
    }
   ],
   "source": [
    "poly.get_feature_names_out()"
   ]
  },
  {
   "cell_type": "markdown",
   "metadata": {},
   "source": [
    "Step 7. Discretization"
   ]
  },
  {
   "cell_type": "code",
   "execution_count": 399,
   "metadata": {},
   "outputs": [],
   "source": [
    "from sklearn.preprocessing import KBinsDiscretizer"
   ]
  },
  {
   "cell_type": "code",
   "execution_count": 400,
   "metadata": {},
   "outputs": [],
   "source": [
    "wine_data = wine_data.copy()\n",
    "\n",
    "kbd = KBinsDiscretizer(n_bins=10, encode='onehot')\n",
    "X = np.array(wine_data[1]).reshape(-1,1)\n",
    "X_binned = kbd.fit_transform(X)"
   ]
  },
  {
   "cell_type": "code",
   "execution_count": 401,
   "metadata": {},
   "outputs": [
    {
     "data": {
      "text/plain": [
       "<178x10 sparse matrix of type '<class 'numpy.float64'>'\n",
       "\twith 178 stored elements in Compressed Sparse Row format>"
      ]
     },
     "execution_count": 401,
     "metadata": {},
     "output_type": "execute_result"
    }
   ],
   "source": [
    "X_binned"
   ]
  },
  {
   "cell_type": "code",
   "execution_count": 402,
   "metadata": {},
   "outputs": [
    {
     "data": {
      "text/plain": [
       "array([[0., 0., 0., 1., 0., 0., 0., 0., 0., 0.],\n",
       "       [0., 0., 0., 0., 1., 0., 0., 0., 0., 0.],\n",
       "       [0., 0., 0., 0., 0., 0., 1., 0., 0., 0.],\n",
       "       [0., 0., 0., 0., 0., 1., 0., 0., 0., 0.],\n",
       "       [0., 0., 0., 0., 0., 0., 1., 0., 0., 0.]])"
      ]
     },
     "execution_count": 402,
     "metadata": {},
     "output_type": "execute_result"
    }
   ],
   "source": [
    "X_binned.toarray()[:5]"
   ]
  },
  {
   "cell_type": "markdown",
   "metadata": {},
   "source": [
    "Step 8. Handling Categorical Features"
   ]
  },
  {
   "cell_type": "markdown",
   "metadata": {},
   "source": [
    "1. One Hot Encoding"
   ]
  },
  {
   "cell_type": "code",
   "execution_count": 403,
   "metadata": {},
   "outputs": [
    {
     "data": {
      "text/plain": [
       "array([0, 0, 0, 0, 0, 0, 0, 0, 0, 0, 0, 0, 0, 0, 0, 0, 0, 0, 0, 0, 0, 0,\n",
       "       0, 0, 0, 0, 0, 0, 0, 0, 0, 0, 0, 0, 0, 0, 0, 0, 0, 0, 0, 0, 0, 0,\n",
       "       0, 0, 0, 0, 0, 0, 1, 1, 1, 1, 1, 1, 1, 1, 1, 1, 1, 1, 1, 1, 1, 1,\n",
       "       1, 1, 1, 1, 1, 1, 1, 1, 1, 1, 1, 1, 1, 1, 1, 1, 1, 1, 1, 1, 1, 1,\n",
       "       1, 1, 1, 1, 1, 1, 1, 1, 1, 1, 1, 1, 2, 2, 2, 2, 2, 2, 2, 2, 2, 2,\n",
       "       2, 2, 2, 2, 2, 2, 2, 2, 2, 2, 2, 2, 2, 2, 2, 2, 2, 2, 2, 2, 2, 2,\n",
       "       2, 2, 2, 2, 2, 2, 2, 2, 2, 2, 2, 2, 2, 2, 2, 2, 2, 2])"
      ]
     },
     "execution_count": 403,
     "metadata": {},
     "output_type": "execute_result"
    }
   ],
   "source": [
    "from sklearn.datasets import load_iris\n",
    "from sklearn.preprocessing import OneHotEncoder\n",
    "data = load_iris()\n",
    "features = data.data\n",
    "label = data.target\n",
    "label"
   ]
  },
  {
   "cell_type": "code",
   "execution_count": 404,
   "metadata": {},
   "outputs": [
    {
     "data": {
      "text/plain": [
       "(150, 1)"
      ]
     },
     "execution_count": 404,
     "metadata": {},
     "output_type": "execute_result"
    }
   ],
   "source": [
    "label = pd.DataFrame(label)\n",
    "label.shape"
   ]
  },
  {
   "cell_type": "code",
   "execution_count": 405,
   "metadata": {},
   "outputs": [
    {
     "name": "stdout",
     "output_type": "stream",
     "text": [
      "Shape of label after encoding : (150, 3)\n",
      "First 5 labels :\n"
     ]
    },
    {
     "data": {
      "text/plain": [
       "array([[1., 0., 0.],\n",
       "       [1., 0., 0.],\n",
       "       [1., 0., 0.],\n",
       "       [1., 0., 0.],\n",
       "       [1., 0., 0.]])"
      ]
     },
     "execution_count": 405,
     "metadata": {},
     "output_type": "execute_result"
    }
   ],
   "source": [
    "one_hot_encoder = OneHotEncoder(categories='auto')\n",
    "\n",
    "iris_labels = one_hot_encoder.fit_transform(label.values.reshape(-1,1))\n",
    "print('Shape of label after encoding :', iris_labels.shape)\n",
    "print('First 5 labels :')\n",
    "iris_labels.toarray()[:5]"
   ]
  },
  {
   "cell_type": "markdown",
   "metadata": {},
   "source": [
    "2. Ordinal Encoding"
   ]
  },
  {
   "cell_type": "code",
   "execution_count": 406,
   "metadata": {},
   "outputs": [
    {
     "name": "stdout",
     "output_type": "stream",
     "text": [
      "Shape of label after encoding : (150, 1)\n",
      "unique lebels : [0. 1. 2.]\n",
      "First 5 labels :\n"
     ]
    },
    {
     "data": {
      "text/plain": [
       "array([[0.],\n",
       "       [0.],\n",
       "       [0.],\n",
       "       [0.],\n",
       "       [0.]])"
      ]
     },
     "execution_count": 406,
     "metadata": {},
     "output_type": "execute_result"
    }
   ],
   "source": [
    "from sklearn.preprocessing import OrdinalEncoder\n",
    "\n",
    "oe = OrdinalEncoder()\n",
    "iris_labels_transformed = oe.fit_transform(label.values.reshape(-1,1))\n",
    "\n",
    "print('Shape of label after encoding :', iris_labels_transformed.shape)\n",
    "print('unique lebels :', np.unique(iris_labels_transformed))\n",
    "print('First 5 labels :')\n",
    "iris_labels_transformed[:5]"
   ]
  },
  {
   "cell_type": "markdown",
   "metadata": {},
   "source": [
    "3. Label Encoder"
   ]
  },
  {
   "cell_type": "code",
   "execution_count": 407,
   "metadata": {},
   "outputs": [],
   "source": [
    "from sklearn.preprocessing import LabelEncoder"
   ]
  },
  {
   "cell_type": "code",
   "execution_count": 408,
   "metadata": {},
   "outputs": [
    {
     "name": "stderr",
     "output_type": "stream",
     "text": [
      "C:\\Users\\HP\\AppData\\Local\\Packages\\PythonSoftwareFoundation.Python.3.9_qbz5n2kfra8p0\\LocalCache\\local-packages\\Python39\\site-packages\\sklearn\\preprocessing\\_label.py:115: DataConversionWarning: A column-vector y was passed when a 1d array was expected. Please change the shape of y to (n_samples, ), for example using ravel().\n",
      "  y = column_or_1d(y, warn=True)\n"
     ]
    },
    {
     "data": {
      "text/plain": [
       "array([0, 0, 0, 0, 0, 0, 0, 0, 0, 0, 0, 0, 0, 0, 0, 0, 0, 0, 0, 0, 0, 0,\n",
       "       0, 0, 0, 0, 0, 0, 0, 0, 0, 0, 0, 0, 0, 0, 0, 0, 0, 0, 0, 0, 0, 0,\n",
       "       0, 0, 0, 0, 0, 0, 1, 1, 1, 1, 1, 1, 1, 1, 1, 1, 1, 1, 1, 1, 1, 1,\n",
       "       1, 1, 1, 1, 1, 1, 1, 1, 1, 1, 1, 1, 1, 1, 1, 1, 1, 1, 1, 1, 1, 1,\n",
       "       1, 1, 1, 1, 1, 1, 1, 1, 1, 1, 1, 1, 2, 2, 2, 2, 2, 2, 2, 2, 2, 2,\n",
       "       2, 2, 2, 2, 2, 2, 2, 2, 2, 2, 2, 2, 2, 2, 2, 2, 2, 2, 2, 2, 2, 2,\n",
       "       2, 2, 2, 2, 2, 2, 2, 2, 2, 2, 2, 2, 2, 2, 2, 2, 2, 2], dtype=int64)"
      ]
     },
     "execution_count": 408,
     "metadata": {},
     "output_type": "execute_result"
    }
   ],
   "source": [
    "le = LabelEncoder()\n",
    "label_int = le.fit_transform(label)\n",
    "label_int"
   ]
  },
  {
   "cell_type": "markdown",
   "metadata": {},
   "source": [
    "4. Multilabel Binarizer"
   ]
  },
  {
   "cell_type": "code",
   "execution_count": 409,
   "metadata": {},
   "outputs": [],
   "source": [
    "genres = [  {'action', 'comedy'},\n",
    "            {'comedy'},\n",
    "            {'action', 'thriller'},\n",
    "            {'scifi', 'action', 'thriller'}\n",
    "        ]"
   ]
  },
  {
   "cell_type": "code",
   "execution_count": 410,
   "metadata": {},
   "outputs": [
    {
     "data": {
      "text/plain": [
       "array([[1, 1, 0, 0],\n",
       "       [0, 1, 0, 0],\n",
       "       [1, 0, 0, 1],\n",
       "       [1, 0, 1, 1]])"
      ]
     },
     "execution_count": 410,
     "metadata": {},
     "output_type": "execute_result"
    }
   ],
   "source": [
    "from sklearn.preprocessing import MultiLabelBinarizer\n",
    "mlb = MultiLabelBinarizer()\n",
    "mlb.fit_transform(genres)"
   ]
  },
  {
   "cell_type": "markdown",
   "metadata": {},
   "source": [
    "5. Dummy Variables"
   ]
  },
  {
   "cell_type": "code",
   "execution_count": 411,
   "metadata": {},
   "outputs": [],
   "source": [
    "#pending..........."
   ]
  },
  {
   "cell_type": "markdown",
   "metadata": {},
   "source": [
    "6. Composite Transformers"
   ]
  },
  {
   "cell_type": "markdown",
   "metadata": {},
   "source": [
    "Column Transformer"
   ]
  },
  {
   "cell_type": "code",
   "execution_count": 412,
   "metadata": {},
   "outputs": [],
   "source": [
    "x = [\n",
    "    [20.0, 'male'],\n",
    "    [11.2, 'female'],\n",
    "    [15.6, ' female'],\n",
    "    [13.0, 'male'],\n",
    "    [18.6, 'male'],\n",
    "    [16.4, 'female']\n",
    "]\n",
    "\n",
    "x =np.array(x)"
   ]
  },
  {
   "cell_type": "code",
   "execution_count": 413,
   "metadata": {},
   "outputs": [
    {
     "data": {
      "text/plain": [
       "array([['1.0', '20.0', '0.0', '0.0', '1.0'],\n",
       "       ['0.5599999999999999', '11.2', '0.0', '1.0', '0.0'],\n",
       "       ['0.78', '15.6', '1.0', '0.0', '0.0'],\n",
       "       ['0.65', '13.0', '0.0', '0.0', '1.0'],\n",
       "       ['0.93', '18.6', '0.0', '0.0', '1.0'],\n",
       "       ['0.82', '16.4', '0.0', '1.0', '0.0']], dtype='<U32')"
      ]
     },
     "execution_count": 413,
     "metadata": {},
     "output_type": "execute_result"
    }
   ],
   "source": [
    "from sklearn.compose import ColumnTransformer\n",
    "from sklearn.preprocessing import MaxAbsScaler, OneHotEncoder\n",
    "\n",
    "ct = ColumnTransformer([('scaler', MaxAbsScaler(), [0]),\n",
    "                        ('pass', 'passthrough', [0]),\n",
    "                        ('encoder', OneHotEncoder(), [1])])\n",
    "\n",
    "ct.fit_transform(x)"
   ]
  },
  {
   "cell_type": "markdown",
   "metadata": {},
   "source": [
    "Transformed Target Regressor"
   ]
  },
  {
   "cell_type": "code",
   "execution_count": 414,
   "metadata": {},
   "outputs": [
    {
     "name": "stdout",
     "output_type": "stream",
     "text": [
      "R2 score of raw label regression : 0.59\n",
      "R2 score of transformed label regression : 0.59\n"
     ]
    }
   ],
   "source": [
    "from sklearn.compose import TransformedTargetRegressor\n",
    "from sklearn.preprocessing import MaxAbsScaler\n",
    "from sklearn.linear_model import LinearRegression\n",
    "from sklearn.model_selection import train_test_split\n",
    "from sklearn.datasets import fetch_california_housing\n",
    "\n",
    "X, y = fetch_california_housing(return_X_y= True)\n",
    "X, y = X[:2000], y[:2000]\n",
    "\n",
    "transformer = MaxAbsScaler()\n",
    "\n",
    "regressor = LinearRegression()\n",
    "\n",
    "regr = TransformedTargetRegressor(regressor = regressor, transformer= transformer )\n",
    "\n",
    "X_train, X_test, y_train, y_test = train_test_split(X, y, random_state = 0)\n",
    "\n",
    "regr.fit(X_train, y_train)\n",
    "\n",
    "print('R2 score of raw label regression : {0:.2f}'.format(regr.score(X_test, y_test)))\n",
    "\n",
    "raw_target_regr = LinearRegression().fit(X_train, y_train)\n",
    "print('R2 score of transformed label regression : {0:.2f}'.format(raw_target_regr.score(X_test, y_test)))"
   ]
  },
  {
   "cell_type": "markdown",
   "metadata": {},
   "source": [
    "Demonstration of Feature Selection Demonstration, PCA, Pipelines, Handling class imbalace"
   ]
  },
  {
   "cell_type": "markdown",
   "metadata": {},
   "source": [
    "1. Variance Threshold"
   ]
  },
  {
   "cell_type": "code",
   "execution_count": 415,
   "metadata": {},
   "outputs": [
    {
     "data": {
      "text/plain": [
       "array([ 12.25  , 149.4725])"
      ]
     },
     "execution_count": 415,
     "metadata": {},
     "output_type": "execute_result"
    }
   ],
   "source": [
    "data = [{'age' : 1, 'height' : 75},\n",
    "        {'age' : 5, 'height' : 98.8},\n",
    "        {'age' : 10, 'height' : 108.5},\n",
    "        {'age' : 2, 'height' : 96.3}]\n",
    "\n",
    "dv = DictVectorizer(sparse = False)\n",
    "data_tranformed = dv.fit_transform(data)\n",
    "\n",
    "np.var(data_tranformed, axis = 0)"
   ]
  },
  {
   "cell_type": "code",
   "execution_count": 416,
   "metadata": {},
   "outputs": [
    {
     "data": {
      "text/plain": [
       "array([[ 75. ],\n",
       "       [ 98.8],\n",
       "       [108.5],\n",
       "       [ 96.3]])"
      ]
     },
     "execution_count": 416,
     "metadata": {},
     "output_type": "execute_result"
    }
   ],
   "source": [
    "from sklearn.feature_selection import VarianceThreshold\n",
    "\n",
    "vt = VarianceThreshold(threshold=25)\n",
    "data_new = vt.fit_transform(data_tranformed)\n",
    "data_new"
   ]
  },
  {
   "cell_type": "markdown",
   "metadata": {},
   "source": [
    "2. SelectKBest"
   ]
  },
  {
   "cell_type": "code",
   "execution_count": 417,
   "metadata": {},
   "outputs": [
    {
     "data": {
      "text/plain": [
       "(2000, 8)"
      ]
     },
     "execution_count": 417,
     "metadata": {},
     "output_type": "execute_result"
    }
   ],
   "source": [
    "from sklearn.datasets import fetch_california_housing\n",
    "from sklearn.model_selection import train_test_split\n",
    "from sklearn.feature_selection import SelectKBest, mutual_info_regression\n",
    "\n",
    "X_cal, y_cal = fetch_california_housing(return_X_y=True)\n",
    "\n",
    "X,y = X_cal[:2000], y_cal[:2000]\n",
    "\n",
    "X.shape"
   ]
  },
  {
   "cell_type": "code",
   "execution_count": 418,
   "metadata": {},
   "outputs": [
    {
     "data": {
      "text/plain": [
       "(2000, 3)"
      ]
     },
     "execution_count": 418,
     "metadata": {},
     "output_type": "execute_result"
    }
   ],
   "source": [
    "skb = SelectKBest(mutual_info_regression, k = 3)\n",
    "X_new = skb.fit_transform(X,y)\n",
    "X_new.shape"
   ]
  },
  {
   "cell_type": "code",
   "execution_count": 419,
   "metadata": {},
   "outputs": [
    {
     "data": {
      "text/plain": [
       "array(['x0', 'x6', 'x7'], dtype=object)"
      ]
     },
     "execution_count": 419,
     "metadata": {},
     "output_type": "execute_result"
    }
   ],
   "source": [
    "skb.get_feature_names_out()"
   ]
  },
  {
   "cell_type": "markdown",
   "metadata": {},
   "source": [
    "3. Select Percentile"
   ]
  },
  {
   "cell_type": "code",
   "execution_count": 420,
   "metadata": {},
   "outputs": [
    {
     "data": {
      "text/plain": [
       "(2000, 3)"
      ]
     },
     "execution_count": 420,
     "metadata": {},
     "output_type": "execute_result"
    }
   ],
   "source": [
    "from sklearn.feature_selection import SelectPercentile\n",
    "sp = SelectPercentile(mutual_info_regression, percentile=30)\n",
    "X_new = sp.fit_transform(X,y)\n",
    "X_new.shape"
   ]
  },
  {
   "cell_type": "code",
   "execution_count": 421,
   "metadata": {},
   "outputs": [
    {
     "data": {
      "text/plain": [
       "array(['x0', 'x6', 'x7'], dtype=object)"
      ]
     },
     "execution_count": 421,
     "metadata": {},
     "output_type": "execute_result"
    }
   ],
   "source": [
    "skb.get_feature_names_out()"
   ]
  },
  {
   "cell_type": "markdown",
   "metadata": {},
   "source": [
    "4. Generic Univariate Select"
   ]
  },
  {
   "cell_type": "code",
   "execution_count": 422,
   "metadata": {},
   "outputs": [
    {
     "name": "stdout",
     "output_type": "stream",
     "text": [
      "(2000, 8) \n",
      " (2000, 3)\n"
     ]
    }
   ],
   "source": [
    "from sklearn.feature_selection import GenericUnivariateSelect\n",
    "gus = GenericUnivariateSelect(mutual_info_regression, mode = 'k_best', param = 3)\n",
    "X_new = gus.fit_transform(X,y)\n",
    "print(X.shape, '\\n', X_new.shape)"
   ]
  },
  {
   "cell_type": "markdown",
   "metadata": {},
   "source": [
    "Wrapper Based Methods"
   ]
  },
  {
   "cell_type": "markdown",
   "metadata": {},
   "source": [
    "1. RFE (Recursive Feature Elimination)\n",
    "\n",
    "Step 1: Fits a model and\n",
    "Step 2: Ranks the feature, afterwards it removes one or more features(depending upon step parameter)."
   ]
  },
  {
   "cell_type": "code",
   "execution_count": 423,
   "metadata": {},
   "outputs": [
    {
     "name": "stdout",
     "output_type": "stream",
     "text": [
      "[ True False False False False False  True  True]\n",
      "Rank of each feature is : [1 5 4 3 6 2 1 1]\n"
     ]
    }
   ],
   "source": [
    "from sklearn.datasets import make_friedman1\n",
    "from sklearn.feature_selection import RFE\n",
    "from sklearn.linear_model import LinearRegression\n",
    "\n",
    "estimator = LinearRegression()\n",
    "selector = RFE(estimator, n_features_to_select = 3, step = 1)\n",
    "selector.fit(X,y)\n",
    "\n",
    "print(selector.support_)\n",
    "print(f'Rank of each feature is : {selector.ranking_}')"
   ]
  },
  {
   "cell_type": "code",
   "execution_count": 424,
   "metadata": {},
   "outputs": [
    {
     "data": {
      "text/plain": [
       "(2000, 3)"
      ]
     },
     "execution_count": 424,
     "metadata": {},
     "output_type": "execute_result"
    }
   ],
   "source": [
    "X_new = selector.transform(X)\n",
    "X_new.shape"
   ]
  },
  {
   "cell_type": "markdown",
   "metadata": {},
   "source": [
    "2. RFE-CV"
   ]
  },
  {
   "cell_type": "code",
   "execution_count": 425,
   "metadata": {},
   "outputs": [
    {
     "name": "stdout",
     "output_type": "stream",
     "text": [
      "coefficients of features : [ 3.64048292e-01  5.56221906e-03  5.13591243e-02 -1.64474348e-01\n",
      "  5.90411479e-05 -1.64573915e-01 -2.17724525e-01 -1.85343265e-01]\n",
      "Indices of top 3 features : [1 2 0]\n"
     ]
    },
    {
     "data": {
      "text/plain": [
       "(2000, 3)"
      ]
     },
     "execution_count": 425,
     "metadata": {},
     "output_type": "execute_result"
    }
   ],
   "source": [
    "from sklearn.feature_selection import SelectFromModel\n",
    "\n",
    "estimator = LinearRegression()\n",
    "estimator.fit(X,y)\n",
    "\n",
    "print(f'coefficients of features : {estimator.coef_}')\n",
    "print(f'Indices of top {3} features : {np.argsort(estimator.coef_)[-3:]}')\n",
    "\n",
    "t = np.argsort(np.abs(estimator.coef_))[-3:]\n",
    "model = SelectFromModel(estimator, max_features=3, prefit=True)\n",
    "X_new = model.transform(X)\n",
    "X_new.shape"
   ]
  },
  {
   "cell_type": "markdown",
   "metadata": {},
   "source": [
    "3. SequentialFeatureSelection"
   ]
  },
  {
   "cell_type": "code",
   "execution_count": 426,
   "metadata": {},
   "outputs": [],
   "source": [
    "from sklearn.feature_selection import SequentialFeatureSelector"
   ]
  },
  {
   "cell_type": "code",
   "execution_count": 458,
   "metadata": {},
   "outputs": [
    {
     "name": "stdout",
     "output_type": "stream",
     "text": [
      "[False  True False False False False False False  True False  True]\n"
     ]
    }
   ],
   "source": [
    "#forward mode\n",
    "# %%time\n",
    "estimator = LinearRegression()\n",
    "\n",
    "sfs = SequentialFeatureSelector(estimator, n_features_to_select=3)\n",
    "sfs.fit_transform(X,y)\n",
    "print(sfs.get_support())"
   ]
  },
  {
   "cell_type": "code",
   "execution_count": 459,
   "metadata": {},
   "outputs": [
    {
     "name": "stdout",
     "output_type": "stream",
     "text": [
      "[False  True False False False False False False False  True  True]\n"
     ]
    }
   ],
   "source": [
    "#backward mode\n",
    "# %%time\n",
    "estimator = LinearRegression()\n",
    "\n",
    "sfs = SequentialFeatureSelector(estimator, n_features_to_select=3, direction='backward')\n",
    "sfs.fit_transform(X,y)\n",
    "print(sfs.get_support())"
   ]
  },
  {
   "cell_type": "markdown",
   "metadata": {},
   "source": [
    "11. PCA"
   ]
  },
  {
   "cell_type": "code",
   "execution_count": 429,
   "metadata": {},
   "outputs": [],
   "source": [
    "from sklearn.datasets import make_regression\n",
    "\n",
    "data = make_regression(n_samples = 3, n_features = 2, n_targets = 1, noise = 3, random_state=42)\n",
    "# data[0].plot.scatter()\n",
    "# plt.xlabel('$X_1$')\n",
    "# plt.ylabel('$X_2$')\n",
    "# plt.title('Data Points', fontsize = 15)\n",
    "# print(X, X1, X2)"
   ]
  },
  {
   "cell_type": "code",
   "execution_count": 430,
   "metadata": {},
   "outputs": [
    {
     "data": {
      "text/html": [
       "<style>#sk-e0fc2ed8-d9e9-431d-9634-a858131921cb {color: black;background-color: white;}#sk-e0fc2ed8-d9e9-431d-9634-a858131921cb pre{padding: 0;}#sk-e0fc2ed8-d9e9-431d-9634-a858131921cb div.sk-toggleable {background-color: white;}#sk-e0fc2ed8-d9e9-431d-9634-a858131921cb label.sk-toggleable__label {cursor: pointer;display: block;width: 100%;margin-bottom: 0;padding: 0.3em;box-sizing: border-box;text-align: center;}#sk-e0fc2ed8-d9e9-431d-9634-a858131921cb label.sk-toggleable__label-arrow:before {content: \"▸\";float: left;margin-right: 0.25em;color: #696969;}#sk-e0fc2ed8-d9e9-431d-9634-a858131921cb label.sk-toggleable__label-arrow:hover:before {color: black;}#sk-e0fc2ed8-d9e9-431d-9634-a858131921cb div.sk-estimator:hover label.sk-toggleable__label-arrow:before {color: black;}#sk-e0fc2ed8-d9e9-431d-9634-a858131921cb div.sk-toggleable__content {max-height: 0;max-width: 0;overflow: hidden;text-align: left;background-color: #f0f8ff;}#sk-e0fc2ed8-d9e9-431d-9634-a858131921cb div.sk-toggleable__content pre {margin: 0.2em;color: black;border-radius: 0.25em;background-color: #f0f8ff;}#sk-e0fc2ed8-d9e9-431d-9634-a858131921cb input.sk-toggleable__control:checked~div.sk-toggleable__content {max-height: 200px;max-width: 100%;overflow: auto;}#sk-e0fc2ed8-d9e9-431d-9634-a858131921cb input.sk-toggleable__control:checked~label.sk-toggleable__label-arrow:before {content: \"▾\";}#sk-e0fc2ed8-d9e9-431d-9634-a858131921cb div.sk-estimator input.sk-toggleable__control:checked~label.sk-toggleable__label {background-color: #d4ebff;}#sk-e0fc2ed8-d9e9-431d-9634-a858131921cb div.sk-label input.sk-toggleable__control:checked~label.sk-toggleable__label {background-color: #d4ebff;}#sk-e0fc2ed8-d9e9-431d-9634-a858131921cb input.sk-hidden--visually {border: 0;clip: rect(1px 1px 1px 1px);clip: rect(1px, 1px, 1px, 1px);height: 1px;margin: -1px;overflow: hidden;padding: 0;position: absolute;width: 1px;}#sk-e0fc2ed8-d9e9-431d-9634-a858131921cb div.sk-estimator {font-family: monospace;background-color: #f0f8ff;border: 1px dotted black;border-radius: 0.25em;box-sizing: border-box;margin-bottom: 0.5em;}#sk-e0fc2ed8-d9e9-431d-9634-a858131921cb div.sk-estimator:hover {background-color: #d4ebff;}#sk-e0fc2ed8-d9e9-431d-9634-a858131921cb div.sk-parallel-item::after {content: \"\";width: 100%;border-bottom: 1px solid gray;flex-grow: 1;}#sk-e0fc2ed8-d9e9-431d-9634-a858131921cb div.sk-label:hover label.sk-toggleable__label {background-color: #d4ebff;}#sk-e0fc2ed8-d9e9-431d-9634-a858131921cb div.sk-serial::before {content: \"\";position: absolute;border-left: 1px solid gray;box-sizing: border-box;top: 2em;bottom: 0;left: 50%;}#sk-e0fc2ed8-d9e9-431d-9634-a858131921cb div.sk-serial {display: flex;flex-direction: column;align-items: center;background-color: white;padding-right: 0.2em;padding-left: 0.2em;}#sk-e0fc2ed8-d9e9-431d-9634-a858131921cb div.sk-item {z-index: 1;}#sk-e0fc2ed8-d9e9-431d-9634-a858131921cb div.sk-parallel {display: flex;align-items: stretch;justify-content: center;background-color: white;}#sk-e0fc2ed8-d9e9-431d-9634-a858131921cb div.sk-parallel::before {content: \"\";position: absolute;border-left: 1px solid gray;box-sizing: border-box;top: 2em;bottom: 0;left: 50%;}#sk-e0fc2ed8-d9e9-431d-9634-a858131921cb div.sk-parallel-item {display: flex;flex-direction: column;position: relative;background-color: white;}#sk-e0fc2ed8-d9e9-431d-9634-a858131921cb div.sk-parallel-item:first-child::after {align-self: flex-end;width: 50%;}#sk-e0fc2ed8-d9e9-431d-9634-a858131921cb div.sk-parallel-item:last-child::after {align-self: flex-start;width: 50%;}#sk-e0fc2ed8-d9e9-431d-9634-a858131921cb div.sk-parallel-item:only-child::after {width: 0;}#sk-e0fc2ed8-d9e9-431d-9634-a858131921cb div.sk-dashed-wrapped {border: 1px dashed gray;margin: 0 0.4em 0.5em 0.4em;box-sizing: border-box;padding-bottom: 0.4em;background-color: white;position: relative;}#sk-e0fc2ed8-d9e9-431d-9634-a858131921cb div.sk-label label {font-family: monospace;font-weight: bold;background-color: white;display: inline-block;line-height: 1.2em;}#sk-e0fc2ed8-d9e9-431d-9634-a858131921cb div.sk-label-container {position: relative;z-index: 2;text-align: center;}#sk-e0fc2ed8-d9e9-431d-9634-a858131921cb div.sk-container {/* jupyter's `normalize.less` sets `[hidden] { display: none; }` but bootstrap.min.css set `[hidden] { display: none !important; }` so we also need the `!important` here to be able to override the default hidden behavior on the sphinx rendered scikit-learn.org. See: https://github.com/scikit-learn/scikit-learn/issues/21755 */display: inline-block !important;position: relative;}#sk-e0fc2ed8-d9e9-431d-9634-a858131921cb div.sk-text-repr-fallback {display: none;}</style><div id=\"sk-e0fc2ed8-d9e9-431d-9634-a858131921cb\" class=\"sk-top-container\"><div class=\"sk-text-repr-fallback\"><pre>PCA(n_components=1)</pre><b>Please rerun this cell to show the HTML repr or trust the notebook.</b></div><div class=\"sk-container\" hidden><div class=\"sk-item\"><div class=\"sk-estimator sk-toggleable\"><input class=\"sk-toggleable__control sk-hidden--visually\" id=\"7fff4279-10c9-4822-b431-036c41fe999a\" type=\"checkbox\" checked><label for=\"7fff4279-10c9-4822-b431-036c41fe999a\" class=\"sk-toggleable__label sk-toggleable__label-arrow\">PCA</label><div class=\"sk-toggleable__content\"><pre>PCA(n_components=1)</pre></div></div></div></div></div>"
      ],
      "text/plain": [
       "PCA(n_components=1)"
      ]
     },
     "execution_count": 430,
     "metadata": {},
     "output_type": "execute_result"
    }
   ],
   "source": [
    "from sklearn.decomposition import PCA\n",
    "pca = PCA(n_components=1)\n",
    "pca.fit(data[0])"
   ]
  },
  {
   "cell_type": "code",
   "execution_count": 431,
   "metadata": {},
   "outputs": [
    {
     "name": "stdout",
     "output_type": "stream",
     "text": [
      "The 1 principal axes are\n",
      " [[0.33872745 0.94088454]]\n"
     ]
    }
   ],
   "source": [
    "print(f'The {pca.n_components_} principal axes are\\n', pca.components_)"
   ]
  },
  {
   "cell_type": "code",
   "execution_count": 432,
   "metadata": {},
   "outputs": [
    {
     "name": "stdout",
     "output_type": "stream",
     "text": [
      "Explained var by each component [1.08834941]\n",
      "Mean across x1 and x2 dim is : [0.30341644 0.38354287]\n"
     ]
    }
   ],
   "source": [
    "print('Explained var by each component', pca.explained_variance_)\n",
    "print('Mean across x1 and x2 dim is :', pca.mean_)"
   ]
  },
  {
   "cell_type": "markdown",
   "metadata": {},
   "source": [
    "##### Visualizing principal components"
   ]
  },
  {
   "cell_type": "code",
   "execution_count": 433,
   "metadata": {},
   "outputs": [
    {
     "data": {
      "text/plain": [
       "<matplotlib.quiver.Quiver at 0x223b52f0430>"
      ]
     },
     "execution_count": 433,
     "metadata": {},
     "output_type": "execute_result"
    },
    {
     "name": "stderr",
     "output_type": "stream",
     "text": [
      "C:\\Users\\HP\\AppData\\Local\\Packages\\PythonSoftwareFoundation.Python.3.9_qbz5n2kfra8p0\\LocalCache\\local-packages\\Python39\\site-packages\\matplotlib\\quiver.py:689: RuntimeWarning: divide by zero encountered in double_scalars\n",
      "  length = a * (widthu_per_lenu / (self.scale * self.width))\n",
      "C:\\Users\\HP\\AppData\\Local\\Packages\\PythonSoftwareFoundation.Python.3.9_qbz5n2kfra8p0\\LocalCache\\local-packages\\Python39\\site-packages\\matplotlib\\quiver.py:689: RuntimeWarning: invalid value encountered in multiply\n",
      "  length = a * (widthu_per_lenu / (self.scale * self.width))\n"
     ]
    },
    {
     "data": {
      "image/png": "[encoded data removed]",
      "text/plain": [
       "<Figure size 720x360 with 1 Axes>"
      ]
     },
     "metadata": {},
     "output_type": "display_data"
    }
   ],
   "source": [
    "origin = np.array([[0,0],[0,0]])\n",
    "plt.quiver(*origin, pca.components_)"
   ]
  },
  {
   "cell_type": "markdown",
   "metadata": {},
   "source": [
    "### **12. Chaining Transfomers**"
   ]
  },
  {
   "cell_type": "markdown",
   "metadata": {},
   "source": [
    "#### **Pipeline**\n",
    "\n",
    "All intermidiate steps of the pipeline must be transformers(implement both *fit* and *transform*) and the final estimator needs to implement *fit* only."
   ]
  },
  {
   "cell_type": "markdown",
   "metadata": {},
   "source": [
    "##### Pipeline formation"
   ]
  },
  {
   "cell_type": "markdown",
   "metadata": {},
   "source": [
    "*Method 1 : Using Pipeline*"
   ]
  },
  {
   "cell_type": "code",
   "execution_count": 434,
   "metadata": {},
   "outputs": [],
   "source": [
    "from sklearn.pipeline import Pipeline\n",
    "\n",
    "estimators = [\n",
    "    ('simpleImputer', SimpleImputer()),\n",
    "    ('standardScaler', StandardScaler())\n",
    "]\n",
    "\n",
    "pipe = Pipeline(steps = estimators)"
   ]
  },
  {
   "cell_type": "markdown",
   "metadata": {},
   "source": [
    "*Method 2 : Using make_pipeline*"
   ]
  },
  {
   "cell_type": "code",
   "execution_count": 435,
   "metadata": {},
   "outputs": [],
   "source": [
    "from sklearn.pipeline import make_pipeline\n",
    "pipe = make_pipeline(SimpleImputer(), StandardScaler())"
   ]
  },
  {
   "cell_type": "markdown",
   "metadata": {},
   "source": [
    "##### Accessing individual steps in a pipeline"
   ]
  },
  {
   "cell_type": "code",
   "execution_count": 436,
   "metadata": {},
   "outputs": [],
   "source": [
    "from sklearn.decomposition import PCA\n",
    "estimators = [\n",
    "    ('simpleImputer', SimpleImputer()),\n",
    "    ('pca', PCA()),\n",
    "    ('regressor', LinearRegression())\n",
    "]\n",
    "\n",
    "pipe = Pipeline(steps = estimators)"
   ]
  },
  {
   "cell_type": "code",
   "execution_count": 437,
   "metadata": {},
   "outputs": [
    {
     "data": {
      "text/plain": [
       "3"
      ]
     },
     "execution_count": 437,
     "metadata": {},
     "output_type": "execute_result"
    }
   ],
   "source": [
    "len(pipe.steps) # #steps in the pipeline"
   ]
  },
  {
   "cell_type": "code",
   "execution_count": 438,
   "metadata": {},
   "outputs": [
    {
     "data": {
      "text/plain": [
       "[('simpleImputer', SimpleImputer()),\n",
       " ('pca', PCA()),\n",
       " ('regressor', LinearRegression())]"
      ]
     },
     "execution_count": 438,
     "metadata": {},
     "output_type": "execute_result"
    }
   ],
   "source": [
    "pipe.steps # names of steps"
   ]
  },
  {
   "cell_type": "markdown",
   "metadata": {},
   "source": [
    "$ Ways\\ to\\ access\\ various\\ steps $"
   ]
  },
  {
   "cell_type": "code",
   "execution_count": 439,
   "metadata": {},
   "outputs": [
    {
     "data": {
      "text/html": [
       "<style>#sk-2fd999d7-0859-43c4-9a83-e0f6ea55c050 {color: black;background-color: white;}#sk-2fd999d7-0859-43c4-9a83-e0f6ea55c050 pre{padding: 0;}#sk-2fd999d7-0859-43c4-9a83-e0f6ea55c050 div.sk-toggleable {background-color: white;}#sk-2fd999d7-0859-43c4-9a83-e0f6ea55c050 label.sk-toggleable__label {cursor: pointer;display: block;width: 100%;margin-bottom: 0;padding: 0.3em;box-sizing: border-box;text-align: center;}#sk-2fd999d7-0859-43c4-9a83-e0f6ea55c050 label.sk-toggleable__label-arrow:before {content: \"▸\";float: left;margin-right: 0.25em;color: #696969;}#sk-2fd999d7-0859-43c4-9a83-e0f6ea55c050 label.sk-toggleable__label-arrow:hover:before {color: black;}#sk-2fd999d7-0859-43c4-9a83-e0f6ea55c050 div.sk-estimator:hover label.sk-toggleable__label-arrow:before {color: black;}#sk-2fd999d7-0859-43c4-9a83-e0f6ea55c050 div.sk-toggleable__content {max-height: 0;max-width: 0;overflow: hidden;text-align: left;background-color: #f0f8ff;}#sk-2fd999d7-0859-43c4-9a83-e0f6ea55c050 div.sk-toggleable__content pre {margin: 0.2em;color: black;border-radius: 0.25em;background-color: #f0f8ff;}#sk-2fd999d7-0859-43c4-9a83-e0f6ea55c050 input.sk-toggleable__control:checked~div.sk-toggleable__content {max-height: 200px;max-width: 100%;overflow: auto;}#sk-2fd999d7-0859-43c4-9a83-e0f6ea55c050 input.sk-toggleable__control:checked~label.sk-toggleable__label-arrow:before {content: \"▾\";}#sk-2fd999d7-0859-43c4-9a83-e0f6ea55c050 div.sk-estimator input.sk-toggleable__control:checked~label.sk-toggleable__label {background-color: #d4ebff;}#sk-2fd999d7-0859-43c4-9a83-e0f6ea55c050 div.sk-label input.sk-toggleable__control:checked~label.sk-toggleable__label {background-color: #d4ebff;}#sk-2fd999d7-0859-43c4-9a83-e0f6ea55c050 input.sk-hidden--visually {border: 0;clip: rect(1px 1px 1px 1px);clip: rect(1px, 1px, 1px, 1px);height: 1px;margin: -1px;overflow: hidden;padding: 0;position: absolute;width: 1px;}#sk-2fd999d7-0859-43c4-9a83-e0f6ea55c050 div.sk-estimator {font-family: monospace;background-color: #f0f8ff;border: 1px dotted black;border-radius: 0.25em;box-sizing: border-box;margin-bottom: 0.5em;}#sk-2fd999d7-0859-43c4-9a83-e0f6ea55c050 div.sk-estimator:hover {background-color: #d4ebff;}#sk-2fd999d7-0859-43c4-9a83-e0f6ea55c050 div.sk-parallel-item::after {content: \"\";width: 100%;border-bottom: 1px solid gray;flex-grow: 1;}#sk-2fd999d7-0859-43c4-9a83-e0f6ea55c050 div.sk-label:hover label.sk-toggleable__label {background-color: #d4ebff;}#sk-2fd999d7-0859-43c4-9a83-e0f6ea55c050 div.sk-serial::before {content: \"\";position: absolute;border-left: 1px solid gray;box-sizing: border-box;top: 2em;bottom: 0;left: 50%;}#sk-2fd999d7-0859-43c4-9a83-e0f6ea55c050 div.sk-serial {display: flex;flex-direction: column;align-items: center;background-color: white;padding-right: 0.2em;padding-left: 0.2em;}#sk-2fd999d7-0859-43c4-9a83-e0f6ea55c050 div.sk-item {z-index: 1;}#sk-2fd999d7-0859-43c4-9a83-e0f6ea55c050 div.sk-parallel {display: flex;align-items: stretch;justify-content: center;background-color: white;}#sk-2fd999d7-0859-43c4-9a83-e0f6ea55c050 div.sk-parallel::before {content: \"\";position: absolute;border-left: 1px solid gray;box-sizing: border-box;top: 2em;bottom: 0;left: 50%;}#sk-2fd999d7-0859-43c4-9a83-e0f6ea55c050 div.sk-parallel-item {display: flex;flex-direction: column;position: relative;background-color: white;}#sk-2fd999d7-0859-43c4-9a83-e0f6ea55c050 div.sk-parallel-item:first-child::after {align-self: flex-end;width: 50%;}#sk-2fd999d7-0859-43c4-9a83-e0f6ea55c050 div.sk-parallel-item:last-child::after {align-self: flex-start;width: 50%;}#sk-2fd999d7-0859-43c4-9a83-e0f6ea55c050 div.sk-parallel-item:only-child::after {width: 0;}#sk-2fd999d7-0859-43c4-9a83-e0f6ea55c050 div.sk-dashed-wrapped {border: 1px dashed gray;margin: 0 0.4em 0.5em 0.4em;box-sizing: border-box;padding-bottom: 0.4em;background-color: white;position: relative;}#sk-2fd999d7-0859-43c4-9a83-e0f6ea55c050 div.sk-label label {font-family: monospace;font-weight: bold;background-color: white;display: inline-block;line-height: 1.2em;}#sk-2fd999d7-0859-43c4-9a83-e0f6ea55c050 div.sk-label-container {position: relative;z-index: 2;text-align: center;}#sk-2fd999d7-0859-43c4-9a83-e0f6ea55c050 div.sk-container {/* jupyter's `normalize.less` sets `[hidden] { display: none; }` but bootstrap.min.css set `[hidden] { display: none !important; }` so we also need the `!important` here to be able to override the default hidden behavior on the sphinx rendered scikit-learn.org. See: https://github.com/scikit-learn/scikit-learn/issues/21755 */display: inline-block !important;position: relative;}#sk-2fd999d7-0859-43c4-9a83-e0f6ea55c050 div.sk-text-repr-fallback {display: none;}</style><div id=\"sk-2fd999d7-0859-43c4-9a83-e0f6ea55c050\" class=\"sk-top-container\"><div class=\"sk-text-repr-fallback\"><pre>PCA()</pre><b>Please rerun this cell to show the HTML repr or trust the notebook.</b></div><div class=\"sk-container\" hidden><div class=\"sk-item\"><div class=\"sk-estimator sk-toggleable\"><input class=\"sk-toggleable__control sk-hidden--visually\" id=\"41eaead7-dc5c-400c-b46a-bae7dd4f22a3\" type=\"checkbox\" checked><label for=\"41eaead7-dc5c-400c-b46a-bae7dd4f22a3\" class=\"sk-toggleable__label sk-toggleable__label-arrow\">PCA</label><div class=\"sk-toggleable__content\"><pre>PCA()</pre></div></div></div></div></div>"
      ],
      "text/plain": [
       "PCA()"
      ]
     },
     "execution_count": 439,
     "metadata": {},
     "output_type": "execute_result"
    }
   ],
   "source": [
    "pipe.named_steps.pca"
   ]
  },
  {
   "cell_type": "code",
   "execution_count": 440,
   "metadata": {},
   "outputs": [
    {
     "data": {
      "text/plain": [
       "('pca', PCA())"
      ]
     },
     "execution_count": 440,
     "metadata": {},
     "output_type": "execute_result"
    }
   ],
   "source": [
    "pipe.steps[1]"
   ]
  },
  {
   "cell_type": "code",
   "execution_count": 441,
   "metadata": {},
   "outputs": [
    {
     "data": {
      "text/html": [
       "<style>#sk-347b57bc-5d89-4b7b-b158-335f7efed4cc {color: black;background-color: white;}#sk-347b57bc-5d89-4b7b-b158-335f7efed4cc pre{padding: 0;}#sk-347b57bc-5d89-4b7b-b158-335f7efed4cc div.sk-toggleable {background-color: white;}#sk-347b57bc-5d89-4b7b-b158-335f7efed4cc label.sk-toggleable__label {cursor: pointer;display: block;width: 100%;margin-bottom: 0;padding: 0.3em;box-sizing: border-box;text-align: center;}#sk-347b57bc-5d89-4b7b-b158-335f7efed4cc label.sk-toggleable__label-arrow:before {content: \"▸\";float: left;margin-right: 0.25em;color: #696969;}#sk-347b57bc-5d89-4b7b-b158-335f7efed4cc label.sk-toggleable__label-arrow:hover:before {color: black;}#sk-347b57bc-5d89-4b7b-b158-335f7efed4cc div.sk-estimator:hover label.sk-toggleable__label-arrow:before {color: black;}#sk-347b57bc-5d89-4b7b-b158-335f7efed4cc div.sk-toggleable__content {max-height: 0;max-width: 0;overflow: hidden;text-align: left;background-color: #f0f8ff;}#sk-347b57bc-5d89-4b7b-b158-335f7efed4cc div.sk-toggleable__content pre {margin: 0.2em;color: black;border-radius: 0.25em;background-color: #f0f8ff;}#sk-347b57bc-5d89-4b7b-b158-335f7efed4cc input.sk-toggleable__control:checked~div.sk-toggleable__content {max-height: 200px;max-width: 100%;overflow: auto;}#sk-347b57bc-5d89-4b7b-b158-335f7efed4cc input.sk-toggleable__control:checked~label.sk-toggleable__label-arrow:before {content: \"▾\";}#sk-347b57bc-5d89-4b7b-b158-335f7efed4cc div.sk-estimator input.sk-toggleable__control:checked~label.sk-toggleable__label {background-color: #d4ebff;}#sk-347b57bc-5d89-4b7b-b158-335f7efed4cc div.sk-label input.sk-toggleable__control:checked~label.sk-toggleable__label {background-color: #d4ebff;}#sk-347b57bc-5d89-4b7b-b158-335f7efed4cc input.sk-hidden--visually {border: 0;clip: rect(1px 1px 1px 1px);clip: rect(1px, 1px, 1px, 1px);height: 1px;margin: -1px;overflow: hidden;padding: 0;position: absolute;width: 1px;}#sk-347b57bc-5d89-4b7b-b158-335f7efed4cc div.sk-estimator {font-family: monospace;background-color: #f0f8ff;border: 1px dotted black;border-radius: 0.25em;box-sizing: border-box;margin-bottom: 0.5em;}#sk-347b57bc-5d89-4b7b-b158-335f7efed4cc div.sk-estimator:hover {background-color: #d4ebff;}#sk-347b57bc-5d89-4b7b-b158-335f7efed4cc div.sk-parallel-item::after {content: \"\";width: 100%;border-bottom: 1px solid gray;flex-grow: 1;}#sk-347b57bc-5d89-4b7b-b158-335f7efed4cc div.sk-label:hover label.sk-toggleable__label {background-color: #d4ebff;}#sk-347b57bc-5d89-4b7b-b158-335f7efed4cc div.sk-serial::before {content: \"\";position: absolute;border-left: 1px solid gray;box-sizing: border-box;top: 2em;bottom: 0;left: 50%;}#sk-347b57bc-5d89-4b7b-b158-335f7efed4cc div.sk-serial {display: flex;flex-direction: column;align-items: center;background-color: white;padding-right: 0.2em;padding-left: 0.2em;}#sk-347b57bc-5d89-4b7b-b158-335f7efed4cc div.sk-item {z-index: 1;}#sk-347b57bc-5d89-4b7b-b158-335f7efed4cc div.sk-parallel {display: flex;align-items: stretch;justify-content: center;background-color: white;}#sk-347b57bc-5d89-4b7b-b158-335f7efed4cc div.sk-parallel::before {content: \"\";position: absolute;border-left: 1px solid gray;box-sizing: border-box;top: 2em;bottom: 0;left: 50%;}#sk-347b57bc-5d89-4b7b-b158-335f7efed4cc div.sk-parallel-item {display: flex;flex-direction: column;position: relative;background-color: white;}#sk-347b57bc-5d89-4b7b-b158-335f7efed4cc div.sk-parallel-item:first-child::after {align-self: flex-end;width: 50%;}#sk-347b57bc-5d89-4b7b-b158-335f7efed4cc div.sk-parallel-item:last-child::after {align-self: flex-start;width: 50%;}#sk-347b57bc-5d89-4b7b-b158-335f7efed4cc div.sk-parallel-item:only-child::after {width: 0;}#sk-347b57bc-5d89-4b7b-b158-335f7efed4cc div.sk-dashed-wrapped {border: 1px dashed gray;margin: 0 0.4em 0.5em 0.4em;box-sizing: border-box;padding-bottom: 0.4em;background-color: white;position: relative;}#sk-347b57bc-5d89-4b7b-b158-335f7efed4cc div.sk-label label {font-family: monospace;font-weight: bold;background-color: white;display: inline-block;line-height: 1.2em;}#sk-347b57bc-5d89-4b7b-b158-335f7efed4cc div.sk-label-container {position: relative;z-index: 2;text-align: center;}#sk-347b57bc-5d89-4b7b-b158-335f7efed4cc div.sk-container {/* jupyter's `normalize.less` sets `[hidden] { display: none; }` but bootstrap.min.css set `[hidden] { display: none !important; }` so we also need the `!important` here to be able to override the default hidden behavior on the sphinx rendered scikit-learn.org. See: https://github.com/scikit-learn/scikit-learn/issues/21755 */display: inline-block !important;position: relative;}#sk-347b57bc-5d89-4b7b-b158-335f7efed4cc div.sk-text-repr-fallback {display: none;}</style><div id=\"sk-347b57bc-5d89-4b7b-b158-335f7efed4cc\" class=\"sk-top-container\"><div class=\"sk-text-repr-fallback\"><pre>PCA()</pre><b>Please rerun this cell to show the HTML repr or trust the notebook.</b></div><div class=\"sk-container\" hidden><div class=\"sk-item\"><div class=\"sk-estimator sk-toggleable\"><input class=\"sk-toggleable__control sk-hidden--visually\" id=\"ccb83d87-fb51-446e-a55b-7418671f5316\" type=\"checkbox\" checked><label for=\"ccb83d87-fb51-446e-a55b-7418671f5316\" class=\"sk-toggleable__label sk-toggleable__label-arrow\">PCA</label><div class=\"sk-toggleable__content\"><pre>PCA()</pre></div></div></div></div></div>"
      ],
      "text/plain": [
       "PCA()"
      ]
     },
     "execution_count": 441,
     "metadata": {},
     "output_type": "execute_result"
    }
   ],
   "source": [
    "pipe[1]"
   ]
  },
  {
   "cell_type": "code",
   "execution_count": 442,
   "metadata": {},
   "outputs": [
    {
     "data": {
      "text/html": [
       "<style>#sk-d2edc48d-bf61-40f6-8a70-e9c10f77e9c6 {color: black;background-color: white;}#sk-d2edc48d-bf61-40f6-8a70-e9c10f77e9c6 pre{padding: 0;}#sk-d2edc48d-bf61-40f6-8a70-e9c10f77e9c6 div.sk-toggleable {background-color: white;}#sk-d2edc48d-bf61-40f6-8a70-e9c10f77e9c6 label.sk-toggleable__label {cursor: pointer;display: block;width: 100%;margin-bottom: 0;padding: 0.3em;box-sizing: border-box;text-align: center;}#sk-d2edc48d-bf61-40f6-8a70-e9c10f77e9c6 label.sk-toggleable__label-arrow:before {content: \"▸\";float: left;margin-right: 0.25em;color: #696969;}#sk-d2edc48d-bf61-40f6-8a70-e9c10f77e9c6 label.sk-toggleable__label-arrow:hover:before {color: black;}#sk-d2edc48d-bf61-40f6-8a70-e9c10f77e9c6 div.sk-estimator:hover label.sk-toggleable__label-arrow:before {color: black;}#sk-d2edc48d-bf61-40f6-8a70-e9c10f77e9c6 div.sk-toggleable__content {max-height: 0;max-width: 0;overflow: hidden;text-align: left;background-color: #f0f8ff;}#sk-d2edc48d-bf61-40f6-8a70-e9c10f77e9c6 div.sk-toggleable__content pre {margin: 0.2em;color: black;border-radius: 0.25em;background-color: #f0f8ff;}#sk-d2edc48d-bf61-40f6-8a70-e9c10f77e9c6 input.sk-toggleable__control:checked~div.sk-toggleable__content {max-height: 200px;max-width: 100%;overflow: auto;}#sk-d2edc48d-bf61-40f6-8a70-e9c10f77e9c6 input.sk-toggleable__control:checked~label.sk-toggleable__label-arrow:before {content: \"▾\";}#sk-d2edc48d-bf61-40f6-8a70-e9c10f77e9c6 div.sk-estimator input.sk-toggleable__control:checked~label.sk-toggleable__label {background-color: #d4ebff;}#sk-d2edc48d-bf61-40f6-8a70-e9c10f77e9c6 div.sk-label input.sk-toggleable__control:checked~label.sk-toggleable__label {background-color: #d4ebff;}#sk-d2edc48d-bf61-40f6-8a70-e9c10f77e9c6 input.sk-hidden--visually {border: 0;clip: rect(1px 1px 1px 1px);clip: rect(1px, 1px, 1px, 1px);height: 1px;margin: -1px;overflow: hidden;padding: 0;position: absolute;width: 1px;}#sk-d2edc48d-bf61-40f6-8a70-e9c10f77e9c6 div.sk-estimator {font-family: monospace;background-color: #f0f8ff;border: 1px dotted black;border-radius: 0.25em;box-sizing: border-box;margin-bottom: 0.5em;}#sk-d2edc48d-bf61-40f6-8a70-e9c10f77e9c6 div.sk-estimator:hover {background-color: #d4ebff;}#sk-d2edc48d-bf61-40f6-8a70-e9c10f77e9c6 div.sk-parallel-item::after {content: \"\";width: 100%;border-bottom: 1px solid gray;flex-grow: 1;}#sk-d2edc48d-bf61-40f6-8a70-e9c10f77e9c6 div.sk-label:hover label.sk-toggleable__label {background-color: #d4ebff;}#sk-d2edc48d-bf61-40f6-8a70-e9c10f77e9c6 div.sk-serial::before {content: \"\";position: absolute;border-left: 1px solid gray;box-sizing: border-box;top: 2em;bottom: 0;left: 50%;}#sk-d2edc48d-bf61-40f6-8a70-e9c10f77e9c6 div.sk-serial {display: flex;flex-direction: column;align-items: center;background-color: white;padding-right: 0.2em;padding-left: 0.2em;}#sk-d2edc48d-bf61-40f6-8a70-e9c10f77e9c6 div.sk-item {z-index: 1;}#sk-d2edc48d-bf61-40f6-8a70-e9c10f77e9c6 div.sk-parallel {display: flex;align-items: stretch;justify-content: center;background-color: white;}#sk-d2edc48d-bf61-40f6-8a70-e9c10f77e9c6 div.sk-parallel::before {content: \"\";position: absolute;border-left: 1px solid gray;box-sizing: border-box;top: 2em;bottom: 0;left: 50%;}#sk-d2edc48d-bf61-40f6-8a70-e9c10f77e9c6 div.sk-parallel-item {display: flex;flex-direction: column;position: relative;background-color: white;}#sk-d2edc48d-bf61-40f6-8a70-e9c10f77e9c6 div.sk-parallel-item:first-child::after {align-self: flex-end;width: 50%;}#sk-d2edc48d-bf61-40f6-8a70-e9c10f77e9c6 div.sk-parallel-item:last-child::after {align-self: flex-start;width: 50%;}#sk-d2edc48d-bf61-40f6-8a70-e9c10f77e9c6 div.sk-parallel-item:only-child::after {width: 0;}#sk-d2edc48d-bf61-40f6-8a70-e9c10f77e9c6 div.sk-dashed-wrapped {border: 1px dashed gray;margin: 0 0.4em 0.5em 0.4em;box-sizing: border-box;padding-bottom: 0.4em;background-color: white;position: relative;}#sk-d2edc48d-bf61-40f6-8a70-e9c10f77e9c6 div.sk-label label {font-family: monospace;font-weight: bold;background-color: white;display: inline-block;line-height: 1.2em;}#sk-d2edc48d-bf61-40f6-8a70-e9c10f77e9c6 div.sk-label-container {position: relative;z-index: 2;text-align: center;}#sk-d2edc48d-bf61-40f6-8a70-e9c10f77e9c6 div.sk-container {/* jupyter's `normalize.less` sets `[hidden] { display: none; }` but bootstrap.min.css set `[hidden] { display: none !important; }` so we also need the `!important` here to be able to override the default hidden behavior on the sphinx rendered scikit-learn.org. See: https://github.com/scikit-learn/scikit-learn/issues/21755 */display: inline-block !important;position: relative;}#sk-d2edc48d-bf61-40f6-8a70-e9c10f77e9c6 div.sk-text-repr-fallback {display: none;}</style><div id=\"sk-d2edc48d-bf61-40f6-8a70-e9c10f77e9c6\" class=\"sk-top-container\"><div class=\"sk-text-repr-fallback\"><pre>PCA()</pre><b>Please rerun this cell to show the HTML repr or trust the notebook.</b></div><div class=\"sk-container\" hidden><div class=\"sk-item\"><div class=\"sk-estimator sk-toggleable\"><input class=\"sk-toggleable__control sk-hidden--visually\" id=\"d6a83229-e0b9-4a25-b003-6522b7baedfd\" type=\"checkbox\" checked><label for=\"d6a83229-e0b9-4a25-b003-6522b7baedfd\" class=\"sk-toggleable__label sk-toggleable__label-arrow\">PCA</label><div class=\"sk-toggleable__content\"><pre>PCA()</pre></div></div></div></div></div>"
      ],
      "text/plain": [
       "PCA()"
      ]
     },
     "execution_count": 442,
     "metadata": {},
     "output_type": "execute_result"
    }
   ],
   "source": [
    "pipe['pca']"
   ]
  },
  {
   "cell_type": "markdown",
   "metadata": {},
   "source": [
    "$ Accessing\\ parameters\\ of\\ a\\ step\\ in\\ pipeline $"
   ]
  },
  {
   "cell_type": "markdown",
   "metadata": {},
   "source": [
    "Use the __ syntax"
   ]
  },
  {
   "cell_type": "code",
   "execution_count": 443,
   "metadata": {},
   "outputs": [
    {
     "data": {
      "text/html": [
       "<style>#sk-7dfeda5a-0001-498b-823b-e639f14e52d6 {color: black;background-color: white;}#sk-7dfeda5a-0001-498b-823b-e639f14e52d6 pre{padding: 0;}#sk-7dfeda5a-0001-498b-823b-e639f14e52d6 div.sk-toggleable {background-color: white;}#sk-7dfeda5a-0001-498b-823b-e639f14e52d6 label.sk-toggleable__label {cursor: pointer;display: block;width: 100%;margin-bottom: 0;padding: 0.3em;box-sizing: border-box;text-align: center;}#sk-7dfeda5a-0001-498b-823b-e639f14e52d6 label.sk-toggleable__label-arrow:before {content: \"▸\";float: left;margin-right: 0.25em;color: #696969;}#sk-7dfeda5a-0001-498b-823b-e639f14e52d6 label.sk-toggleable__label-arrow:hover:before {color: black;}#sk-7dfeda5a-0001-498b-823b-e639f14e52d6 div.sk-estimator:hover label.sk-toggleable__label-arrow:before {color: black;}#sk-7dfeda5a-0001-498b-823b-e639f14e52d6 div.sk-toggleable__content {max-height: 0;max-width: 0;overflow: hidden;text-align: left;background-color: #f0f8ff;}#sk-7dfeda5a-0001-498b-823b-e639f14e52d6 div.sk-toggleable__content pre {margin: 0.2em;color: black;border-radius: 0.25em;background-color: #f0f8ff;}#sk-7dfeda5a-0001-498b-823b-e639f14e52d6 input.sk-toggleable__control:checked~div.sk-toggleable__content {max-height: 200px;max-width: 100%;overflow: auto;}#sk-7dfeda5a-0001-498b-823b-e639f14e52d6 input.sk-toggleable__control:checked~label.sk-toggleable__label-arrow:before {content: \"▾\";}#sk-7dfeda5a-0001-498b-823b-e639f14e52d6 div.sk-estimator input.sk-toggleable__control:checked~label.sk-toggleable__label {background-color: #d4ebff;}#sk-7dfeda5a-0001-498b-823b-e639f14e52d6 div.sk-label input.sk-toggleable__control:checked~label.sk-toggleable__label {background-color: #d4ebff;}#sk-7dfeda5a-0001-498b-823b-e639f14e52d6 input.sk-hidden--visually {border: 0;clip: rect(1px 1px 1px 1px);clip: rect(1px, 1px, 1px, 1px);height: 1px;margin: -1px;overflow: hidden;padding: 0;position: absolute;width: 1px;}#sk-7dfeda5a-0001-498b-823b-e639f14e52d6 div.sk-estimator {font-family: monospace;background-color: #f0f8ff;border: 1px dotted black;border-radius: 0.25em;box-sizing: border-box;margin-bottom: 0.5em;}#sk-7dfeda5a-0001-498b-823b-e639f14e52d6 div.sk-estimator:hover {background-color: #d4ebff;}#sk-7dfeda5a-0001-498b-823b-e639f14e52d6 div.sk-parallel-item::after {content: \"\";width: 100%;border-bottom: 1px solid gray;flex-grow: 1;}#sk-7dfeda5a-0001-498b-823b-e639f14e52d6 div.sk-label:hover label.sk-toggleable__label {background-color: #d4ebff;}#sk-7dfeda5a-0001-498b-823b-e639f14e52d6 div.sk-serial::before {content: \"\";position: absolute;border-left: 1px solid gray;box-sizing: border-box;top: 2em;bottom: 0;left: 50%;}#sk-7dfeda5a-0001-498b-823b-e639f14e52d6 div.sk-serial {display: flex;flex-direction: column;align-items: center;background-color: white;padding-right: 0.2em;padding-left: 0.2em;}#sk-7dfeda5a-0001-498b-823b-e639f14e52d6 div.sk-item {z-index: 1;}#sk-7dfeda5a-0001-498b-823b-e639f14e52d6 div.sk-parallel {display: flex;align-items: stretch;justify-content: center;background-color: white;}#sk-7dfeda5a-0001-498b-823b-e639f14e52d6 div.sk-parallel::before {content: \"\";position: absolute;border-left: 1px solid gray;box-sizing: border-box;top: 2em;bottom: 0;left: 50%;}#sk-7dfeda5a-0001-498b-823b-e639f14e52d6 div.sk-parallel-item {display: flex;flex-direction: column;position: relative;background-color: white;}#sk-7dfeda5a-0001-498b-823b-e639f14e52d6 div.sk-parallel-item:first-child::after {align-self: flex-end;width: 50%;}#sk-7dfeda5a-0001-498b-823b-e639f14e52d6 div.sk-parallel-item:last-child::after {align-self: flex-start;width: 50%;}#sk-7dfeda5a-0001-498b-823b-e639f14e52d6 div.sk-parallel-item:only-child::after {width: 0;}#sk-7dfeda5a-0001-498b-823b-e639f14e52d6 div.sk-dashed-wrapped {border: 1px dashed gray;margin: 0 0.4em 0.5em 0.4em;box-sizing: border-box;padding-bottom: 0.4em;background-color: white;position: relative;}#sk-7dfeda5a-0001-498b-823b-e639f14e52d6 div.sk-label label {font-family: monospace;font-weight: bold;background-color: white;display: inline-block;line-height: 1.2em;}#sk-7dfeda5a-0001-498b-823b-e639f14e52d6 div.sk-label-container {position: relative;z-index: 2;text-align: center;}#sk-7dfeda5a-0001-498b-823b-e639f14e52d6 div.sk-container {/* jupyter's `normalize.less` sets `[hidden] { display: none; }` but bootstrap.min.css set `[hidden] { display: none !important; }` so we also need the `!important` here to be able to override the default hidden behavior on the sphinx rendered scikit-learn.org. See: https://github.com/scikit-learn/scikit-learn/issues/21755 */display: inline-block !important;position: relative;}#sk-7dfeda5a-0001-498b-823b-e639f14e52d6 div.sk-text-repr-fallback {display: none;}</style><div id=\"sk-7dfeda5a-0001-498b-823b-e639f14e52d6\" class=\"sk-top-container\"><div class=\"sk-text-repr-fallback\"><pre>Pipeline(steps=[(&#x27;simpleImputer&#x27;, SimpleImputer(missing_values=2)),\n",
       "                (&#x27;pca&#x27;, PCA()), (&#x27;regressor&#x27;, LinearRegression())])</pre><b>Please rerun this cell to show the HTML repr or trust the notebook.</b></div><div class=\"sk-container\" hidden><div class=\"sk-item sk-dashed-wrapped\"><div class=\"sk-label-container\"><div class=\"sk-label sk-toggleable\"><input class=\"sk-toggleable__control sk-hidden--visually\" id=\"419258b3-0931-40ea-83f6-4dc158a42747\" type=\"checkbox\" ><label for=\"419258b3-0931-40ea-83f6-4dc158a42747\" class=\"sk-toggleable__label sk-toggleable__label-arrow\">Pipeline</label><div class=\"sk-toggleable__content\"><pre>Pipeline(steps=[(&#x27;simpleImputer&#x27;, SimpleImputer(missing_values=2)),\n",
       "                (&#x27;pca&#x27;, PCA()), (&#x27;regressor&#x27;, LinearRegression())])</pre></div></div></div><div class=\"sk-serial\"><div class=\"sk-item\"><div class=\"sk-estimator sk-toggleable\"><input class=\"sk-toggleable__control sk-hidden--visually\" id=\"8a2cd439-6b47-4209-b735-2b3731d5dc52\" type=\"checkbox\" ><label for=\"8a2cd439-6b47-4209-b735-2b3731d5dc52\" class=\"sk-toggleable__label sk-toggleable__label-arrow\">SimpleImputer</label><div class=\"sk-toggleable__content\"><pre>SimpleImputer(missing_values=2)</pre></div></div></div><div class=\"sk-item\"><div class=\"sk-estimator sk-toggleable\"><input class=\"sk-toggleable__control sk-hidden--visually\" id=\"ad818133-e36c-458c-8c23-3bf2c42ba6d8\" type=\"checkbox\" ><label for=\"ad818133-e36c-458c-8c23-3bf2c42ba6d8\" class=\"sk-toggleable__label sk-toggleable__label-arrow\">PCA</label><div class=\"sk-toggleable__content\"><pre>PCA()</pre></div></div></div><div class=\"sk-item\"><div class=\"sk-estimator sk-toggleable\"><input class=\"sk-toggleable__control sk-hidden--visually\" id=\"04ae4fbd-2fdf-479f-8c9a-a0048eed431f\" type=\"checkbox\" ><label for=\"04ae4fbd-2fdf-479f-8c9a-a0048eed431f\" class=\"sk-toggleable__label sk-toggleable__label-arrow\">LinearRegression</label><div class=\"sk-toggleable__content\"><pre>LinearRegression()</pre></div></div></div></div></div></div></div>"
      ],
      "text/plain": [
       "Pipeline(steps=[('simpleImputer', SimpleImputer(missing_values=2)),\n",
       "                ('pca', PCA()), ('regressor', LinearRegression())])"
      ]
     },
     "execution_count": 443,
     "metadata": {},
     "output_type": "execute_result"
    }
   ],
   "source": [
    "pipe.set_params(simpleImputer__missing_values = 2)"
   ]
  },
  {
   "cell_type": "markdown",
   "metadata": {},
   "source": [
    "##### GridSearch with Pipeline"
   ]
  },
  {
   "cell_type": "code",
   "execution_count": 444,
   "metadata": {},
   "outputs": [],
   "source": [
    "from sklearn.impute import KNNImputer\n",
    "from sklearn.linear_model import LogisticRegression\n",
    "from sklearn.svm import SVC\n",
    "from sklearn.model_selection import GridSearchCV\n",
    "\n",
    "param_grid = dict(imputer = ['passthrough',\n",
    "                            SimpleImputer(),\n",
    "                            KNNImputer()],\n",
    "                        clf = [SVC(), LogisticRegression()],\n",
    "                        clf__C = [0.1, 10, 100])\n",
    "\n",
    "grid_search = GridSearchCV(pipe, param_grid=param_grid)"
   ]
  },
  {
   "cell_type": "markdown",
   "metadata": {},
   "source": [
    "#### **Caching Transformer**"
   ]
  },
  {
   "cell_type": "markdown",
   "metadata": {},
   "source": [
    "Transforming the data is a computationally expensive step. So, instead of transforming now and then we should apply it once and reuse it."
   ]
  },
  {
   "cell_type": "code",
   "execution_count": 445,
   "metadata": {},
   "outputs": [],
   "source": [
    "import tempfile\n",
    "tempDirPath = tempfile.TemporaryDirectory()"
   ]
  },
  {
   "cell_type": "code",
   "execution_count": 446,
   "metadata": {},
   "outputs": [],
   "source": [
    "estimators = [\n",
    "    ('simpleImputer', SimpleImputer()),\n",
    "    ('pca', PCA()),\n",
    "    ('regressor', LinearRegression())\n",
    "]\n",
    "\n",
    "pipe = Pipeline(steps = estimators, memory = tempDirPath)"
   ]
  },
  {
   "cell_type": "markdown",
   "metadata": {},
   "source": [
    "#### **FeatureUnion**"
   ]
  },
  {
   "cell_type": "markdown",
   "metadata": {},
   "source": [
    "Concatenates results of multiple transformer objects side-by-side to get a larger matrix."
   ]
  },
  {
   "cell_type": "markdown",
   "metadata": {},
   "source": [
    "### **13. Visualizing Pipelines**"
   ]
  },
  {
   "cell_type": "code",
   "execution_count": 447,
   "metadata": {},
   "outputs": [],
   "source": [
    "from sklearn.preprocessing import StandardScaler, LabelBinarizer\n",
    "from sklearn.pipeline import Pipeline, FeatureUnion\n",
    "from sklearn.compose import ColumnTransformer\n",
    "from sklearn.impute import SimpleImputer\n",
    "\n",
    "num_pipe = Pipeline([('selector', ColumnTransformer([('select_first_4', 'passthrough', slice(0,4))])),\n",
    "                    ('impute', SimpleImputer(strategy = 'median')),\n",
    "                    ('std_scaler', StandardScaler())\n",
    "                    ])\n",
    "\n",
    "cat_pipe = ColumnTransformer([('label_binarizer', LabelBinarizer(), [4])])\n",
    "\n",
    "full_pipe = FeatureUnion(transformer_list = [('num_pipe', num_pipe),\n",
    "                                            ('cat_pipe', cat_pipe)])"
   ]
  },
  {
   "cell_type": "code",
   "execution_count": 448,
   "metadata": {},
   "outputs": [
    {
     "data": {
      "text/html": [
       "<style>#sk-67313208-064b-4328-9c0a-cb890769b8eb {color: black;background-color: white;}#sk-67313208-064b-4328-9c0a-cb890769b8eb pre{padding: 0;}#sk-67313208-064b-4328-9c0a-cb890769b8eb div.sk-toggleable {background-color: white;}#sk-67313208-064b-4328-9c0a-cb890769b8eb label.sk-toggleable__label {cursor: pointer;display: block;width: 100%;margin-bottom: 0;padding: 0.3em;box-sizing: border-box;text-align: center;}#sk-67313208-064b-4328-9c0a-cb890769b8eb label.sk-toggleable__label-arrow:before {content: \"▸\";float: left;margin-right: 0.25em;color: #696969;}#sk-67313208-064b-4328-9c0a-cb890769b8eb label.sk-toggleable__label-arrow:hover:before {color: black;}#sk-67313208-064b-4328-9c0a-cb890769b8eb div.sk-estimator:hover label.sk-toggleable__label-arrow:before {color: black;}#sk-67313208-064b-4328-9c0a-cb890769b8eb div.sk-toggleable__content {max-height: 0;max-width: 0;overflow: hidden;text-align: left;background-color: #f0f8ff;}#sk-67313208-064b-4328-9c0a-cb890769b8eb div.sk-toggleable__content pre {margin: 0.2em;color: black;border-radius: 0.25em;background-color: #f0f8ff;}#sk-67313208-064b-4328-9c0a-cb890769b8eb input.sk-toggleable__control:checked~div.sk-toggleable__content {max-height: 200px;max-width: 100%;overflow: auto;}#sk-67313208-064b-4328-9c0a-cb890769b8eb input.sk-toggleable__control:checked~label.sk-toggleable__label-arrow:before {content: \"▾\";}#sk-67313208-064b-4328-9c0a-cb890769b8eb div.sk-estimator input.sk-toggleable__control:checked~label.sk-toggleable__label {background-color: #d4ebff;}#sk-67313208-064b-4328-9c0a-cb890769b8eb div.sk-label input.sk-toggleable__control:checked~label.sk-toggleable__label {background-color: #d4ebff;}#sk-67313208-064b-4328-9c0a-cb890769b8eb input.sk-hidden--visually {border: 0;clip: rect(1px 1px 1px 1px);clip: rect(1px, 1px, 1px, 1px);height: 1px;margin: -1px;overflow: hidden;padding: 0;position: absolute;width: 1px;}#sk-67313208-064b-4328-9c0a-cb890769b8eb div.sk-estimator {font-family: monospace;background-color: #f0f8ff;border: 1px dotted black;border-radius: 0.25em;box-sizing: border-box;margin-bottom: 0.5em;}#sk-67313208-064b-4328-9c0a-cb890769b8eb div.sk-estimator:hover {background-color: #d4ebff;}#sk-67313208-064b-4328-9c0a-cb890769b8eb div.sk-parallel-item::after {content: \"\";width: 100%;border-bottom: 1px solid gray;flex-grow: 1;}#sk-67313208-064b-4328-9c0a-cb890769b8eb div.sk-label:hover label.sk-toggleable__label {background-color: #d4ebff;}#sk-67313208-064b-4328-9c0a-cb890769b8eb div.sk-serial::before {content: \"\";position: absolute;border-left: 1px solid gray;box-sizing: border-box;top: 2em;bottom: 0;left: 50%;}#sk-67313208-064b-4328-9c0a-cb890769b8eb div.sk-serial {display: flex;flex-direction: column;align-items: center;background-color: white;padding-right: 0.2em;padding-left: 0.2em;}#sk-67313208-064b-4328-9c0a-cb890769b8eb div.sk-item {z-index: 1;}#sk-67313208-064b-4328-9c0a-cb890769b8eb div.sk-parallel {display: flex;align-items: stretch;justify-content: center;background-color: white;}#sk-67313208-064b-4328-9c0a-cb890769b8eb div.sk-parallel::before {content: \"\";position: absolute;border-left: 1px solid gray;box-sizing: border-box;top: 2em;bottom: 0;left: 50%;}#sk-67313208-064b-4328-9c0a-cb890769b8eb div.sk-parallel-item {display: flex;flex-direction: column;position: relative;background-color: white;}#sk-67313208-064b-4328-9c0a-cb890769b8eb div.sk-parallel-item:first-child::after {align-self: flex-end;width: 50%;}#sk-67313208-064b-4328-9c0a-cb890769b8eb div.sk-parallel-item:last-child::after {align-self: flex-start;width: 50%;}#sk-67313208-064b-4328-9c0a-cb890769b8eb div.sk-parallel-item:only-child::after {width: 0;}#sk-67313208-064b-4328-9c0a-cb890769b8eb div.sk-dashed-wrapped {border: 1px dashed gray;margin: 0 0.4em 0.5em 0.4em;box-sizing: border-box;padding-bottom: 0.4em;background-color: white;position: relative;}#sk-67313208-064b-4328-9c0a-cb890769b8eb div.sk-label label {font-family: monospace;font-weight: bold;background-color: white;display: inline-block;line-height: 1.2em;}#sk-67313208-064b-4328-9c0a-cb890769b8eb div.sk-label-container {position: relative;z-index: 2;text-align: center;}#sk-67313208-064b-4328-9c0a-cb890769b8eb div.sk-container {/* jupyter's `normalize.less` sets `[hidden] { display: none; }` but bootstrap.min.css set `[hidden] { display: none !important; }` so we also need the `!important` here to be able to override the default hidden behavior on the sphinx rendered scikit-learn.org. See: https://github.com/scikit-learn/scikit-learn/issues/21755 */display: inline-block !important;position: relative;}#sk-67313208-064b-4328-9c0a-cb890769b8eb div.sk-text-repr-fallback {display: none;}</style><div id=\"sk-67313208-064b-4328-9c0a-cb890769b8eb\" class=\"sk-top-container\"><div class=\"sk-text-repr-fallback\"><pre>FeatureUnion(transformer_list=[(&#x27;num_pipe&#x27;,\n",
       "                                Pipeline(steps=[(&#x27;selector&#x27;,\n",
       "                                                 ColumnTransformer(transformers=[(&#x27;select_first_4&#x27;,\n",
       "                                                                                  &#x27;passthrough&#x27;,\n",
       "                                                                                  slice(0, 4, None))])),\n",
       "                                                (&#x27;impute&#x27;,\n",
       "                                                 SimpleImputer(strategy=&#x27;median&#x27;)),\n",
       "                                                (&#x27;std_scaler&#x27;,\n",
       "                                                 StandardScaler())])),\n",
       "                               (&#x27;cat_pipe&#x27;,\n",
       "                                ColumnTransformer(transformers=[(&#x27;label_binarizer&#x27;,\n",
       "                                                                 LabelBinarizer(),\n",
       "                                                                 [4])]))])</pre><b>Please rerun this cell to show the HTML repr or trust the notebook.</b></div><div class=\"sk-container\" hidden><div class=\"sk-item sk-dashed-wrapped\"><div class=\"sk-label-container\"><div class=\"sk-label sk-toggleable\"><input class=\"sk-toggleable__control sk-hidden--visually\" id=\"167cc86d-5edb-4ac8-855b-7c53b01309e0\" type=\"checkbox\" ><label for=\"167cc86d-5edb-4ac8-855b-7c53b01309e0\" class=\"sk-toggleable__label sk-toggleable__label-arrow\">FeatureUnion</label><div class=\"sk-toggleable__content\"><pre>FeatureUnion(transformer_list=[(&#x27;num_pipe&#x27;,\n",
       "                                Pipeline(steps=[(&#x27;selector&#x27;,\n",
       "                                                 ColumnTransformer(transformers=[(&#x27;select_first_4&#x27;,\n",
       "                                                                                  &#x27;passthrough&#x27;,\n",
       "                                                                                  slice(0, 4, None))])),\n",
       "                                                (&#x27;impute&#x27;,\n",
       "                                                 SimpleImputer(strategy=&#x27;median&#x27;)),\n",
       "                                                (&#x27;std_scaler&#x27;,\n",
       "                                                 StandardScaler())])),\n",
       "                               (&#x27;cat_pipe&#x27;,\n",
       "                                ColumnTransformer(transformers=[(&#x27;label_binarizer&#x27;,\n",
       "                                                                 LabelBinarizer(),\n",
       "                                                                 [4])]))])</pre></div></div></div><div class=\"sk-parallel\"><div class=\"sk-parallel-item\"><div class=\"sk-item\"><div class=\"sk-label-container\"><div class=\"sk-label sk-toggleable\"><label>num_pipe</label></div></div><div class=\"sk-serial\"><div class=\"sk-item\"><div class=\"sk-serial\"><div class=\"sk-item sk-dashed-wrapped\"><div class=\"sk-label-container\"><div class=\"sk-label sk-toggleable\"><input class=\"sk-toggleable__control sk-hidden--visually\" id=\"5637ec11-9e90-4923-9b61-84143eb3ced6\" type=\"checkbox\" ><label for=\"5637ec11-9e90-4923-9b61-84143eb3ced6\" class=\"sk-toggleable__label sk-toggleable__label-arrow\">selector: ColumnTransformer</label><div class=\"sk-toggleable__content\"><pre>ColumnTransformer(transformers=[(&#x27;select_first_4&#x27;, &#x27;passthrough&#x27;,\n",
       "                                 slice(0, 4, None))])</pre></div></div></div><div class=\"sk-parallel\"><div class=\"sk-parallel-item\"><div class=\"sk-item\"><div class=\"sk-label-container\"><div class=\"sk-label sk-toggleable\"><input class=\"sk-toggleable__control sk-hidden--visually\" id=\"6331ecbe-666d-4d5f-b6a8-518a350f87ca\" type=\"checkbox\" ><label for=\"6331ecbe-666d-4d5f-b6a8-518a350f87ca\" class=\"sk-toggleable__label sk-toggleable__label-arrow\">select_first_4</label><div class=\"sk-toggleable__content\"><pre>slice(0, 4, None)</pre></div></div></div><div class=\"sk-serial\"><div class=\"sk-item\"><div class=\"sk-estimator sk-toggleable\"><input class=\"sk-toggleable__control sk-hidden--visually\" id=\"94d3ca5e-50ab-41ee-8a1a-42792bda04ae\" type=\"checkbox\" ><label for=\"94d3ca5e-50ab-41ee-8a1a-42792bda04ae\" class=\"sk-toggleable__label sk-toggleable__label-arrow\">passthrough</label><div class=\"sk-toggleable__content\"><pre>passthrough</pre></div></div></div></div></div></div></div></div><div class=\"sk-item\"><div class=\"sk-estimator sk-toggleable\"><input class=\"sk-toggleable__control sk-hidden--visually\" id=\"4badc61b-4cb9-4506-9c2a-12a5d757a80c\" type=\"checkbox\" ><label for=\"4badc61b-4cb9-4506-9c2a-12a5d757a80c\" class=\"sk-toggleable__label sk-toggleable__label-arrow\">SimpleImputer</label><div class=\"sk-toggleable__content\"><pre>SimpleImputer(strategy=&#x27;median&#x27;)</pre></div></div></div><div class=\"sk-item\"><div class=\"sk-estimator sk-toggleable\"><input class=\"sk-toggleable__control sk-hidden--visually\" id=\"8307e092-ed56-4699-ba19-f9e5b5630e85\" type=\"checkbox\" ><label for=\"8307e092-ed56-4699-ba19-f9e5b5630e85\" class=\"sk-toggleable__label sk-toggleable__label-arrow\">StandardScaler</label><div class=\"sk-toggleable__content\"><pre>StandardScaler()</pre></div></div></div></div></div></div></div></div><div class=\"sk-parallel-item\"><div class=\"sk-item\"><div class=\"sk-label-container\"><div class=\"sk-label sk-toggleable\"><label>cat_pipe</label></div></div><div class=\"sk-serial\"><div class=\"sk-item sk-dashed-wrapped\"><div class=\"sk-parallel\"><div class=\"sk-parallel-item\"><div class=\"sk-item\"><div class=\"sk-label-container\"><div class=\"sk-label sk-toggleable\"><input class=\"sk-toggleable__control sk-hidden--visually\" id=\"a366f8b0-aa4f-47f2-a3eb-bbfa3f50190b\" type=\"checkbox\" ><label for=\"a366f8b0-aa4f-47f2-a3eb-bbfa3f50190b\" class=\"sk-toggleable__label sk-toggleable__label-arrow\">label_binarizer</label><div class=\"sk-toggleable__content\"><pre>[4]</pre></div></div></div><div class=\"sk-serial\"><div class=\"sk-item\"><div class=\"sk-estimator sk-toggleable\"><input class=\"sk-toggleable__control sk-hidden--visually\" id=\"f56b5e69-37f7-49f8-8637-0d996bf83b07\" type=\"checkbox\" ><label for=\"f56b5e69-37f7-49f8-8637-0d996bf83b07\" class=\"sk-toggleable__label sk-toggleable__label-arrow\">LabelBinarizer</label><div class=\"sk-toggleable__content\"><pre>LabelBinarizer()</pre></div></div></div></div></div></div></div></div></div></div></div></div></div></div></div>"
      ],
      "text/plain": [
       "FeatureUnion(transformer_list=[('num_pipe',\n",
       "                                Pipeline(steps=[('selector',\n",
       "                                                 ColumnTransformer(transformers=[('select_first_4',\n",
       "                                                                                  'passthrough',\n",
       "                                                                                  slice(0, 4, None))])),\n",
       "                                                ('impute',\n",
       "                                                 SimpleImputer(strategy='median')),\n",
       "                                                ('std_scaler',\n",
       "                                                 StandardScaler())])),\n",
       "                               ('cat_pipe',\n",
       "                                ColumnTransformer(transformers=[('label_binarizer',\n",
       "                                                                 LabelBinarizer(),\n",
       "                                                                 [4])]))])"
      ]
     },
     "execution_count": 448,
     "metadata": {},
     "output_type": "execute_result"
    }
   ],
   "source": [
    "from sklearn import set_config\n",
    "set_config(display = 'diagram')\n",
    "full_pipe"
   ]
  },
  {
   "cell_type": "markdown",
   "metadata": {},
   "source": [
    "### **14. Handling Imbalaced Data**"
   ]
  },
  {
   "cell_type": "markdown",
   "metadata": {},
   "source": [
    "Imbalaced datasets are those where one class is very less represented than the other class.\n",
    "\n",
    "*Handled using two methods :*\n",
    "* Undersampling ~ \n",
    "* Oversampling ~"
   ]
  },
  {
   "cell_type": "code",
   "execution_count": 449,
   "metadata": {},
   "outputs": [
    {
     "data": {
      "text/plain": [
       "<AxesSubplot:>"
      ]
     },
     "execution_count": 449,
     "metadata": {},
     "output_type": "execute_result"
    },
    {
     "data": {
      "image/png": "[encoded data removed]",
      "text/plain": [
       "<Figure size 720x360 with 1 Axes>"
      ]
     },
     "metadata": {},
     "output_type": "display_data"
    }
   ],
   "source": [
    "wine_data = pd.read_csv('winequality-red.csv', sep=';')\n",
    "\n",
    "wine_data['quality'].hist(bins = 50)\n"
   ]
  },
  {
   "cell_type": "code",
   "execution_count": 450,
   "metadata": {},
   "outputs": [
    {
     "data": {
      "text/plain": [
       "(1599, 12)"
      ]
     },
     "execution_count": 450,
     "metadata": {},
     "output_type": "execute_result"
    }
   ],
   "source": [
    "wine_data.shape"
   ]
  },
  {
   "cell_type": "markdown",
   "metadata": {},
   "source": [
    "#### **Undersampling**"
   ]
  },
  {
   "cell_type": "code",
   "execution_count": 451,
   "metadata": {},
   "outputs": [],
   "source": [
    "from imblearn.under_sampling import RandomUnderSampler"
   ]
  },
  {
   "cell_type": "code",
   "execution_count": 452,
   "metadata": {},
   "outputs": [
    {
     "name": "stdout",
     "output_type": "stream",
     "text": [
      "class 3 : (10, 12)\n",
      "class 4 : (53, 12)\n",
      "class 5 : (681, 12)\n",
      "class 6 : (638, 12)\n",
      "class 7 : (199, 12)\n",
      "class 8 : (18, 12)\n"
     ]
    }
   ],
   "source": [
    "# Class count\n",
    "class_c3,class_c4,class_c5,class_c6,class_c7,class_c8 = wine_data['quality'].value_counts()\n",
    "\n",
    "# Separate class\n",
    "\n",
    "class_3 = wine_data[wine_data['quality'] == 3]\n",
    "class_4 = wine_data[wine_data['quality'] == 4]\n",
    "class_5 = wine_data[wine_data['quality'] == 5]\n",
    "class_6 = wine_data[wine_data['quality'] == 6]\n",
    "class_7 = wine_data[wine_data['quality'] == 7]\n",
    "class_8 = wine_data[wine_data['quality'] == 8]\n",
    "\n",
    "# print the shape of the class\n",
    "\n",
    "print('class 3 :', class_3.shape)\n",
    "print('class 4 :', class_4.shape)\n",
    "print('class 5 :', class_5.shape)\n",
    "print('class 6 :', class_6.shape)\n",
    "print('class 7 :', class_7.shape)\n",
    "print('class 8 :', class_8.shape)\n"
   ]
  },
  {
   "cell_type": "code",
   "execution_count": 453,
   "metadata": {},
   "outputs": [
    {
     "name": "stdout",
     "output_type": "stream",
     "text": [
      "Original dataset shape : Counter({5: 681, 6: 638, 7: 199, 4: 53, 8: 18, 3: 10})\n",
      "Resample dataset shape : Counter({3: 10, 4: 10, 5: 10, 6: 10, 7: 10, 8: 10})\n"
     ]
    }
   ],
   "source": [
    "from collections import Counter\n",
    "\n",
    "X = wine_data.drop(['quality'], axis = 1)\n",
    "y = wine_data['quality']\n",
    "\n",
    "undersample = RandomUnderSampler(random_state=0)\n",
    "X_runs, y_runs = undersample.fit_resample(X,y)\n",
    "\n",
    "print('Original dataset shape :', Counter(y))\n",
    "print('Resample dataset shape :', Counter(y_runs))"
   ]
  },
  {
   "cell_type": "markdown",
   "metadata": {},
   "source": [
    "#### **Oversampling**"
   ]
  },
  {
   "cell_type": "code",
   "execution_count": 454,
   "metadata": {},
   "outputs": [
    {
     "name": "stdout",
     "output_type": "stream",
     "text": [
      "Original dataset shape : Counter({5: 681, 6: 638, 7: 199, 4: 53, 8: 18, 3: 10})\n",
      "Resample dataset shape : Counter({5: 681, 6: 681, 7: 681, 4: 681, 8: 681, 3: 681})\n"
     ]
    }
   ],
   "source": [
    "from imblearn.over_sampling import RandomOverSampler\n",
    "\n",
    "ros = RandomOverSampler()\n",
    "X_ros, y_ros = ros.fit_resample(X,y)\n",
    "\n",
    "print('Original dataset shape :', Counter(y))\n",
    "print('Resample dataset shape :', Counter(y_ros))"
   ]
  },
  {
   "cell_type": "code",
   "execution_count": 455,
   "metadata": {},
   "outputs": [
    {
     "name": "stdout",
     "output_type": "stream",
     "text": [
      "2487 New random points generated with ROS\n"
     ]
    }
   ],
   "source": [
    "print(X_ros.shape[0] - X.shape[0], 'New random points generated with ROS')"
   ]
  },
  {
   "cell_type": "markdown",
   "metadata": {},
   "source": [
    "*Oversampling using SMOTE*"
   ]
  },
  {
   "cell_type": "markdown",
   "metadata": {},
   "source": [
    "SMOTE (Synthetic Minority Oversampling Technique) is a popular technique for oversampling. It is available unde4r **imblearn** library.\n",
    "\n",
    "There are 3 types of SMOTE :\n",
    "* Bordering SMOTE\n",
    "* Border-line SMOTE SVM\n",
    "* Adaptive Synthetic Sampling (ADASYN)"
   ]
  },
  {
   "cell_type": "code",
   "execution_count": 456,
   "metadata": {},
   "outputs": [],
   "source": [
    "from imblearn.over_sampling import SMOTE"
   ]
  },
  {
   "cell_type": "code",
   "execution_count": 457,
   "metadata": {},
   "outputs": [
    {
     "data": {
      "text/plain": [
       "Counter({5: 681, 6: 681, 7: 681, 4: 681, 8: 681, 3: 681})"
      ]
     },
     "execution_count": 457,
     "metadata": {},
     "output_type": "execute_result"
    }
   ],
   "source": [
    "oversample = SMOTE()\n",
    "X_sm, y_sm = oversample.fit_resample(X,y)\n",
    "counter = Counter(y_sm)\n",
    "counter"
   ]
  }
 ],
 "metadata": {
  "interpreter": {
   "hash": "33c99ce92ae57a37c90157b7c35934b668ba43f0729fdf7df53b30c6721ba8f2"
  },
  "kernelspec": {
   "display_name": "Python 3.9.12 64-bit (windows store)",
   "language": "python",
   "name": "python3"
  },
  "language_info": {
   "codemirror_mode": {
    "name": "ipython",
    "version": 3
   },
   "file_extension": ".py",
   "mimetype": "text/x-python",
   "name": "python",
   "nbconvert_exporter": "python",
   "pygments_lexer": "ipython3",
   "version": "3.9.12"
  },
  "orig_nbformat": 4
 },
 "nbformat": 4,
 "nbformat_minor": 2
}
