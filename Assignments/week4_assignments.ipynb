{
 "cells": [
  {
   "cell_type": "code",
   "execution_count": 171,
   "metadata": {},
   "outputs": [],
   "source": [
    "import numpy as np"
   ]
  },
  {
   "cell_type": "markdown",
   "metadata": {},
   "source": [
    "### PRACTICE ASSIGNMENTS"
   ]
  },
  {
   "cell_type": "markdown",
   "metadata": {},
   "source": [
    "Q1. Write the function compute_explained_variance(y_true, y_pred) for calculating the explained variance score for a linear regression dataset Here y_true is the true (actual) label and y_pred is the predicted label. The function should return the explained variance scoreevs. Consider, y_true = [7, 4, 9, 4] and y_pred = [8, 7, 12, 5] For these labels, what is the output of the function 'compute_explained_variance'? (Enter your answer in four decimal places)"
   ]
  },
  {
   "cell_type": "code",
   "execution_count": 172,
   "metadata": {},
   "outputs": [
    {
     "data": {
      "text/plain": [
       "0.7777777777777778"
      ]
     },
     "execution_count": 172,
     "metadata": {},
     "output_type": "execute_result"
    }
   ],
   "source": [
    "from sklearn.metrics import explained_variance_score\n",
    "y_true = [7, 4, 9, 4]\n",
    "y_pred = [8, 7, 12, 5]\n",
    "explained_variance_score(y_true, y_pred)"
   ]
  },
  {
   "cell_type": "markdown",
   "metadata": {},
   "source": [
    "Q2. Write a function compute_score(X_train, y_train, X_test, y_test) to compute the score of SGDRegressor for predicting the house price of California Housing dataset. Write your code based on the following keypoints:\n",
    "\n",
    "Split the California housing dataset into train and test set with 70:30 ratio and random_state = 1\n",
    "\n",
    "Import StandardScaler for scaling X_train and X_test to X_train_norm and X_test_norm \n",
    "\n",
    "with_mean = True and with_std = True\n",
    "\n",
    "Import SGDRegressor as 'model' with hyperparamters \n",
    "loss as 'squared_error', \n",
    "\n",
    "penalty as 'l1' and \n",
    "\n",
    "alpha as 0.01 and \n",
    "\n",
    "random_state = 1\n",
    "\n",
    "Train the 'model' and compute the 'score' on test data\n",
    "Enter the value of the 'score' computed from the function 'compute_score'. (Enter your answer in four decimal places)"
   ]
  },
  {
   "cell_type": "code",
   "execution_count": 173,
   "metadata": {},
   "outputs": [
    {
     "data": {
      "text/plain": [
       "0.5951040704728554"
      ]
     },
     "execution_count": 173,
     "metadata": {},
     "output_type": "execute_result"
    }
   ],
   "source": [
    "from sklearn.datasets import fetch_california_housing\n",
    "from sklearn.model_selection import train_test_split\n",
    "\n",
    "\n",
    "data = fetch_california_housing()\n",
    "X_train, X_test, y_train, y_test = train_test_split(data.data, data.target, test_size = 0.3, random_state = 1)\n",
    "\n",
    "from sklearn.preprocessing import StandardScaler\n",
    "scaler = StandardScaler(with_mean = True, with_std = True)\n",
    "X_train_norm = scaler.fit_transform(X_train)\n",
    "X_test_norm = scaler.transform(X_test)\n",
    "\n",
    "from sklearn.linear_model import SGDRegressor\n",
    "model = SGDRegressor(loss = 'squared_error', penalty = 'l1', alpha = 0.01, random_state = 1)\n",
    "model.fit(X_train_norm, y_train).score(X_test_norm, y_test)"
   ]
  },
  {
   "cell_type": "markdown",
   "metadata": {},
   "source": [
    "### GRADED ASSIGNMENTS"
   ]
  },
  {
   "cell_type": "markdown",
   "metadata": {},
   "source": [
    "Q1. Write a function k_fold_cv(X) to run 2-fold cross validation repeated 2 times for the array X = [[1, 2], [3, 4], [1, 2], [3, 4]] which will return a concatenated array combining the training and testing dataset. Set random_state=1 in your code. Which of the following options denote the concatenated array?"
   ]
  },
  {
   "cell_type": "code",
   "execution_count": 174,
   "metadata": {},
   "outputs": [],
   "source": [
    "from sklearn.model_selection import RepeatedKFold"
   ]
  },
  {
   "cell_type": "code",
   "execution_count": 175,
   "metadata": {},
   "outputs": [
    {
     "name": "stdout",
     "output_type": "stream",
     "text": [
      "[0 2 1 3]\n"
     ]
    }
   ],
   "source": [
    "X = np.array([[1, 2], [3, 4], [1, 2], [3, 4]])\n",
    "rkf = RepeatedKFold(n_splits=2, n_repeats=2, random_state=1)\n",
    "for train, test in rkf.split(X) :\n",
    "    pass\n",
    "print(np.concatenate((train,test), axis = 0))"
   ]
  },
  {
   "cell_type": "markdown",
   "metadata": {},
   "source": [
    "**Write a code to predict the house price of California Housing dataset using GridSearchCV.**\n",
    "\n",
    "**Write your code based on the following keypoints:**\n",
    "\n",
    "**Split the California housing dataset into train and test set with 70:30 ratio with random_state = 1**\n",
    "\n",
    "**Import StandardScaler for scaling X_train and X_test to X_train_norm and X_test_norm with_mean = True and with_std = True**\n",
    "\n",
    "**Import SGDRegressor with random_state = 1**\n",
    "\n",
    "**Pass SGDRegressor through GridSearchCV**\n",
    "\n",
    "**Hyperparamter tuning to be done over loss as 'squared_error' or 'huber', penalty as 'l1' or 'l2', alpha as 0.1, 0.01, 0.001, maximum number of passes as [1000, 2000, 5000]**\n",
    "\n",
    "**Cross Validation = 4**\n",
    "\n",
    "**Train the 'model' and compute the 'score' on test data**"
   ]
  },
  {
   "cell_type": "code",
   "execution_count": 176,
   "metadata": {},
   "outputs": [],
   "source": [
    "from sklearn.datasets import fetch_california_housing\n",
    "from sklearn.linear_model import SGDRegressor\n",
    "from sklearn.model_selection import GridSearchCV, train_test_split\n",
    "from sklearn.preprocessing import StandardScaler\n",
    "from sklearn.pipeline import Pipeline"
   ]
  },
  {
   "cell_type": "code",
   "execution_count": 177,
   "metadata": {},
   "outputs": [
    {
     "data": {
      "text/plain": [
       "GridSearchCV(cv=4,\n",
       "             estimator=Pipeline(steps=[('sgd', SGDRegressor(random_state=1))]),\n",
       "             param_grid={'sgd__alpha': (0.1, 0.01, 0.001),\n",
       "                         'sgd__loss': ('squared_error', 'huber'),\n",
       "                         'sgd__max_iter': (1000, 2000, 5000),\n",
       "                         'sgd__penalty': ('l1', 'l2')},\n",
       "             return_train_score=True)"
      ]
     },
     "execution_count": 177,
     "metadata": {},
     "output_type": "execute_result"
    }
   ],
   "source": [
    "data = fetch_california_housing()\n",
    "X_train, X_test, y_train, y_test = train_test_split(data.data, data.target, test_size = 0.3, random_state=1)\n",
    "scaler = StandardScaler(with_mean = True, with_std = True)\n",
    "X_train_norm = scaler.fit_transform(X_train)\n",
    "X_test_norm = scaler.fit(X_test)\n",
    "pipe = Pipeline([('sgd', SGDRegressor(random_state=1))])\n",
    "params = {'sgd__loss': ('squared_error', 'huber'),'sgd__penalty': ('l1', 'l2'), 'sgd__alpha': (0.1, 0.01, 0.001), 'sgd__max_iter': (1000, 2000, 5000)}\n",
    "\n",
    "sgd_grid_search = GridSearchCV(pipe, param_grid=params, cv = 4, return_train_score=True)\n",
    "sgd_grid_search.fit(X_train_norm, y_train)\n"
   ]
  },
  {
   "cell_type": "markdown",
   "metadata": {},
   "source": [
    "Q2. Enter the value of the 'score'.(Enter your answer in four decimal places)"
   ]
  },
  {
   "cell_type": "code",
   "execution_count": 178,
   "metadata": {},
   "outputs": [
    {
     "data": {
      "text/plain": [
       "0.5940759016569894"
      ]
     },
     "execution_count": 178,
     "metadata": {},
     "output_type": "execute_result"
    }
   ],
   "source": [
    "sgd_grid_search.best_score_"
   ]
  },
  {
   "cell_type": "markdown",
   "metadata": {},
   "source": [
    "Q3. Enter the value of the best alpha obtained."
   ]
  },
  {
   "cell_type": "code",
   "execution_count": 179,
   "metadata": {},
   "outputs": [
    {
     "data": {
      "text/plain": [
       "0.01"
      ]
     },
     "execution_count": 179,
     "metadata": {},
     "output_type": "execute_result"
    }
   ],
   "source": [
    "sgd_grid_search.best_params_['sgd__alpha']"
   ]
  },
  {
   "cell_type": "markdown",
   "metadata": {},
   "source": [
    "Q4. Enter the value of the best maximum number of passes obtained."
   ]
  },
  {
   "cell_type": "code",
   "execution_count": 180,
   "metadata": {},
   "outputs": [
    {
     "data": {
      "text/plain": [
       "1000"
      ]
     },
     "execution_count": 180,
     "metadata": {},
     "output_type": "execute_result"
    }
   ],
   "source": [
    "sgd_grid_search.best_params_['sgd__max_iter']"
   ]
  },
  {
   "cell_type": "markdown",
   "metadata": {},
   "source": [
    "**Write a code to predict the house price of California Housing dataset using GridSearchCV.**\n",
    "\n",
    "**Write your code based on the following keypoints:**\n",
    "\n",
    "**Split the California housing dataset into train and test set with 70:30 ratio with random_state = 1**\n",
    "\n",
    "**Import StandardScaler for scaling X_train and X_test to X_train_norm and X_test_norm with_mean = True and with_std = True**\n",
    "\n",
    "**Pass Ridge Regression Model through GridSearchCV**\n",
    "\n",
    "**Hyperparamter tuning to be done over**\n",
    "\n",
    "`alpha` as `0.5,0.1,0.05,0.01,0.005,0.001`\n",
    "\n",
    "**With or without intercept**\n",
    "\n",
    "**Cross Validation = 4**\n",
    "\n",
    "**Train the 'model' and compute the 'score' on test data**"
   ]
  },
  {
   "cell_type": "code",
   "execution_count": 181,
   "metadata": {},
   "outputs": [],
   "source": [
    "from sklearn.datasets import fetch_california_housing\n",
    "from sklearn.linear_model import Ridge\n",
    "from sklearn.model_selection import GridSearchCV, train_test_split\n",
    "from sklearn.preprocessing import StandardScaler\n",
    "from sklearn.pipeline import Pipeline"
   ]
  },
  {
   "cell_type": "code",
   "execution_count": 182,
   "metadata": {},
   "outputs": [
    {
     "data": {
      "text/plain": [
       "GridSearchCV(cv=4, estimator=Pipeline(steps=[('ridge', Ridge(random_state=1))]),\n",
       "             param_grid={'ridge__alpha': (0.5, 0.1, 0.05, 0.01, 0.005, 0.001)},\n",
       "             return_train_score=True)"
      ]
     },
     "execution_count": 182,
     "metadata": {},
     "output_type": "execute_result"
    }
   ],
   "source": [
    "data = fetch_california_housing()\n",
    "X_train, X_test, y_train, y_test = train_test_split(data.data, data.target, test_size = 0.3, random_state=1)\n",
    "scaler = StandardScaler(with_mean = True, with_std = True)\n",
    "X_train_norm = scaler.fit_transform(X_train)\n",
    "X_test_norm = scaler.fit(X_test)\n",
    "pipe = Pipeline([('ridge', Ridge(random_state=1))])\n",
    "params = {'ridge__alpha': (0.5, 0.1, 0.05, 0.01, 0.005, 0.001)}\n",
    "\n",
    "ridge_grid_search = GridSearchCV(pipe, param_grid=params, cv = 4, return_train_score=True)\n",
    "ridge_grid_search.fit(X_train_norm, y_train)"
   ]
  },
  {
   "cell_type": "markdown",
   "metadata": {},
   "source": [
    "Q5. Enter the value of the 'score'. (Enter your answer in four decimal places)"
   ]
  },
  {
   "cell_type": "code",
   "execution_count": 183,
   "metadata": {},
   "outputs": [
    {
     "data": {
      "text/plain": [
       "0.6047118356067289"
      ]
     },
     "execution_count": 183,
     "metadata": {},
     "output_type": "execute_result"
    }
   ],
   "source": [
    "ridge_grid_search.best_score_"
   ]
  },
  {
   "cell_type": "markdown",
   "metadata": {},
   "source": [
    "Q6. Enter the value of the best alpha obtained."
   ]
  },
  {
   "cell_type": "code",
   "execution_count": 184,
   "metadata": {},
   "outputs": [
    {
     "data": {
      "text/plain": [
       "0.5"
      ]
     },
     "execution_count": 184,
     "metadata": {},
     "output_type": "execute_result"
    }
   ],
   "source": [
    "ridge_grid_search.best_params_['ridge__alpha']"
   ]
  },
  {
   "cell_type": "markdown",
   "metadata": {},
   "source": [
    "**Write a code to predict the house price of California Housing dataset using GridSearchCV.**\n",
    "\n",
    "**Write your code based on the following keypoints:**\n",
    "\n",
    "**Split the California housing dataset into train and test set with 60:40 ratio with random_state = 1**\n",
    "\n",
    "**Import StandardScaler for scaling X_train and X_test to X_train_norm and X_test_norm with_mean = True and with_std = True**\n",
    "\n",
    "**Pass Lasso Model through GridSearchCV**\n",
    "\n",
    "**Hyperparamter tuning to be done over**\n",
    "\n",
    "`alpha` as `0.5,0.1,0.05,0.01,0.005,0.001`\n",
    "\n",
    "**With or without intercept**\n",
    "\n",
    "**Cross Validation = 6**\n",
    "\n",
    "**Train the 'model' and compute the 'score' on test data**"
   ]
  },
  {
   "cell_type": "code",
   "execution_count": 185,
   "metadata": {},
   "outputs": [],
   "source": [
    "from sklearn.datasets import fetch_california_housing\n",
    "from sklearn.linear_model import Lasso\n",
    "from sklearn.model_selection import GridSearchCV, train_test_split\n",
    "from sklearn.preprocessing import StandardScaler\n",
    "from sklearn.pipeline import Pipeline"
   ]
  },
  {
   "cell_type": "code",
   "execution_count": 186,
   "metadata": {},
   "outputs": [
    {
     "data": {
      "text/plain": [
       "GridSearchCV(cv=6, estimator=Pipeline(steps=[('lasso', Lasso(random_state=1))]),\n",
       "             param_grid={'lasso__alpha': (0.5, 0.1, 0.05, 0.01, 0.005, 0.001)},\n",
       "             return_train_score=True)"
      ]
     },
     "execution_count": 186,
     "metadata": {},
     "output_type": "execute_result"
    }
   ],
   "source": [
    "data = fetch_california_housing()\n",
    "X_train, X_test, y_train, y_test = train_test_split(data.data, data.target, test_size = 0.4, random_state=1)\n",
    "scaler = StandardScaler(with_mean = True, with_std = True)\n",
    "X_train_norm = scaler.fit_transform(X_train)\n",
    "X_test_norm = scaler.fit(X_test)\n",
    "pipe = Pipeline([('lasso', Lasso(random_state=1))])\n",
    "params = {'lasso__alpha': (0.5, 0.1, 0.05, 0.01, 0.005, 0.001)}\n",
    "\n",
    "lasso_grid_search = GridSearchCV(pipe, param_grid=params, cv = 6, return_train_score=True)\n",
    "lasso_grid_search.fit(X_train_norm, y_train)"
   ]
  },
  {
   "cell_type": "markdown",
   "metadata": {},
   "source": [
    "Q7. Which of the following is the 'score' computed by your code?"
   ]
  },
  {
   "cell_type": "code",
   "execution_count": 187,
   "metadata": {},
   "outputs": [
    {
     "data": {
      "text/plain": [
       "0.5999305293842082"
      ]
     },
     "execution_count": 187,
     "metadata": {},
     "output_type": "execute_result"
    }
   ],
   "source": [
    "lasso_grid_search.best_score_"
   ]
  },
  {
   "cell_type": "code",
   "execution_count": 188,
   "metadata": {},
   "outputs": [
    {
     "data": {
      "text/plain": [
       "0.005"
      ]
     },
     "execution_count": 188,
     "metadata": {},
     "output_type": "execute_result"
    }
   ],
   "source": [
    "lasso_grid_search.best_params_['lasso__alpha']"
   ]
  }
 ],
 "metadata": {
  "interpreter": {
   "hash": "33c99ce92ae57a37c90157b7c35934b668ba43f0729fdf7df53b30c6721ba8f2"
  },
  "kernelspec": {
   "display_name": "Python 3.9.13 64-bit (windows store)",
   "language": "python",
   "name": "python3"
  },
  "language_info": {
   "codemirror_mode": {
    "name": "ipython",
    "version": 3
   },
   "file_extension": ".py",
   "mimetype": "text/x-python",
   "name": "python",
   "nbconvert_exporter": "python",
   "pygments_lexer": "ipython3",
   "version": "3.9.13"
  },
  "orig_nbformat": 4
 },
 "nbformat": 4,
 "nbformat_minor": 2
}
