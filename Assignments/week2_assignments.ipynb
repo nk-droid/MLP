{
 "cells": [
  {
   "cell_type": "markdown",
   "metadata": {},
   "source": [
    "### PRACTICE ASSIGNMENTS"
   ]
  },
  {
   "cell_type": "code",
   "execution_count": 1,
   "metadata": {},
   "outputs": [],
   "source": [
    "import pandas as pd\n",
    "import numpy as np"
   ]
  },
  {
   "cell_type": "markdown",
   "metadata": {},
   "source": [
    "Loading the dataset..."
   ]
  },
  {
   "cell_type": "code",
   "execution_count": 2,
   "metadata": {},
   "outputs": [
    {
     "data": {
      "text/html": [
       "<div>\n",
       "<style scoped>\n",
       "    .dataframe tbody tr th:only-of-type {\n",
       "        vertical-align: middle;\n",
       "    }\n",
       "\n",
       "    .dataframe tbody tr th {\n",
       "        vertical-align: top;\n",
       "    }\n",
       "\n",
       "    .dataframe thead th {\n",
       "        text-align: right;\n",
       "    }\n",
       "</style>\n",
       "<table border=\"1\" class=\"dataframe\">\n",
       "  <thead>\n",
       "    <tr style=\"text-align: right;\">\n",
       "      <th></th>\n",
       "      <th>V1</th>\n",
       "      <th>V2</th>\n",
       "      <th>V3</th>\n",
       "      <th>V4</th>\n",
       "      <th>V5</th>\n",
       "    </tr>\n",
       "  </thead>\n",
       "  <tbody>\n",
       "    <tr>\n",
       "      <th>0</th>\n",
       "      <td>2.0</td>\n",
       "      <td>50.0</td>\n",
       "      <td>12500.0</td>\n",
       "      <td>98.0</td>\n",
       "      <td>NEGATIVE</td>\n",
       "    </tr>\n",
       "    <tr>\n",
       "      <th>1</th>\n",
       "      <td>0.0</td>\n",
       "      <td>13.0</td>\n",
       "      <td>3250.0</td>\n",
       "      <td>28.0</td>\n",
       "      <td>NEGATIVE</td>\n",
       "    </tr>\n",
       "    <tr>\n",
       "      <th>2</th>\n",
       "      <td>NaN</td>\n",
       "      <td>NaN</td>\n",
       "      <td>4000.0</td>\n",
       "      <td>35.0</td>\n",
       "      <td>NEGATIVE</td>\n",
       "    </tr>\n",
       "    <tr>\n",
       "      <th>3</th>\n",
       "      <td>NaN</td>\n",
       "      <td>20.0</td>\n",
       "      <td>5000.0</td>\n",
       "      <td>45.0</td>\n",
       "      <td>NEGATIVE</td>\n",
       "    </tr>\n",
       "    <tr>\n",
       "      <th>4</th>\n",
       "      <td>1.0</td>\n",
       "      <td>24.0</td>\n",
       "      <td>6000.0</td>\n",
       "      <td>77.0</td>\n",
       "      <td>NEGATIVE</td>\n",
       "    </tr>\n",
       "    <tr>\n",
       "      <th>...</th>\n",
       "      <td>...</td>\n",
       "      <td>...</td>\n",
       "      <td>...</td>\n",
       "      <td>...</td>\n",
       "      <td>...</td>\n",
       "    </tr>\n",
       "    <tr>\n",
       "      <th>743</th>\n",
       "      <td>23.0</td>\n",
       "      <td>2.0</td>\n",
       "      <td>500.0</td>\n",
       "      <td>38.0</td>\n",
       "      <td>NEGATIVE</td>\n",
       "    </tr>\n",
       "    <tr>\n",
       "      <th>744</th>\n",
       "      <td>21.0</td>\n",
       "      <td>2.0</td>\n",
       "      <td>500.0</td>\n",
       "      <td>52.0</td>\n",
       "      <td>NEGATIVE</td>\n",
       "    </tr>\n",
       "    <tr>\n",
       "      <th>745</th>\n",
       "      <td>23.0</td>\n",
       "      <td>3.0</td>\n",
       "      <td>750.0</td>\n",
       "      <td>62.0</td>\n",
       "      <td>NEGATIVE</td>\n",
       "    </tr>\n",
       "    <tr>\n",
       "      <th>746</th>\n",
       "      <td>39.0</td>\n",
       "      <td>1.0</td>\n",
       "      <td>250.0</td>\n",
       "      <td>39.0</td>\n",
       "      <td>NEGATIVE</td>\n",
       "    </tr>\n",
       "    <tr>\n",
       "      <th>747</th>\n",
       "      <td>72.0</td>\n",
       "      <td>1.0</td>\n",
       "      <td>250.0</td>\n",
       "      <td>72.0</td>\n",
       "      <td>NEGATIVE</td>\n",
       "    </tr>\n",
       "  </tbody>\n",
       "</table>\n",
       "<p>748 rows × 5 columns</p>\n",
       "</div>"
      ],
      "text/plain": [
       "       V1    V2       V3    V4        V5\n",
       "0     2.0  50.0  12500.0  98.0  NEGATIVE\n",
       "1     0.0  13.0   3250.0  28.0  NEGATIVE\n",
       "2     NaN   NaN   4000.0  35.0  NEGATIVE\n",
       "3     NaN  20.0   5000.0  45.0  NEGATIVE\n",
       "4     1.0  24.0   6000.0  77.0  NEGATIVE\n",
       "..    ...   ...      ...   ...       ...\n",
       "743  23.0   2.0    500.0  38.0  NEGATIVE\n",
       "744  21.0   2.0    500.0  52.0  NEGATIVE\n",
       "745  23.0   3.0    750.0  62.0  NEGATIVE\n",
       "746  39.0   1.0    250.0  39.0  NEGATIVE\n",
       "747  72.0   1.0    250.0  72.0  NEGATIVE\n",
       "\n",
       "[748 rows x 5 columns]"
      ]
     },
     "execution_count": 2,
     "metadata": {},
     "output_type": "execute_result"
    }
   ],
   "source": [
    "data = pd.read_csv('dataset_week2_pa.csv', sep = ',')\n",
    "data = data.replace('?', np.nan)\n",
    "y = data.pop('Target')\n",
    "X = data\n",
    "X_np, y_np = data.to_numpy(), y.to_numpy() #for numpy\n",
    "X.shape, y.shape\n",
    "data"
   ]
  },
  {
   "cell_type": "markdown",
   "metadata": {},
   "source": [
    "Q1. How many samples are there in this dataset?"
   ]
  },
  {
   "cell_type": "code",
   "execution_count": 3,
   "metadata": {},
   "outputs": [
    {
     "name": "stdout",
     "output_type": "stream",
     "text": [
      "748\n",
      "748\n"
     ]
    }
   ],
   "source": [
    "print(X.shape[0]) #using pandas\n",
    "print(X_np.shape[0]) #using numpy"
   ]
  },
  {
   "cell_type": "markdown",
   "metadata": {},
   "source": [
    "Q2. How many input features are there in this dataset?"
   ]
  },
  {
   "cell_type": "code",
   "execution_count": 4,
   "metadata": {},
   "outputs": [
    {
     "name": "stdout",
     "output_type": "stream",
     "text": [
      "5\n",
      "5\n"
     ]
    }
   ],
   "source": [
    "print(X.shape[1]) #using pandas\n",
    "print(X_np.shape[1]) #using numpy"
   ]
  },
  {
   "cell_type": "markdown",
   "metadata": {},
   "source": [
    "Q3. What type of problem is this?"
   ]
  },
  {
   "cell_type": "markdown",
   "metadata": {},
   "source": [
    "Ans : Classification"
   ]
  },
  {
   "cell_type": "markdown",
   "metadata": {},
   "source": [
    "Q4. Which of the features has least variance?"
   ]
  },
  {
   "cell_type": "code",
   "execution_count": 5,
   "metadata": {},
   "outputs": [
    {
     "name": "stderr",
     "output_type": "stream",
     "text": [
      "C:\\Users\\HP\\AppData\\Local\\Temp\\ipykernel_2868\\3146089849.py:4: FutureWarning: Dropping of nuisance columns in DataFrame reductions (with 'numeric_only=None') is deprecated; in a future version this will raise TypeError.  Select only valid columns before calling the reduction.\n",
      "  X4.var()\n"
     ]
    },
    {
     "data": {
      "text/plain": [
       "V1    6.550517e+01\n",
       "V2    3.363720e+01\n",
       "V3    2.131094e+06\n",
       "V4    5.942242e+02\n",
       "dtype: float64"
      ]
     },
     "execution_count": 5,
     "metadata": {},
     "output_type": "execute_result"
    }
   ],
   "source": [
    "X4 = X.copy()\n",
    "X4['V1'] = pd.to_numeric(X4['V1'])\n",
    "X4['V2'] = pd.to_numeric(X4['V2'])\n",
    "X4.var()"
   ]
  },
  {
   "cell_type": "markdown",
   "metadata": {},
   "source": [
    "Q5. Which of the following features has least number of outliers?"
   ]
  },
  {
   "cell_type": "code",
   "execution_count": 6,
   "metadata": {},
   "outputs": [
    {
     "data": {
      "text/plain": [
       "<AxesSubplot:>"
      ]
     },
     "execution_count": 6,
     "metadata": {},
     "output_type": "execute_result"
    },
    {
     "data": {
      "image/png": "[encoded data removed]",
      "text/plain": [
       "<Figure size 432x288 with 1 Axes>"
      ]
     },
     "metadata": {
      "needs_background": "light"
     },
     "output_type": "display_data"
    }
   ],
   "source": [
    "# IQ = X4.quantile(.75) - X4.quantile(.25)\n",
    "# left_Range = X4.quantile(.25) - 1.5 * IQ\n",
    "# right_Range = X4.quantile(.75) + 1.5 * IQ\n",
    "\n",
    "X4.boxplot()"
   ]
  },
  {
   "cell_type": "markdown",
   "metadata": {},
   "source": [
    "Q6. Which of the following is true about target variable?"
   ]
  },
  {
   "cell_type": "code",
   "execution_count": 7,
   "metadata": {},
   "outputs": [
    {
     "name": "stdout",
     "output_type": "stream",
     "text": [
      "False    570\n",
      "True     178\n",
      "Name: Target, dtype: int64\n",
      "\n",
      "YES : 178 , No : 570\n"
     ]
    }
   ],
   "source": [
    "# Using pandas\n",
    "print(pd.value_counts(y == 'YES'))\n",
    "\n",
    "# Using numpy\n",
    "# METHOD 1\n",
    "\n",
    "# mapp = np.where(y_np == 'YES', 1, 0)\n",
    "# print('YES :', mapp.sum(), ',', 'No :', y_np.shape[0] - mapp.sum())\n",
    "\n",
    "#METHOD 2\n",
    "\n",
    "print('\\nYES :', np.count_nonzero(y_np == 'YES'), ',', 'No :', np.count_nonzero(y_np == 'NO'))"
   ]
  },
  {
   "cell_type": "markdown",
   "metadata": {},
   "source": [
    "Q7. How many features have missing values in the dataset?"
   ]
  },
  {
   "cell_type": "code",
   "execution_count": 8,
   "metadata": {},
   "outputs": [
    {
     "data": {
      "text/plain": [
       "V1    5\n",
       "V2    5\n",
       "V3    0\n",
       "V4    0\n",
       "V5    0\n",
       "dtype: int64"
      ]
     },
     "execution_count": 8,
     "metadata": {},
     "output_type": "execute_result"
    }
   ],
   "source": [
    "data.isnull().sum()"
   ]
  },
  {
   "cell_type": "markdown",
   "metadata": {},
   "source": [
    "Q8. What is total number of missing values in the dataset?"
   ]
  },
  {
   "cell_type": "code",
   "execution_count": 9,
   "metadata": {},
   "outputs": [
    {
     "data": {
      "text/plain": [
       "10"
      ]
     },
     "execution_count": 9,
     "metadata": {},
     "output_type": "execute_result"
    }
   ],
   "source": [
    "x = X.replace('?', np.nan)\n",
    "np.count_nonzero(x.isnull())"
   ]
  },
  {
   "cell_type": "markdown",
   "metadata": {},
   "source": [
    "Q9. What is average of first feature (i.e. 'V1') after applyting SimpleImputer(strategy = 'median')?"
   ]
  },
  {
   "cell_type": "code",
   "execution_count": 10,
   "metadata": {},
   "outputs": [
    {
     "data": {
      "text/plain": [
       "9.552139037433156"
      ]
     },
     "execution_count": 10,
     "metadata": {},
     "output_type": "execute_result"
    }
   ],
   "source": [
    "from sklearn.impute import SimpleImputer\n",
    "\n",
    "si = SimpleImputer(strategy = 'median')\n",
    "local_data9 = data.copy()\n",
    "X_np_si = si.fit_transform(local_data9.pop('V1').to_numpy().reshape(-1,1))\n",
    "np.mean(X_np_si)"
   ]
  },
  {
   "cell_type": "markdown",
   "metadata": {},
   "source": [
    "Q10. What is average of first column after applyting KNNImputer(n_neighbors = 3)?"
   ]
  },
  {
   "cell_type": "code",
   "execution_count": 11,
   "metadata": {},
   "outputs": [
    {
     "data": {
      "text/plain": [
       "9.562584118438762"
      ]
     },
     "execution_count": 11,
     "metadata": {},
     "output_type": "execute_result"
    }
   ],
   "source": [
    "from sklearn.impute import KNNImputer\n",
    "\n",
    "ki = KNNImputer(n_neighbors = 3)\n",
    "local_data10 = data.copy()\n",
    "X_np_ki = ki.fit_transform(local_data10.pop('V1').to_numpy().reshape(-1,1))\n",
    "np.mean(X_np_ki)"
   ]
  },
  {
   "cell_type": "markdown",
   "metadata": {},
   "source": [
    "Q11. What is average of second feature (i.e. 'V2') after applyting SimpleImputer(strategy = 'mean')?"
   ]
  },
  {
   "cell_type": "code",
   "execution_count": 12,
   "metadata": {},
   "outputs": [
    {
     "data": {
      "text/plain": [
       "5.464333781965007"
      ]
     },
     "execution_count": 12,
     "metadata": {},
     "output_type": "execute_result"
    }
   ],
   "source": [
    "from sklearn.impute import SimpleImputer\n",
    "\n",
    "si = SimpleImputer(strategy = 'mean')\n",
    "local_data11 = data.copy()\n",
    "X_np_si_mean = si.fit_transform(local_data11.pop('V2').to_numpy().reshape(-1,1))\n",
    "np.mean(X_np_si_mean)"
   ]
  },
  {
   "cell_type": "markdown",
   "metadata": {},
   "source": [
    "### GRADED ASSIGNMENTS"
   ]
  },
  {
   "cell_type": "markdown",
   "metadata": {},
   "source": [
    "Q1. How many features remain after applying following pipeline to the feature matrix?"
   ]
  },
  {
   "cell_type": "code",
   "execution_count": 13,
   "metadata": {},
   "outputs": [
    {
     "data": {
      "text/plain": [
       "(       V1    V2       V3    V4        V5\n",
       " 0     2.0  50.0  12500.0  98.0  NEGATIVE\n",
       " 1     0.0  13.0   3250.0  28.0  NEGATIVE\n",
       " 2     NaN   NaN   4000.0  35.0  NEGATIVE\n",
       " 3     NaN  20.0   5000.0  45.0  NEGATIVE\n",
       " 4     1.0  24.0   6000.0  77.0  NEGATIVE\n",
       " ..    ...   ...      ...   ...       ...\n",
       " 743  23.0   2.0    500.0  38.0  NEGATIVE\n",
       " 744  21.0   2.0    500.0  52.0  NEGATIVE\n",
       " 745  23.0   3.0    750.0  62.0  NEGATIVE\n",
       " 746  39.0   1.0    250.0  39.0  NEGATIVE\n",
       " 747  72.0   1.0    250.0  72.0  NEGATIVE\n",
       " \n",
       " [748 rows x 5 columns],\n",
       " 0      YES\n",
       " 1      YES\n",
       " 2      YES\n",
       " 3      YES\n",
       " 4       NO\n",
       "       ... \n",
       " 743     NO\n",
       " 744     NO\n",
       " 745     NO\n",
       " 746     NO\n",
       " 747     NO\n",
       " Name: Target, Length: 748, dtype: object)"
      ]
     },
     "execution_count": 13,
     "metadata": {},
     "output_type": "execute_result"
    }
   ],
   "source": [
    "data_graded = pd.read_csv('dataset_week2_pa.csv', sep = ',')\n",
    "data_graded = data_graded.replace('?', np.nan)\n",
    "features, labels = data_graded.loc[:,[\"V1\", \"V2\", \"V3\", \"V4\", \"V5\"]], data_graded[\"Target\"]\n",
    "features, labels"
   ]
  },
  {
   "cell_type": "code",
   "execution_count": 14,
   "metadata": {},
   "outputs": [
    {
     "data": {
      "text/plain": [
       "4"
      ]
     },
     "execution_count": 14,
     "metadata": {},
     "output_type": "execute_result"
    }
   ],
   "source": [
    "from sklearn.pipeline import Pipeline, FeatureUnion\n",
    "from sklearn.impute import SimpleImputer\n",
    "from sklearn.preprocessing import StandardScaler, OrdinalEncoder\n",
    "from sklearn.feature_selection import VarianceThreshold\n",
    "from sklearn.compose import ColumnTransformer\n",
    "\n",
    "\n",
    "pipeline = Pipeline([('selector', ColumnTransformer([('select_first_4', 'passthrough', slice(0,4))])),\n",
    "                    ('impute', SimpleImputer(strategy = 'mean')),\n",
    "                    ('std_scaler', StandardScaler())\n",
    "                    ])\n",
    "\n",
    "enc = ColumnTransformer([('Ordinal_encoder', OrdinalEncoder(), [4])])\n",
    "\n",
    "fu = FeatureUnion(transformer_list=[('pipeline', pipeline),\n",
    "                                    ('enc', enc)])\n",
    "\n",
    "data = fu.fit_transform(features)\n",
    "VarianceThreshold(threshold=0.1).fit_transform(data).shape[1]\n"
   ]
  },
  {
   "cell_type": "markdown",
   "metadata": {},
   "source": [
    "Q2. What are the two most important features computed by RFE?\n",
    "\n",
    "Preprocess the data using pipeline shown in the diagram. Use LogisticRegression (with default parameters) for the estimator. Encode target variable via ordinal encoding."
   ]
  },
  {
   "cell_type": "code",
   "execution_count": 15,
   "metadata": {},
   "outputs": [
    {
     "data": {
      "text/plain": [
       "array([ True, False,  True, False, False])"
      ]
     },
     "execution_count": 15,
     "metadata": {},
     "output_type": "execute_result"
    }
   ],
   "source": [
    "from sklearn.feature_selection import RFE\n",
    "from sklearn.linear_model import LogisticRegression\n",
    "\n",
    "rfe = RFE(LogisticRegression(), n_features_to_select=2, step=1)\n",
    "rfe.fit_transform(data, labels)\n",
    "\n",
    "rfe.support_"
   ]
  },
  {
   "cell_type": "markdown",
   "metadata": {},
   "source": [
    "Q3. What are the indices of two most important features computed by SFS (forward)?\n",
    "\n",
    "Preprocess the data using pipeline shown in the diagram.Use LogisticRegression (with  default parameters) for the estimator. Encode target variable via ordinal encoding."
   ]
  },
  {
   "cell_type": "code",
   "execution_count": 16,
   "metadata": {},
   "outputs": [
    {
     "data": {
      "text/plain": [
       "array([False,  True, False,  True, False])"
      ]
     },
     "execution_count": 16,
     "metadata": {},
     "output_type": "execute_result"
    }
   ],
   "source": [
    "from sklearn.feature_selection import SequentialFeatureSelector\n",
    "\n",
    "sfs = SequentialFeatureSelector(LogisticRegression())\n",
    "sfs.fit_transform(data, labels)\n",
    "\n",
    "sfs.support_"
   ]
  },
  {
   "cell_type": "markdown",
   "metadata": {},
   "source": [
    "Q4. What are the indices of two most important features computed by SFS (backward)?\n",
    "\n",
    "Preprocess the data using pipeline shown in the diagram. Use LogisticRegression (with default parameters) for the estimator. Encode target variable via ordinal encoding."
   ]
  },
  {
   "cell_type": "code",
   "execution_count": 17,
   "metadata": {},
   "outputs": [
    {
     "data": {
      "text/plain": [
       "array([False, False,  True,  True, False])"
      ]
     },
     "execution_count": 17,
     "metadata": {},
     "output_type": "execute_result"
    }
   ],
   "source": [
    "from sklearn.feature_selection import SequentialFeatureSelector\n",
    "\n",
    "sfs_b = SequentialFeatureSelector(LogisticRegression(), direction='backward')\n",
    "sfs_b.fit_transform(data, labels)\n",
    "\n",
    "sfs_b.support_"
   ]
  }
 ],
 "metadata": {
  "interpreter": {
   "hash": "33c99ce92ae57a37c90157b7c35934b668ba43f0729fdf7df53b30c6721ba8f2"
  },
  "kernelspec": {
   "display_name": "Python 3.9.12 64-bit (windows store)",
   "language": "python",
   "name": "python3"
  },
  "language_info": {
   "codemirror_mode": {
    "name": "ipython",
    "version": 3
   },
   "file_extension": ".py",
   "mimetype": "text/x-python",
   "name": "python",
   "nbconvert_exporter": "python",
   "pygments_lexer": "ipython3",
   "version": "3.9.13"
  },
  "orig_nbformat": 4
 },
 "nbformat": 4,
 "nbformat_minor": 2
}
